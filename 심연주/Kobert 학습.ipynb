{
  "cells": [
    {
      "cell_type": "code",
      "execution_count": null,
      "metadata": {
        "colab": {
          "base_uri": "https://localhost:8080/"
        },
        "id": "lUHePoZttgS-",
        "outputId": "f0bf498c-5c4c-484b-fff9-708ac670db37"
      },
      "outputs": [
        {
          "name": "stdout",
          "output_type": "stream",
          "text": [
            "Drive already mounted at /content/drive; to attempt to forcibly remount, call drive.mount(\"/content/drive\", force_remount=True).\n"
          ]
        }
      ],
      "source": [
        "from google.colab import drive\n",
        "drive.mount('/content/drive')"
      ],
      "id": "lUHePoZttgS-"
    },
    {
      "cell_type": "code",
      "execution_count": null,
      "metadata": {
        "colab": {
          "base_uri": "https://localhost:8080/"
        },
        "id": "6X5xr0ZUuPb4",
        "outputId": "0b88a87b-fd37-4ae8-8bb4-3275a7a6560a"
      },
      "outputs": [
        {
          "name": "stdout",
          "output_type": "stream",
          "text": [
            "Sun Dec 26 19:02:32 2021       \n",
            "+-----------------------------------------------------------------------------+\n",
            "| NVIDIA-SMI 460.32.03    Driver Version: 460.32.03    CUDA Version: 11.2     |\n",
            "|-------------------------------+----------------------+----------------------+\n",
            "| GPU  Name        Persistence-M| Bus-Id        Disp.A | Volatile Uncorr. ECC |\n",
            "| Fan  Temp  Perf  Pwr:Usage/Cap|         Memory-Usage | GPU-Util  Compute M. |\n",
            "|                               |                      |               MIG M. |\n",
            "|===============================+======================+======================|\n",
            "|   0  Tesla K80           Off  | 00000000:00:04.0 Off |                    0 |\n",
            "| N/A   34C    P8    29W / 149W |      0MiB / 11441MiB |      0%      Default |\n",
            "|                               |                      |                  N/A |\n",
            "+-------------------------------+----------------------+----------------------+\n",
            "                                                                               \n",
            "+-----------------------------------------------------------------------------+\n",
            "| Processes:                                                                  |\n",
            "|  GPU   GI   CI        PID   Type   Process name                  GPU Memory |\n",
            "|        ID   ID                                                   Usage      |\n",
            "|=============================================================================|\n",
            "|  No running processes found                                                 |\n",
            "+-----------------------------------------------------------------------------+\n"
          ]
        }
      ],
      "source": [
        "!nvidia-smi"
      ],
      "id": "6X5xr0ZUuPb4"
    },
    {
      "cell_type": "code",
      "execution_count": null,
      "metadata": {
        "colab": {
          "base_uri": "https://localhost:8080/"
        },
        "id": "RhSRfSDyu34W",
        "outputId": "041bd893-2d52-4c60-d77c-8d36f37b1792"
      },
      "outputs": [
        {
          "data": {
            "text/plain": [
              "[name: \"/device:CPU:0\"\n",
              " device_type: \"CPU\"\n",
              " memory_limit: 268435456\n",
              " locality {\n",
              " }\n",
              " incarnation: 16280356804607292780\n",
              " xla_global_id: -1, name: \"/device:GPU:0\"\n",
              " device_type: \"GPU\"\n",
              " memory_limit: 11320098816\n",
              " locality {\n",
              "   bus_id: 1\n",
              "   links {\n",
              "   }\n",
              " }\n",
              " incarnation: 6327530176811494233\n",
              " physical_device_desc: \"device: 0, name: Tesla K80, pci bus id: 0000:00:04.0, compute capability: 3.7\"\n",
              " xla_global_id: 416903419]"
            ]
          },
          "execution_count": 5,
          "metadata": {},
          "output_type": "execute_result"
        }
      ],
      "source": [
        "from tensorflow.python.client import device_lib\n",
        "device_lib.list_local_devices()"
      ],
      "id": "RhSRfSDyu34W"
    },
    {
      "cell_type": "code",
      "execution_count": null,
      "metadata": {
        "id": "86f42e16"
      },
      "outputs": [],
      "source": [
        "import pandas as pd\n",
        "import numpy as np"
      ],
      "id": "86f42e16"
    },
    {
      "cell_type": "code",
      "execution_count": null,
      "metadata": {
        "colab": {
          "base_uri": "https://localhost:8080/",
          "height": 146
        },
        "id": "64fd0a3d",
        "outputId": "e02687eb-b246-49f7-a09e-e59eb1f1762a"
      },
      "outputs": [
        {
          "data": {
            "application/vnd.google.colaboratory.intrinsic+json": {
              "type": "string"
            },
            "text/plain": [
              "'신혼부부위한 주택정책 보다 보육시설 늘려주세요.. 국민세금으로 일부를 위한 정책펴지 마시고\\\\n보편적으로 모든국민이 수긍할  수 있는 복지정책 펴 주시길 바랍니다.\\\\n저도 신혼부부이지만 당첨되는 사람 로또되는 이런주택정책 반대합니다.\\\\n국민세금을 일부 사람들에게 퍼주기식이 되면 안되죠..\\\\n그 세금으로 우리아이 안전하게 맡길 수 있는 보육시설을 전국에 설치해 주세요..\\\\n대기업들은 솔선수범해서 모든 사업장에 의무설치 할 수 있도록 하시구요..\\\\n집 보다 애 맡길데가 없어 경력단절 되는게 더 괴롭습니다.!\\\\n집은 개인의 능력을 키워 사는게 맞습니다.\\\\n그 능력을 키울수 있도록 육아 전담에 힘을 기울이는게 맞습니다.\\\\n우리아이 부모가 키우는거 맞지만 이제는 국가가\\\\n책임지는 시대로 가는게 맞다고 봅니다.\\\\n그렇잖아도 부동산 가격 자꾸 올라가는게 정부정책이 잘못 되었다고 봅니다.\\\\n부동산은 그냥 내버려 두세요!  좀!\\\\n건들수록 역효과네요..'"
            ]
          },
          "execution_count": 7,
          "metadata": {},
          "output_type": "execute_result"
        }
      ],
      "source": [
        "train = pd.read_csv('/content/drive/MyDrive/data/train.csv')\n",
        "test = pd.read_csv('/content/drive/MyDrive/data/test.csv')\n",
        "train['data'][0]"
      ],
      "id": "64fd0a3d"
    },
    {
      "cell_type": "markdown",
      "metadata": {
        "id": "d1b5506f"
      },
      "source": [
        "## 1. 전처리"
      ],
      "id": "d1b5506f"
    },
    {
      "cell_type": "code",
      "execution_count": null,
      "metadata": {
        "colab": {
          "base_uri": "https://localhost:8080/"
        },
        "id": "9505ef75",
        "outputId": "89fad0e6-5ac5-42f9-ee4e-d1b04dd9c1e7"
      },
      "outputs": [
        {
          "name": "stdout",
          "output_type": "stream",
          "text": [
            "<class 'pandas.core.frame.DataFrame'>\n",
            "Int64Index: 39992 entries, 0 to 39999\n",
            "Data columns (total 3 columns):\n",
            " #   Column    Non-Null Count  Dtype \n",
            "---  ------    --------------  ----- \n",
            " 0   index     39992 non-null  int64 \n",
            " 1   category  39992 non-null  int64 \n",
            " 2   data      39992 non-null  object\n",
            "dtypes: int64(2), object(1)\n",
            "memory usage: 1.2+ MB\n"
          ]
        }
      ],
      "source": [
        "train = train[train['data'].notnull()]\n",
        "train.info()"
      ],
      "id": "9505ef75"
    },
    {
      "cell_type": "code",
      "execution_count": null,
      "metadata": {
        "id": "e719aef2"
      },
      "outputs": [],
      "source": [
        "train['data'] = train['data'].str.replace(\"[^ㄱ-ㅎㅏ-ㅣ가-힣 ]\",\"\")\n",
        "test['data'] = test['data'].str.replace(\"[^ㄱ-ㅎㅏ-ㅣ가-힣 ]\",\"\")\n",
        "stopwords = ['의','가','이','은','들','는','좀','잘','걍',\n",
        "             '과','도','를','으로','자','에','와','한','하다','을',\n",
        "             '더','좀','자꾸','그냥','이제','우리']"
      ],
      "id": "e719aef2"
    },
    {
      "cell_type": "code",
      "execution_count": null,
      "metadata": {
        "colab": {
          "base_uri": "https://localhost:8080/",
          "height": 146
        },
        "id": "51305bc7",
        "outputId": "fad9b6a4-8609-4cd2-c349-e6aa9e98477e"
      },
      "outputs": [
        {
          "data": {
            "application/vnd.google.colaboratory.intrinsic+json": {
              "type": "string"
            },
            "text/plain": [
              "'신혼부부위한 주택정책 보다 보육시설 늘려주세요 국민세금으로 일부를 위한 정책펴지 마시고보편적으로 모든국민이 수긍할  수 있는 복지정책 펴 주시길 바랍니다저도 신혼부부이지만 당첨되는 사람 로또되는 이런주택정책 반대합니다국민세금을 일부 사람들에게 퍼주기식이 되면 안되죠그 세금으로 우리아이 안전하게 맡길 수 있는 보육시설을 전국에 설치해 주세요대기업들은 솔선수범해서 모든 사업장에 의무설치 할 수 있도록 하시구요집 보다 애 맡길데가 없어 경력단절 되는게 더 괴롭습니다집은 개인의 능력을 키워 사는게 맞습니다그 능력을 키울수 있도록 육아 전담에 힘을 기울이는게 맞습니다우리아이 부모가 키우는거 맞지만 이제는 국가가책임지는 시대로 가는게 맞다고 봅니다그렇잖아도 부동산 가격 자꾸 올라가는게 정부정책이 잘못 되었다고 봅니다부동산은 그냥 내버려 두세요  좀건들수록 역효과네요'"
            ]
          },
          "execution_count": 10,
          "metadata": {},
          "output_type": "execute_result"
        }
      ],
      "source": [
        "train['data'][0]"
      ],
      "id": "51305bc7"
    },
    {
      "cell_type": "markdown",
      "metadata": {
        "id": "da2a55e7"
      },
      "source": [
        "---"
      ],
      "id": "da2a55e7"
    },
    {
      "cell_type": "markdown",
      "metadata": {
        "id": "a98aad31"
      },
      "source": [
        "### keyword 뽑아내기\n",
        "1. ***명사 - nouns***\n",
        "2. 형태소(어간) - morphs\n",
        "- 긍/부정이 아니라 카테고리만 분류하는 것이므로 명사 뽑아내기"
      ],
      "id": "a98aad31"
    },
    {
      "cell_type": "code",
      "execution_count": null,
      "metadata": {
        "colab": {
          "base_uri": "https://localhost:8080/"
        },
        "id": "NhMcHMqRv_UQ",
        "outputId": "c1cce3e8-5ad9-4a15-d31a-ecdc57f64162"
      },
      "outputs": [
        {
          "name": "stdout",
          "output_type": "stream",
          "text": [
            "Collecting konlpy\n",
            "  Downloading konlpy-0.5.2-py2.py3-none-any.whl (19.4 MB)\n",
            "\u001b[K     |████████████████████████████████| 19.4 MB 1.4 MB/s \n",
            "\u001b[?25hRequirement already satisfied: numpy>=1.6 in /usr/local/lib/python3.7/dist-packages (from konlpy) (1.19.5)\n",
            "Collecting beautifulsoup4==4.6.0\n",
            "  Downloading beautifulsoup4-4.6.0-py3-none-any.whl (86 kB)\n",
            "\u001b[K     |████████████████████████████████| 86 kB 6.4 MB/s \n",
            "\u001b[?25hCollecting colorama\n",
            "  Downloading colorama-0.4.4-py2.py3-none-any.whl (16 kB)\n",
            "Requirement already satisfied: lxml>=4.1.0 in /usr/local/lib/python3.7/dist-packages (from konlpy) (4.2.6)\n",
            "Collecting JPype1>=0.7.0\n",
            "  Downloading JPype1-1.3.0-cp37-cp37m-manylinux_2_5_x86_64.manylinux1_x86_64.whl (448 kB)\n",
            "\u001b[K     |████████████████████████████████| 448 kB 33.4 MB/s \n",
            "\u001b[?25hRequirement already satisfied: tweepy>=3.7.0 in /usr/local/lib/python3.7/dist-packages (from konlpy) (3.10.0)\n",
            "Requirement already satisfied: typing-extensions in /usr/local/lib/python3.7/dist-packages (from JPype1>=0.7.0->konlpy) (3.10.0.2)\n",
            "Requirement already satisfied: requests[socks]>=2.11.1 in /usr/local/lib/python3.7/dist-packages (from tweepy>=3.7.0->konlpy) (2.23.0)\n",
            "Requirement already satisfied: six>=1.10.0 in /usr/local/lib/python3.7/dist-packages (from tweepy>=3.7.0->konlpy) (1.15.0)\n",
            "Requirement already satisfied: requests-oauthlib>=0.7.0 in /usr/local/lib/python3.7/dist-packages (from tweepy>=3.7.0->konlpy) (1.3.0)\n",
            "Requirement already satisfied: oauthlib>=3.0.0 in /usr/local/lib/python3.7/dist-packages (from requests-oauthlib>=0.7.0->tweepy>=3.7.0->konlpy) (3.1.1)\n",
            "Requirement already satisfied: certifi>=2017.4.17 in /usr/local/lib/python3.7/dist-packages (from requests[socks]>=2.11.1->tweepy>=3.7.0->konlpy) (2021.10.8)\n",
            "Requirement already satisfied: chardet<4,>=3.0.2 in /usr/local/lib/python3.7/dist-packages (from requests[socks]>=2.11.1->tweepy>=3.7.0->konlpy) (3.0.4)\n",
            "Requirement already satisfied: idna<3,>=2.5 in /usr/local/lib/python3.7/dist-packages (from requests[socks]>=2.11.1->tweepy>=3.7.0->konlpy) (2.10)\n",
            "Requirement already satisfied: urllib3!=1.25.0,!=1.25.1,<1.26,>=1.21.1 in /usr/local/lib/python3.7/dist-packages (from requests[socks]>=2.11.1->tweepy>=3.7.0->konlpy) (1.24.3)\n",
            "Requirement already satisfied: PySocks!=1.5.7,>=1.5.6 in /usr/local/lib/python3.7/dist-packages (from requests[socks]>=2.11.1->tweepy>=3.7.0->konlpy) (1.7.1)\n",
            "Installing collected packages: JPype1, colorama, beautifulsoup4, konlpy\n",
            "  Attempting uninstall: beautifulsoup4\n",
            "    Found existing installation: beautifulsoup4 4.6.3\n",
            "    Uninstalling beautifulsoup4-4.6.3:\n",
            "      Successfully uninstalled beautifulsoup4-4.6.3\n",
            "Successfully installed JPype1-1.3.0 beautifulsoup4-4.6.0 colorama-0.4.4 konlpy-0.5.2\n"
          ]
        }
      ],
      "source": [
        "!pip install konlpy"
      ],
      "id": "NhMcHMqRv_UQ"
    },
    {
      "cell_type": "code",
      "execution_count": null,
      "metadata": {
        "id": "7ee125bb"
      },
      "outputs": [],
      "source": [
        "from konlpy.tag import (Kkma, Okt)\n",
        "kkma = Kkma()\n",
        "okt = Okt()"
      ],
      "id": "7ee125bb"
    },
    {
      "cell_type": "code",
      "execution_count": null,
      "metadata": {
        "colab": {
          "base_uri": "https://localhost:8080/"
        },
        "id": "400da147",
        "outputId": "8849653c-5030-4917-9980-e4519088f9a1"
      },
      "outputs": [
        {
          "name": "stdout",
          "output_type": "stream",
          "text": [
            "['신혼부부', '위', '한', '주택', '정책', '보다', '보육', '시설', '늘려주세요', '..', '국민', '세금', '으로', '일부', '를', '위', '한', '정책', '펴지', '마시고', '\\\\', 'n', '보편', '적', '으로', '모든', '국민', '이', '수긍', '할', '수', '있는', '복지', '정책', '펴', '주시길', '바랍니다', '.\\\\', 'n', '저', '도', '신혼부부', '이지만', '당첨', '되는', '사람', '로또', '되는', '이런', '주택', '정책', '반대', '합니다', '.\\\\', 'n', '국민', '세금', '을', '일부', '사람', '들', '에게', '퍼', '주기', '식이', '되면', '안되죠', '..\\\\', 'n', '그', '세금', '으로', '우리', '아이', '안전하게', '맡길', '수', '있는', '보육', '시설', '을', '전국', '에', '설치', '해', '주세요', '..\\\\', 'n', '대기업', '들', '은', '솔선수범', '해서', '모든', '사업', '장', '에', '의무', '설치', '할', '수', '있도록', '하시구요', '..\\\\', 'n', '집', '보다', '애', '맡길데가', '없어', '경력', '단절', '되는게', '더', '괴롭습니다', '.!\\\\', 'n', '집은', '개인', '의', '능력', '을', '키워', '사는게', '맞습니다', '.\\\\', 'n', '그', '능력', '을', '키울수', '있도록', '육아', '전담', '에', '힘', '을', '기울이는게', '맞습니다', '.\\\\', 'n', '우리', '아이', '부모', '가', '키우는거', '맞지만', '이제', '는', '국가', '가', '\\\\', 'n', '책임지는', '시대', '로', '가는게', '맞다고', '봅니다', '.\\\\', 'n', '그렇잖아도', '부동산', '가격', '자꾸', '올라가는게', '정부', '정책', '이', '잘못', '되었다고', '봅니다', '.\\\\', 'n', '부동산', '은', '그냥', '내버려', '두세요', '!', '좀', '!\\\\', 'n', '건들', '수록', '역효과', '네', '요', '..']\n"
          ]
        }
      ],
      "source": [
        "print(okt.morphs(train['data'][0]))"
      ],
      "id": "400da147"
    },
    {
      "cell_type": "code",
      "execution_count": null,
      "metadata": {
        "colab": {
          "base_uri": "https://localhost:8080/"
        },
        "id": "1872e328",
        "outputId": "600704bf-88ca-4ac7-89bf-05a8bb951e14"
      },
      "outputs": [
        {
          "name": "stdout",
          "output_type": "stream",
          "text": [
            "['신혼부부', '신혼부부위', '위', '주택', '주택정책', '정책', '보육', '보육시설', '시설', '주세', '국민', '국민세금', '세금', '일부', '보편적', '수긍', '수', '복지', '복지정책', '신혼부부이지만', '이지만', '당첨', '사람', '로또', '반대', '주기', '주기식이', '식이', '우리', '아이', '안전', '전국', '설치', '대기업', '솔선수범', '사업장', '의무', '의무설치', '집', '애', '데', '경력', '경력단절', '단절', '개인', '능력', '육아', '전담', '힘', '부모', '거', '이제', '국가', '시대', '부동산', '가격', '정부', '정부정책', '수록', '역', '역효과', '효과']\n"
          ]
        }
      ],
      "source": [
        "print(kkma.nouns(train['data'][0]))"
      ],
      "id": "1872e328"
    },
    {
      "cell_type": "code",
      "execution_count": null,
      "metadata": {
        "colab": {
          "base_uri": "https://localhost:8080/"
        },
        "id": "eadab879",
        "outputId": "cfdc1f06-5e04-4a17-f401-bd73d5e3e1eb",
        "scrolled": true
      },
      "outputs": [
        {
          "name": "stdout",
          "output_type": "stream",
          "text": [
            "['신혼부부', '위', '주택', '정책', '보육', '시설', '국민', '세금', '일부', '위', '정책', '보편', '국민', '수긍', '수', '복지', '정책', '저', '신혼부부', '당첨', '사람', '로또', '주택', '정책', '반대', '국민', '세금', '일부', '사람', '퍼', '주기', '식이', '그', '세금', '우리', '아이', '수', '보육', '시설', '전국', '설치', '대기업', '솔선수범', '모든', '사업', '의무', '설치', '수', '집', '애', '경력', '단절', '더', '개인', '능력', '그', '능력', '육아', '전담', '힘', '우리', '아이', '부모', '이제', '국가', '시대', '부동산', '가격', '자꾸', '정부', '정책', '잘못', '부동산', '그냥', '좀', '수록', '역효과']\n"
          ]
        }
      ],
      "source": [
        "print(okt.nouns(train['data'][0])) # 선택"
      ],
      "id": "eadab879"
    },
    {
      "cell_type": "code",
      "execution_count": null,
      "metadata": {
        "colab": {
          "base_uri": "https://localhost:8080/"
        },
        "id": "6ccfc8e9",
        "outputId": "4fb98994-e85e-4181-e608-b6c7a685483b"
      },
      "outputs": [
        {
          "name": "stdout",
          "output_type": "stream",
          "text": [
            "Counter({'정책': 5, '국민': 3, '세금': 3, '수': 3, '신혼부부': 2, '위': 2, '주택': 2, '보육': 2, '시설': 2, '일부': 2, '사람': 2, '우리': 2, '아이': 2, '설치': 2, '능력': 2, '부동산': 2, '보편': 1, '수긍': 1, '복지': 1, '도': 1, '당첨': 1, '로또': 1, '반대': 1, '퍼': 1, '주기': 1, '식이': 1, '전국': 1, '대기업': 1, '솔선수범': 1, '모든': 1, '사업': 1, '의무': 1, '집': 1, '애': 1, '경력': 1, '단절': 1, '더': 1, '개인': 1, '육아': 1, '전담': 1, '힘': 1, '부모': 1, '이제': 1, '국가': 1, '시대': 1, '가격': 1, '자꾸': 1, '정부': 1, '잘못': 1, '그냥': 1, '좀': 1, '수록': 1, '역효과': 1})\n"
          ]
        }
      ],
      "source": [
        "from collections import Counter\n",
        "print(Counter(okt.nouns(train['data'][0])))"
      ],
      "id": "6ccfc8e9"
    },
    {
      "cell_type": "code",
      "execution_count": null,
      "metadata": {
        "colab": {
          "base_uri": "https://localhost:8080/",
          "height": 418
        },
        "id": "3fca68fe",
        "outputId": "c0049864-9724-4c5e-b1e7-24c48a22e11c"
      },
      "outputs": [
        {
          "name": "stderr",
          "output_type": "stream",
          "text": [
            " 13%|█▎        | 5000/39992 [06:35<46:09, 12.64it/s]\n"
          ]
        },
        {
          "ename": "KeyboardInterrupt",
          "evalue": "ignored",
          "output_type": "error",
          "traceback": [
            "\u001b[0;31m---------------------------------------------------------------------------\u001b[0m",
            "\u001b[0;31mKeyboardInterrupt\u001b[0m                         Traceback (most recent call last)",
            "\u001b[0;32m<ipython-input-23-be794188cb2b>\u001b[0m in \u001b[0;36m<module>\u001b[0;34m()\u001b[0m\n\u001b[1;32m      4\u001b[0m \u001b[0;32mfor\u001b[0m \u001b[0msentence\u001b[0m\u001b[0;34m,\u001b[0m\u001b[0mi\u001b[0m \u001b[0;32min\u001b[0m \u001b[0mzip\u001b[0m\u001b[0;34m(\u001b[0m\u001b[0mtrain\u001b[0m\u001b[0;34m[\u001b[0m\u001b[0;34m'data'\u001b[0m\u001b[0;34m]\u001b[0m\u001b[0;34m,\u001b[0m\u001b[0mtqdm\u001b[0m\u001b[0;34m(\u001b[0m\u001b[0mrange\u001b[0m\u001b[0;34m(\u001b[0m\u001b[0mlen\u001b[0m\u001b[0;34m(\u001b[0m\u001b[0mtrain\u001b[0m\u001b[0;34m[\u001b[0m\u001b[0;34m'data'\u001b[0m\u001b[0;34m]\u001b[0m\u001b[0;34m)\u001b[0m\u001b[0;34m)\u001b[0m\u001b[0;34m)\u001b[0m\u001b[0;34m)\u001b[0m\u001b[0;34m:\u001b[0m\u001b[0;34m\u001b[0m\u001b[0;34m\u001b[0m\u001b[0m\n\u001b[1;32m      5\u001b[0m     \u001b[0mtemp_X\u001b[0m \u001b[0;34m=\u001b[0m \u001b[0;34m[\u001b[0m\u001b[0;34m]\u001b[0m\u001b[0;34m\u001b[0m\u001b[0;34m\u001b[0m\u001b[0m\n\u001b[0;32m----> 6\u001b[0;31m     \u001b[0mtemp_X\u001b[0m \u001b[0;34m=\u001b[0m \u001b[0mokt\u001b[0m\u001b[0;34m.\u001b[0m\u001b[0mnouns\u001b[0m\u001b[0;34m(\u001b[0m\u001b[0msentence\u001b[0m\u001b[0;34m)\u001b[0m \u001b[0;31m# 토큰화\u001b[0m\u001b[0;34m\u001b[0m\u001b[0;34m\u001b[0m\u001b[0m\n\u001b[0m\u001b[1;32m      7\u001b[0m     \u001b[0mtemp_X\u001b[0m \u001b[0;34m=\u001b[0m \u001b[0;34m[\u001b[0m\u001b[0mword\u001b[0m \u001b[0;32mfor\u001b[0m \u001b[0mword\u001b[0m \u001b[0;32min\u001b[0m \u001b[0mtemp_X\u001b[0m \u001b[0;32mif\u001b[0m \u001b[0;32mnot\u001b[0m \u001b[0mword\u001b[0m \u001b[0;32min\u001b[0m \u001b[0mstopwords\u001b[0m\u001b[0;34m]\u001b[0m \u001b[0;31m# 불용어 제거\u001b[0m\u001b[0;34m\u001b[0m\u001b[0;34m\u001b[0m\u001b[0m\n\u001b[1;32m      8\u001b[0m     \u001b[0mtemp_X\u001b[0m \u001b[0;34m=\u001b[0m \u001b[0;34m[\u001b[0m\u001b[0mword\u001b[0m \u001b[0;32mfor\u001b[0m \u001b[0mword\u001b[0m \u001b[0;32min\u001b[0m \u001b[0mtemp_X\u001b[0m \u001b[0;32mif\u001b[0m \u001b[0mlen\u001b[0m\u001b[0;34m(\u001b[0m\u001b[0mword\u001b[0m\u001b[0;34m)\u001b[0m \u001b[0;34m>\u001b[0m \u001b[0;36m1\u001b[0m\u001b[0;34m]\u001b[0m\u001b[0;34m\u001b[0m\u001b[0;34m\u001b[0m\u001b[0m\n",
            "\u001b[0;32m/usr/local/lib/python3.7/dist-packages/konlpy/tag/_okt.py\u001b[0m in \u001b[0;36mnouns\u001b[0;34m(self, phrase)\u001b[0m\n\u001b[1;32m     70\u001b[0m         \u001b[0;34m\"\"\"Noun extractor.\"\"\"\u001b[0m\u001b[0;34m\u001b[0m\u001b[0;34m\u001b[0m\u001b[0m\n\u001b[1;32m     71\u001b[0m \u001b[0;34m\u001b[0m\u001b[0m\n\u001b[0;32m---> 72\u001b[0;31m         \u001b[0mtagged\u001b[0m \u001b[0;34m=\u001b[0m \u001b[0mself\u001b[0m\u001b[0;34m.\u001b[0m\u001b[0mpos\u001b[0m\u001b[0;34m(\u001b[0m\u001b[0mphrase\u001b[0m\u001b[0;34m)\u001b[0m\u001b[0;34m\u001b[0m\u001b[0;34m\u001b[0m\u001b[0m\n\u001b[0m\u001b[1;32m     73\u001b[0m         \u001b[0;32mreturn\u001b[0m \u001b[0;34m[\u001b[0m\u001b[0ms\u001b[0m \u001b[0;32mfor\u001b[0m \u001b[0ms\u001b[0m\u001b[0;34m,\u001b[0m \u001b[0mt\u001b[0m \u001b[0;32min\u001b[0m \u001b[0mtagged\u001b[0m \u001b[0;32mif\u001b[0m \u001b[0mt\u001b[0m \u001b[0;34m==\u001b[0m \u001b[0;34m'Noun'\u001b[0m\u001b[0;34m]\u001b[0m\u001b[0;34m\u001b[0m\u001b[0;34m\u001b[0m\u001b[0m\n\u001b[1;32m     74\u001b[0m \u001b[0;34m\u001b[0m\u001b[0m\n",
            "\u001b[0;32m/usr/local/lib/python3.7/dist-packages/konlpy/tag/_okt.py\u001b[0m in \u001b[0;36mpos\u001b[0;34m(self, phrase, norm, stem, join)\u001b[0m\n\u001b[1;32m     61\u001b[0m                     \u001b[0mphrase\u001b[0m\u001b[0;34m,\u001b[0m\u001b[0;34m\u001b[0m\u001b[0;34m\u001b[0m\u001b[0m\n\u001b[1;32m     62\u001b[0m                     \u001b[0mjpype\u001b[0m\u001b[0;34m.\u001b[0m\u001b[0mjava\u001b[0m\u001b[0;34m.\u001b[0m\u001b[0mlang\u001b[0m\u001b[0;34m.\u001b[0m\u001b[0mBoolean\u001b[0m\u001b[0;34m(\u001b[0m\u001b[0mnorm\u001b[0m\u001b[0;34m)\u001b[0m\u001b[0;34m,\u001b[0m\u001b[0;34m\u001b[0m\u001b[0;34m\u001b[0m\u001b[0m\n\u001b[0;32m---> 63\u001b[0;31m                     jpype.java.lang.Boolean(stem)).toArray()\n\u001b[0m\u001b[1;32m     64\u001b[0m         \u001b[0;32mif\u001b[0m \u001b[0mjoin\u001b[0m\u001b[0;34m:\u001b[0m\u001b[0;34m\u001b[0m\u001b[0;34m\u001b[0m\u001b[0m\n\u001b[1;32m     65\u001b[0m             \u001b[0;32mreturn\u001b[0m \u001b[0;34m[\u001b[0m\u001b[0mt\u001b[0m \u001b[0;32mfor\u001b[0m \u001b[0mt\u001b[0m \u001b[0;32min\u001b[0m \u001b[0mtokens\u001b[0m\u001b[0;34m]\u001b[0m\u001b[0;34m\u001b[0m\u001b[0;34m\u001b[0m\u001b[0m\n",
            "\u001b[0;31mKeyboardInterrupt\u001b[0m: "
          ]
        }
      ],
      "source": [
        "# 저장한 X_test, X_train 불러옴\n",
        "\n",
        "from tqdm import tqdm\n",
        "\n",
        "X_train = []\n",
        "for sentence,i in zip(train['data'],tqdm(range(len(train['data'])))):\n",
        "    temp_X = []\n",
        "    temp_X = okt.nouns(sentence) # 토큰화\n",
        "    temp_X = [word for word in temp_X if not word in stopwords] # 불용어 제거\n",
        "    temp_X = [word for word in temp_X if len(word) > 1]\n",
        "    X_train.append(temp_X)"
      ],
      "id": "3fca68fe"
    },
    {
      "cell_type": "code",
      "execution_count": null,
      "metadata": {
        "id": "c6cc768c",
        "scrolled": true
      },
      "outputs": [],
      "source": [
        "X_test = []\n",
        "\n",
        "for sentence,i in zip(test['data'],tqdm(range(len(test['data'])))):\n",
        "    temp_X = []\n",
        "    temp_X = okt.nouns(sentence) # 토큰화\n",
        "    temp_X = [word for word in temp_X if not word in stopwords] # 불용어 제거\n",
        "    temp_X = [word for word in temp_X if len(word) > 1]\n",
        "    X_test.append(temp_X)"
      ],
      "id": "c6cc768c"
    },
    {
      "cell_type": "code",
      "execution_count": null,
      "metadata": {
        "colab": {
          "base_uri": "https://localhost:8080/"
        },
        "id": "XcjamVczx8nY",
        "outputId": "fa76feed-74cf-4eb9-dc10-a5537e9a4756"
      },
      "outputs": [
        {
          "data": {
            "text/plain": [
              "<function TextIOWrapper.close>"
            ]
          },
          "execution_count": 5,
          "metadata": {},
          "output_type": "execute_result"
        }
      ],
      "source": [
        "import csv\n",
        "X_test = list()\n",
        "\n",
        "f = open(\"/content/drive/MyDrive/data/X_test.csv\",'r',encoding='cp949')\n",
        "rea = csv.reader(f)\n",
        "for row in rea:\n",
        "    X_test.append(row)\n",
        "f.close"
      ],
      "id": "XcjamVczx8nY"
    },
    {
      "cell_type": "code",
      "execution_count": null,
      "metadata": {
        "colab": {
          "base_uri": "https://localhost:8080/"
        },
        "id": "smxwfpwbzCBU",
        "outputId": "6fd09694-4fa3-46bc-ab93-a8d56f1c0a3f"
      },
      "outputs": [
        {
          "data": {
            "text/plain": [
              "5000"
            ]
          },
          "execution_count": 6,
          "metadata": {},
          "output_type": "execute_result"
        }
      ],
      "source": [
        "len(X_test)"
      ],
      "id": "smxwfpwbzCBU"
    },
    {
      "cell_type": "code",
      "execution_count": null,
      "metadata": {
        "colab": {
          "base_uri": "https://localhost:8080/"
        },
        "id": "sS5VY0F6zHVr",
        "outputId": "612d2c08-e756-4a4f-a79e-f5aada858194"
      },
      "outputs": [
        {
          "data": {
            "text/plain": [
              "<function TextIOWrapper.close>"
            ]
          },
          "execution_count": 7,
          "metadata": {},
          "output_type": "execute_result"
        }
      ],
      "source": [
        "import csv\n",
        "X_train = list()\n",
        "\n",
        "f = open(\"/content/drive/MyDrive/data/X_train.csv\",'r',encoding='cp949')\n",
        "rea = csv.reader(f)\n",
        "for row in rea:\n",
        "    X_train.append(row)\n",
        "f.close"
      ],
      "id": "sS5VY0F6zHVr"
    },
    {
      "cell_type": "code",
      "execution_count": null,
      "metadata": {
        "colab": {
          "base_uri": "https://localhost:8080/"
        },
        "id": "TocCJ6NL1sWV",
        "outputId": "165c489d-6d46-4414-bb70-43871a8a4c62"
      },
      "outputs": [
        {
          "data": {
            "text/plain": [
              "39992"
            ]
          },
          "execution_count": 8,
          "metadata": {},
          "output_type": "execute_result"
        }
      ],
      "source": [
        "len(X_train)"
      ],
      "id": "TocCJ6NL1sWV"
    },
    {
      "cell_type": "code",
      "execution_count": null,
      "metadata": {
        "colab": {
          "base_uri": "https://localhost:8080/"
        },
        "id": "m6OuNo8F1uwH",
        "outputId": "665abf39-81ec-49c0-cacf-2a9504f96afa"
      },
      "outputs": [
        {
          "name": "stdout",
          "output_type": "stream",
          "text": [
            "[['신혼부부', '주택', '정책', '보육', '시설', '국민', '세금', '일부', '정책', '보편', '국민', '수긍', '복지', '정책', '신혼부부', '당첨', '사람', '로또', '주택', '정책', '반대', '국민', '세금', '일부', '사람', '주기', '식이', '세금', '아이', '보육', '시설', '전국', '설치', '대기업', '솔선수범', '모든', '사업', '의무', '설치', '경력', '단절', '개인', '능력', '능력', '육아', '전담', '아이', '부모', '국가', '시대', '부동산', '가격', '정부', '정책', '잘못', '부동산', '수록', '역효과'], ['학교', '이름', '남자', '울산', '여자', '중학교', '재학', '학생', '최근', '양성평등', '글짓기', '생각', '울산', '울산', '중학교', '개입', '하나', '남중', '하나', '여중', '어째서', '학교', '여자', '남자', '우위', '학교', '울산', '중학교', '남중', '남자', '산남', '중학교', '평소', '학교', '이름', '학교', '여중', '남중', '동안', '현실', '지금', '조선시대', '국내', '학교', '널렸습니', '울산', '국내', '다른', '고등학교', '문제', '해결']]\n"
          ]
        }
      ],
      "source": [
        "print(X_train[:2])"
      ],
      "id": "m6OuNo8F1uwH"
    },
    {
      "cell_type": "markdown",
      "metadata": {
        "id": "087787fb"
      },
      "source": [
        "---"
      ],
      "id": "087787fb"
    },
    {
      "cell_type": "markdown",
      "metadata": {
        "id": "830da942"
      },
      "source": [
        "Tokenizer\n",
        "- num_words : 단어 빈도가 많은 순서로 num_words개의 단어를 보존"
      ],
      "id": "830da942"
    },
    {
      "cell_type": "code",
      "execution_count": null,
      "metadata": {
        "id": "932d550d"
      },
      "outputs": [],
      "source": [
        "/content/drive/MyDrive/data/\n"
      ],
      "id": "932d550d"
    },
    {
      "cell_type": "markdown",
      "metadata": {
        "id": "92f6c037"
      },
      "source": [
        "---"
      ],
      "id": "92f6c037"
    },
    {
      "cell_type": "code",
      "execution_count": null,
      "metadata": {
        "colab": {
          "base_uri": "https://localhost:8080/",
          "height": 35
        },
        "id": "626f8472",
        "outputId": "93a4f7f6-4116-4abb-e712-e9502263bf43"
      },
      "outputs": [
        {
          "data": {
            "application/vnd.google.colaboratory.intrinsic+json": {
              "type": "string"
            },
            "text/plain": [
              "'/content'"
            ]
          },
          "execution_count": 19,
          "metadata": {},
          "output_type": "execute_result"
        }
      ],
      "source": [
        "import os\n",
        "\n",
        "os.getcwd()"
      ],
      "id": "626f8472"
    },
    {
      "cell_type": "code",
      "execution_count": null,
      "metadata": {
        "colab": {
          "base_uri": "https://localhost:8080/",
          "height": 35
        },
        "id": "J5wb7dSh3BU4",
        "outputId": "ff0446d3-0a80-47a3-836e-cb246071d2e8"
      },
      "outputs": [
        {
          "data": {
            "application/vnd.google.colaboratory.intrinsic+json": {
              "type": "string"
            },
            "text/plain": [
              "'/content/drive/MyDrive/data/KoBERT-master'"
            ]
          },
          "execution_count": 20,
          "metadata": {},
          "output_type": "execute_result"
        }
      ],
      "source": [
        "os.chdir('/content/drive/MyDrive/data/KoBERT-master')\n",
        "os.getcwd()"
      ],
      "id": "J5wb7dSh3BU4"
    },
    {
      "cell_type": "code",
      "execution_count": null,
      "metadata": {
        "colab": {
          "base_uri": "https://localhost:8080/"
        },
        "id": "82d20612",
        "outputId": "d1aa8487-475b-496a-c7e3-d3c0ef3b5ae8"
      },
      "outputs": [
        {
          "name": "stdout",
          "output_type": "stream",
          "text": [
            "Requirement already satisfied: boto3 in /usr/local/lib/python3.7/dist-packages (from -r requirements.txt (line 1)) (1.20.26)\n",
            "Requirement already satisfied: gluonnlp>=0.6.0 in /usr/local/lib/python3.7/dist-packages (from -r requirements.txt (line 2)) (0.10.0)\n",
            "Requirement already satisfied: mxnet>=1.4.0 in /usr/local/lib/python3.7/dist-packages (from -r requirements.txt (line 3)) (1.9.0)\n",
            "Requirement already satisfied: onnxruntime==0.3.0 in /usr/local/lib/python3.7/dist-packages (from -r requirements.txt (line 4)) (0.3.0)\n",
            "Requirement already satisfied: sentencepiece>=0.1.6 in /usr/local/lib/python3.7/dist-packages (from -r requirements.txt (line 5)) (0.1.96)\n",
            "Requirement already satisfied: torch>=1.7.0 in /usr/local/lib/python3.7/dist-packages (from -r requirements.txt (line 6)) (1.10.0+cu111)\n",
            "Requirement already satisfied: transformers>=4.8.1 in /usr/local/lib/python3.7/dist-packages (from -r requirements.txt (line 7)) (4.15.0)\n",
            "Requirement already satisfied: numpy>=1.16.0 in /usr/local/lib/python3.7/dist-packages (from gluonnlp>=0.6.0->-r requirements.txt (line 2)) (1.19.5)\n",
            "Requirement already satisfied: packaging in /usr/local/lib/python3.7/dist-packages (from gluonnlp>=0.6.0->-r requirements.txt (line 2)) (21.3)\n",
            "Requirement already satisfied: cython in /usr/local/lib/python3.7/dist-packages (from gluonnlp>=0.6.0->-r requirements.txt (line 2)) (0.29.24)\n",
            "Requirement already satisfied: requests<3,>=2.20.0 in /usr/local/lib/python3.7/dist-packages (from mxnet>=1.4.0->-r requirements.txt (line 3)) (2.23.0)\n",
            "Requirement already satisfied: graphviz<0.9.0,>=0.8.1 in /usr/local/lib/python3.7/dist-packages (from mxnet>=1.4.0->-r requirements.txt (line 3)) (0.8.4)\n",
            "Requirement already satisfied: typing-extensions in /usr/local/lib/python3.7/dist-packages (from torch>=1.7.0->-r requirements.txt (line 6)) (3.10.0.2)\n",
            "Requirement already satisfied: filelock in /usr/local/lib/python3.7/dist-packages (from transformers>=4.8.1->-r requirements.txt (line 7)) (3.4.0)\n",
            "Requirement already satisfied: tqdm>=4.27 in /usr/local/lib/python3.7/dist-packages (from transformers>=4.8.1->-r requirements.txt (line 7)) (4.62.3)\n",
            "Requirement already satisfied: sacremoses in /usr/local/lib/python3.7/dist-packages (from transformers>=4.8.1->-r requirements.txt (line 7)) (0.0.46)\n",
            "Requirement already satisfied: importlib-metadata in /usr/local/lib/python3.7/dist-packages (from transformers>=4.8.1->-r requirements.txt (line 7)) (4.8.2)\n",
            "Requirement already satisfied: tokenizers<0.11,>=0.10.1 in /usr/local/lib/python3.7/dist-packages (from transformers>=4.8.1->-r requirements.txt (line 7)) (0.10.3)\n",
            "Requirement already satisfied: pyyaml>=5.1 in /usr/local/lib/python3.7/dist-packages (from transformers>=4.8.1->-r requirements.txt (line 7)) (6.0)\n",
            "Requirement already satisfied: regex!=2019.12.17 in /usr/local/lib/python3.7/dist-packages (from transformers>=4.8.1->-r requirements.txt (line 7)) (2019.12.20)\n",
            "Requirement already satisfied: huggingface-hub<1.0,>=0.1.0 in /usr/local/lib/python3.7/dist-packages (from transformers>=4.8.1->-r requirements.txt (line 7)) (0.2.1)\n",
            "Requirement already satisfied: pyparsing!=3.0.5,>=2.0.2 in /usr/local/lib/python3.7/dist-packages (from packaging->gluonnlp>=0.6.0->-r requirements.txt (line 2)) (3.0.6)\n",
            "Requirement already satisfied: urllib3!=1.25.0,!=1.25.1,<1.26,>=1.21.1 in /usr/local/lib/python3.7/dist-packages (from requests<3,>=2.20.0->mxnet>=1.4.0->-r requirements.txt (line 3)) (1.25.11)\n",
            "Requirement already satisfied: chardet<4,>=3.0.2 in /usr/local/lib/python3.7/dist-packages (from requests<3,>=2.20.0->mxnet>=1.4.0->-r requirements.txt (line 3)) (3.0.4)\n",
            "Requirement already satisfied: certifi>=2017.4.17 in /usr/local/lib/python3.7/dist-packages (from requests<3,>=2.20.0->mxnet>=1.4.0->-r requirements.txt (line 3)) (2021.10.8)\n",
            "Requirement already satisfied: idna<3,>=2.5 in /usr/local/lib/python3.7/dist-packages (from requests<3,>=2.20.0->mxnet>=1.4.0->-r requirements.txt (line 3)) (2.10)\n",
            "Requirement already satisfied: s3transfer<0.6.0,>=0.5.0 in /usr/local/lib/python3.7/dist-packages (from boto3->-r requirements.txt (line 1)) (0.5.0)\n",
            "Requirement already satisfied: botocore<1.24.0,>=1.23.26 in /usr/local/lib/python3.7/dist-packages (from boto3->-r requirements.txt (line 1)) (1.23.26)\n",
            "Requirement already satisfied: jmespath<1.0.0,>=0.7.1 in /usr/local/lib/python3.7/dist-packages (from boto3->-r requirements.txt (line 1)) (0.10.0)\n",
            "Requirement already satisfied: python-dateutil<3.0.0,>=2.1 in /usr/local/lib/python3.7/dist-packages (from botocore<1.24.0,>=1.23.26->boto3->-r requirements.txt (line 1)) (2.8.2)\n",
            "Requirement already satisfied: six>=1.5 in /usr/local/lib/python3.7/dist-packages (from python-dateutil<3.0.0,>=2.1->botocore<1.24.0,>=1.23.26->boto3->-r requirements.txt (line 1)) (1.15.0)\n",
            "Requirement already satisfied: zipp>=0.5 in /usr/local/lib/python3.7/dist-packages (from importlib-metadata->transformers>=4.8.1->-r requirements.txt (line 7)) (3.6.0)\n",
            "Requirement already satisfied: joblib in /usr/local/lib/python3.7/dist-packages (from sacremoses->transformers>=4.8.1->-r requirements.txt (line 7)) (1.1.0)\n",
            "Requirement already satisfied: click in /usr/local/lib/python3.7/dist-packages (from sacremoses->transformers>=4.8.1->-r requirements.txt (line 7)) (7.1.2)\n"
          ]
        }
      ],
      "source": [
        "pip install -r requirements.txt"
      ],
      "id": "82d20612"
    },
    {
      "cell_type": "code",
      "execution_count": null,
      "metadata": {
        "colab": {
          "base_uri": "https://localhost:8080/"
        },
        "id": "jXcCK-SA3UYz",
        "outputId": "b2acf9a6-3bb1-47a9-d08f-455e02e34b94"
      },
      "outputs": [
        {
          "name": "stdout",
          "output_type": "stream",
          "text": [
            "\u001b[31mERROR: Directory '.' is not installable. Neither 'setup.py' nor 'pyproject.toml' found.\u001b[0m\n"
          ]
        }
      ],
      "source": [
        "pip install ."
      ],
      "id": "jXcCK-SA3UYz"
    },
    {
      "cell_type": "code",
      "execution_count": null,
      "metadata": {
        "id": "KpuTOny5366j"
      },
      "outputs": [],
      "source": [
        "import torch\n",
        "from torch import nn\n",
        "import torch.nn.functional as F\n",
        "import torch.optim as optim\n",
        "from torch.utils.data import Dataset, DataLoader\n",
        "import gluonnlp as nlp\n",
        "import numpy as np\n",
        "from tqdm import tqdm, tqdm_notebook\n",
        "from kobert.utils import get_tokenizer\n",
        "from kobert.pytorch_kobert import get_pytorch_kobert_model\n",
        "from transformers import AdamW\n",
        "from transformers.optimization import get_cosine_schedule_with_warmup"
      ],
      "id": "KpuTOny5366j"
    },
    {
      "cell_type": "code",
      "execution_count": null,
      "metadata": {
        "id": "RuRlZJpf4Inf"
      },
      "outputs": [],
      "source": [
        "device = torch.device(\"cuda:0\")"
      ],
      "id": "RuRlZJpf4Inf"
    },
    {
      "cell_type": "code",
      "execution_count": null,
      "metadata": {
        "colab": {
          "base_uri": "https://localhost:8080/"
        },
        "id": "aLFZw8bw5Cmk",
        "outputId": "2793d4d6-13fe-4aa6-aeb2-549c9437b743"
      },
      "outputs": [
        {
          "name": "stdout",
          "output_type": "stream",
          "text": [
            "using cached model. /content/drive/My Drive/data/KoBERT-master/.cache/kobert_v1.zip\n",
            "using cached model. /content/drive/My Drive/data/KoBERT-master/.cache/kobert_news_wiki_ko_cased-1087f8699e.spiece\n"
          ]
        }
      ],
      "source": [
        "#bert 모델, vocab 불러오기\n",
        "bertmodel, vocab = get_pytorch_kobert_model()"
      ],
      "id": "aLFZw8bw5Cmk"
    },
    {
      "cell_type": "code",
      "execution_count": null,
      "metadata": {
        "colab": {
          "base_uri": "https://localhost:8080/",
          "height": 206
        },
        "id": "G7KhRKUV5DFE",
        "outputId": "f1ab57fe-c3f6-43a2-f6c6-e93ab7c048c8"
      },
      "outputs": [
        {
          "data": {
            "text/html": [
              "\n",
              "  <div id=\"df-8f4e9b46-8e9f-4244-b300-83880ff661d7\">\n",
              "    <div class=\"colab-df-container\">\n",
              "      <div>\n",
              "<style scoped>\n",
              "    .dataframe tbody tr th:only-of-type {\n",
              "        vertical-align: middle;\n",
              "    }\n",
              "\n",
              "    .dataframe tbody tr th {\n",
              "        vertical-align: top;\n",
              "    }\n",
              "\n",
              "    .dataframe thead th {\n",
              "        text-align: right;\n",
              "    }\n",
              "</style>\n",
              "<table border=\"1\" class=\"dataframe\">\n",
              "  <thead>\n",
              "    <tr style=\"text-align: right;\">\n",
              "      <th></th>\n",
              "      <th>index</th>\n",
              "      <th>category</th>\n",
              "      <th>data</th>\n",
              "    </tr>\n",
              "  </thead>\n",
              "  <tbody>\n",
              "    <tr>\n",
              "      <th>0</th>\n",
              "      <td>0</td>\n",
              "      <td>2</td>\n",
              "      <td>신혼부부위한 주택정책 보다 보육시설 늘려주세요 국민세금으로 일부를 위한 정책펴지 마...</td>\n",
              "    </tr>\n",
              "    <tr>\n",
              "      <th>1</th>\n",
              "      <td>1</td>\n",
              "      <td>0</td>\n",
              "      <td>학교이름에 남자도 붙여주세요 울산여자중학교에 재학중인 학생입니다 최근 양성평등 글짓...</td>\n",
              "    </tr>\n",
              "    <tr>\n",
              "      <th>2</th>\n",
              "      <td>2</td>\n",
              "      <td>1</td>\n",
              "      <td>빙상연맹 대한축구협회등 각종 체육협회의 비리를 철저하게 밝혀주세요 최근 동계올림픽에...</td>\n",
              "    </tr>\n",
              "    <tr>\n",
              "      <th>3</th>\n",
              "      <td>3</td>\n",
              "      <td>1</td>\n",
              "      <td>티비 세세 관람가도 연령확인 의무화 하자 제기 에전에 티비를 보다가 잠시 딴일이 생...</td>\n",
              "    </tr>\n",
              "    <tr>\n",
              "      <th>4</th>\n",
              "      <td>4</td>\n",
              "      <td>1</td>\n",
              "      <td>무더운 여름철엔 남성들도 시원한 자율복장을 해야 무더운 여름철에는 남성들도 노넥타이...</td>\n",
              "    </tr>\n",
              "  </tbody>\n",
              "</table>\n",
              "</div>\n",
              "      <button class=\"colab-df-convert\" onclick=\"convertToInteractive('df-8f4e9b46-8e9f-4244-b300-83880ff661d7')\"\n",
              "              title=\"Convert this dataframe to an interactive table.\"\n",
              "              style=\"display:none;\">\n",
              "        \n",
              "  <svg xmlns=\"http://www.w3.org/2000/svg\" height=\"24px\"viewBox=\"0 0 24 24\"\n",
              "       width=\"24px\">\n",
              "    <path d=\"M0 0h24v24H0V0z\" fill=\"none\"/>\n",
              "    <path d=\"M18.56 5.44l.94 2.06.94-2.06 2.06-.94-2.06-.94-.94-2.06-.94 2.06-2.06.94zm-11 1L8.5 8.5l.94-2.06 2.06-.94-2.06-.94L8.5 2.5l-.94 2.06-2.06.94zm10 10l.94 2.06.94-2.06 2.06-.94-2.06-.94-.94-2.06-.94 2.06-2.06.94z\"/><path d=\"M17.41 7.96l-1.37-1.37c-.4-.4-.92-.59-1.43-.59-.52 0-1.04.2-1.43.59L10.3 9.45l-7.72 7.72c-.78.78-.78 2.05 0 2.83L4 21.41c.39.39.9.59 1.41.59.51 0 1.02-.2 1.41-.59l7.78-7.78 2.81-2.81c.8-.78.8-2.07 0-2.86zM5.41 20L4 18.59l7.72-7.72 1.47 1.35L5.41 20z\"/>\n",
              "  </svg>\n",
              "      </button>\n",
              "      \n",
              "  <style>\n",
              "    .colab-df-container {\n",
              "      display:flex;\n",
              "      flex-wrap:wrap;\n",
              "      gap: 12px;\n",
              "    }\n",
              "\n",
              "    .colab-df-convert {\n",
              "      background-color: #E8F0FE;\n",
              "      border: none;\n",
              "      border-radius: 50%;\n",
              "      cursor: pointer;\n",
              "      display: none;\n",
              "      fill: #1967D2;\n",
              "      height: 32px;\n",
              "      padding: 0 0 0 0;\n",
              "      width: 32px;\n",
              "    }\n",
              "\n",
              "    .colab-df-convert:hover {\n",
              "      background-color: #E2EBFA;\n",
              "      box-shadow: 0px 1px 2px rgba(60, 64, 67, 0.3), 0px 1px 3px 1px rgba(60, 64, 67, 0.15);\n",
              "      fill: #174EA6;\n",
              "    }\n",
              "\n",
              "    [theme=dark] .colab-df-convert {\n",
              "      background-color: #3B4455;\n",
              "      fill: #D2E3FC;\n",
              "    }\n",
              "\n",
              "    [theme=dark] .colab-df-convert:hover {\n",
              "      background-color: #434B5C;\n",
              "      box-shadow: 0px 1px 3px 1px rgba(0, 0, 0, 0.15);\n",
              "      filter: drop-shadow(0px 1px 2px rgba(0, 0, 0, 0.3));\n",
              "      fill: #FFFFFF;\n",
              "    }\n",
              "  </style>\n",
              "\n",
              "      <script>\n",
              "        const buttonEl =\n",
              "          document.querySelector('#df-8f4e9b46-8e9f-4244-b300-83880ff661d7 button.colab-df-convert');\n",
              "        buttonEl.style.display =\n",
              "          google.colab.kernel.accessAllowed ? 'block' : 'none';\n",
              "\n",
              "        async function convertToInteractive(key) {\n",
              "          const element = document.querySelector('#df-8f4e9b46-8e9f-4244-b300-83880ff661d7');\n",
              "          const dataTable =\n",
              "            await google.colab.kernel.invokeFunction('convertToInteractive',\n",
              "                                                     [key], {});\n",
              "          if (!dataTable) return;\n",
              "\n",
              "          const docLinkHtml = 'Like what you see? Visit the ' +\n",
              "            '<a target=\"_blank\" href=https://colab.research.google.com/notebooks/data_table.ipynb>data table notebook</a>'\n",
              "            + ' to learn more about interactive tables.';\n",
              "          element.innerHTML = '';\n",
              "          dataTable['output_type'] = 'display_data';\n",
              "          await google.colab.output.renderOutput(dataTable, element);\n",
              "          const docLink = document.createElement('div');\n",
              "          docLink.innerHTML = docLinkHtml;\n",
              "          element.appendChild(docLink);\n",
              "        }\n",
              "      </script>\n",
              "    </div>\n",
              "  </div>\n",
              "  "
            ],
            "text/plain": [
              "   index  category                                               data\n",
              "0      0         2  신혼부부위한 주택정책 보다 보육시설 늘려주세요 국민세금으로 일부를 위한 정책펴지 마...\n",
              "1      1         0  학교이름에 남자도 붙여주세요 울산여자중학교에 재학중인 학생입니다 최근 양성평등 글짓...\n",
              "2      2         1  빙상연맹 대한축구협회등 각종 체육협회의 비리를 철저하게 밝혀주세요 최근 동계올림픽에...\n",
              "3      3         1  티비 세세 관람가도 연령확인 의무화 하자 제기 에전에 티비를 보다가 잠시 딴일이 생...\n",
              "4      4         1  무더운 여름철엔 남성들도 시원한 자율복장을 해야 무더운 여름철에는 남성들도 노넥타이..."
            ]
          },
          "execution_count": 26,
          "metadata": {},
          "output_type": "execute_result"
        }
      ],
      "source": [
        "train[:5]"
      ],
      "id": "G7KhRKUV5DFE"
    },
    {
      "cell_type": "code",
      "execution_count": null,
      "metadata": {
        "id": "uwz_hl_R5DMe"
      },
      "outputs": [],
      "source": [
        "dataset_train = nlp.data.TSVDataset('/content/drive/MyDrive/data/train_train.tsv', \n",
        "                                    field_indices=[2,1], num_discard_samples=1)\n",
        "dataset_test = nlp.data.TSVDataset('/content/drive/MyDrive/data/train_validation.tsv', \n",
        "                                   field_indices=[2,1], num_discard_samples=1)\n"
      ],
      "id": "uwz_hl_R5DMe"
    },
    {
      "cell_type": "code",
      "execution_count": null,
      "metadata": {
        "colab": {
          "base_uri": "https://localhost:8080/"
        },
        "id": "qFdLt0f248Cv",
        "outputId": "a70fe317-96bd-46ef-daba-b3da636e3c8c"
      },
      "outputs": [
        {
          "data": {
            "text/plain": [
              "['신혼부부위한 주택정책 보다 보육시설 늘려주세요 국민세금으로 일부를 위한 정책펴지 마시고보편적으로 모든국민이 수긍할  수 있는 복지정책 펴 주시길 바랍니다저도 신혼부부이지만 당첨되는 사람 로또되는 이런주택정책 반대합니다국민세금을 일부 사람들에게 퍼주기식이 되면 안되죠그 세금으로 우리아이 안전하게 맡길 수 있는 보육시설을 전국에 설치해 주세요대기업들은 솔선수범해서 모든 사업장에 의무설치 할 수 있도록 하시구요집 보다 애 맡길데가 없어 경력단절 되는게 더 괴롭습니다집은 개인의 능력을 키워 사는게 맞습니다그 능력을 키울수 있도록 육아 전담에 힘을 기울이는게 맞습니다우리아이 부모가 키우는거 맞지만 이제는 국가가책임지는 시대로 가는게 맞다고 봅니다그렇잖아도 부동산 가격 자꾸 올라가는게 정부정책이 잘못 되었다고 봅니다부동산은 그냥 내버려 두세요  좀건들수록 역효과네요',\n",
              " '2']"
            ]
          },
          "execution_count": 28,
          "metadata": {},
          "output_type": "execute_result"
        }
      ],
      "source": [
        "dataset_train[0]"
      ],
      "id": "qFdLt0f248Cv"
    },
    {
      "cell_type": "code",
      "execution_count": null,
      "metadata": {
        "id": "4e8_ziDOCppP"
      },
      "outputs": [],
      "source": [
        "## Setting parameters\n",
        "max_len = 500\n",
        "batch_size = 1\n",
        "warmup_ratio = 0.1\n",
        "num_epochs = 5\n",
        "max_grad_norm = 1\n",
        "log_interval = 200\n",
        "learning_rate =  5e-5"
      ],
      "id": "4e8_ziDOCppP"
    },
    {
      "cell_type": "code",
      "execution_count": null,
      "metadata": {
        "id": "1l75exFcCmwT"
      },
      "outputs": [],
      "source": [
        "class BERTDataset(Dataset):\n",
        "    def __init__(self, dataset, sent_idx, label_idx, bert_tokenizer, max_len,\n",
        "                 pad, pair):\n",
        "        transform = nlp.data.BERTSentenceTransform(\n",
        "            bert_tokenizer, max_seq_length=max_len, pad=pad, pair=pair)\n",
        "\n",
        "        self.sentences = [transform([i[sent_idx]]) for i in dataset]\n",
        "        self.labels = [np.int32(i[label_idx]) for i in dataset]\n",
        "\n",
        "    def __getitem__(self, i):\n",
        "        return (self.sentences[i] + (self.labels[i], ))\n",
        "\n",
        "    def __len__(self):\n",
        "        return (len(self.labels))"
      ],
      "id": "1l75exFcCmwT"
    },
    {
      "cell_type": "code",
      "execution_count": null,
      "metadata": {
        "colab": {
          "base_uri": "https://localhost:8080/"
        },
        "id": "sDx7gHSeCmqn",
        "outputId": "631158b5-67eb-422c-888a-31992a99034e"
      },
      "outputs": [
        {
          "name": "stdout",
          "output_type": "stream",
          "text": [
            "using cached model. /content/drive/My Drive/data/KoBERT-master/.cache/kobert_news_wiki_ko_cased-1087f8699e.spiece\n"
          ]
        }
      ],
      "source": [
        "#토큰화\n",
        "tokenizer = get_tokenizer()\n",
        "tok = nlp.data.BERTSPTokenizer(tokenizer, vocab, lower=False)\n",
        "\n",
        "#BERTDataset 클래스 이용, TensorDataset으로 만들어주기\n",
        "data_train = BERTDataset(dataset_train, 0, 1, tok, max_len, True, False)\n",
        "data_test = BERTDataset(dataset_test, 0, 1, tok, max_len, True, False)"
      ],
      "id": "sDx7gHSeCmqn"
    },
    {
      "cell_type": "code",
      "execution_count": null,
      "metadata": {
        "colab": {
          "base_uri": "https://localhost:8080/"
        },
        "id": "xZi1tNgsCmkt",
        "outputId": "c470898d-1d63-42f9-ce68-a1ca6e6dd92e"
      },
      "outputs": [
        {
          "name": "stderr",
          "output_type": "stream",
          "text": [
            "/usr/local/lib/python3.7/dist-packages/torch/utils/data/dataloader.py:481: UserWarning: This DataLoader will create 4 worker processes in total. Our suggested max number of worker in current system is 2, which is smaller than what this DataLoader is going to create. Please be aware that excessive worker creation might get DataLoader running slow or even freeze, lower the worker number to avoid potential slowness/freeze if necessary.\n",
            "  cpuset_checked))\n"
          ]
        }
      ],
      "source": [
        "#배치 및 데이터로더 설정\n",
        "train_dataloader = torch.utils.data.DataLoader(data_train, batch_size=batch_size, num_workers=4)\n",
        "test_dataloader = torch.utils.data.DataLoader(data_test, batch_size=batch_size, num_workers=4)\n"
      ],
      "id": "xZi1tNgsCmkt"
    },
    {
      "cell_type": "markdown",
      "metadata": {
        "id": "T8VIIeJTFBwy"
      },
      "source": [
        "---"
      ],
      "id": "T8VIIeJTFBwy"
    },
    {
      "cell_type": "code",
      "execution_count": null,
      "metadata": {
        "id": "2FDSpkIdEwCn"
      },
      "outputs": [],
      "source": [
        "class BERTClassifier(nn.Module):\n",
        "    def __init__(self,\n",
        "                 bert,\n",
        "                 hidden_size = 768,\n",
        "                 num_classes=3, ##주의: 클래스 수 바꾸어 주세요!##\n",
        "                 dr_rate=None,\n",
        "                 params=None):\n",
        "        super(BERTClassifier, self).__init__()\n",
        "        self.bert = bert\n",
        "        self.dr_rate = dr_rate\n",
        "                 \n",
        "        self.classifier = nn.Linear(hidden_size , num_classes)\n",
        "        if dr_rate:\n",
        "            self.dropout = nn.Dropout(p=dr_rate)\n",
        "    \n",
        "    def gen_attention_mask(self, token_ids, valid_length):\n",
        "        attention_mask = torch.zeros_like(token_ids)\n",
        "        for i, v in enumerate(valid_length):\n",
        "            attention_mask[i][:v] = 1\n",
        "        return attention_mask.float()\n",
        "\n",
        "    def forward(self, token_ids, valid_length, segment_ids):\n",
        "        attention_mask = self.gen_attention_mask(token_ids, valid_length)\n",
        "        \n",
        "        _, pooler = self.bert(input_ids = token_ids, token_type_ids = segment_ids.long(), attention_mask = attention_mask.float().to(token_ids.device))\n",
        "        if self.dr_rate:\n",
        "            out = self.dropout(pooler)\n",
        "        return self.classifier(out)"
      ],
      "id": "2FDSpkIdEwCn"
    },
    {
      "cell_type": "code",
      "execution_count": null,
      "metadata": {
        "id": "LRWOapj8Ev1s"
      },
      "outputs": [],
      "source": [
        "model = BERTClassifier(bertmodel, dr_rate=0.5).to(device) #gpu"
      ],
      "id": "LRWOapj8Ev1s"
    },
    {
      "cell_type": "code",
      "execution_count": null,
      "metadata": {
        "id": "dYDzggkyEvyw"
      },
      "outputs": [],
      "source": [
        "# Prepare optimizer and schedule (linear warmup and decay)\n",
        "no_decay = ['bias', 'LayerNorm.weight']\n",
        "optimizer_grouped_parameters = [\n",
        "    {'params': [p for n, p in model.named_parameters() if not any(nd in n for nd in no_decay)], 'weight_decay': 0.01},\n",
        "    {'params': [p for n, p in model.named_parameters() if any(nd in n for nd in no_decay)], 'weight_decay': 0.0}\n",
        "]\n",
        "\n",
        "optimizer = AdamW(optimizer_grouped_parameters, lr=learning_rate)\n",
        "loss_fn = nn.CrossEntropyLoss()\n",
        "\n",
        "t_total = len(train_dataloader) * num_epochs\n",
        "warmup_step = int(t_total * warmup_ratio)\n",
        "\n",
        "scheduler = get_cosine_schedule_with_warmup(optimizer, num_warmup_steps=warmup_step, num_training_steps=t_total)\n"
      ],
      "id": "dYDzggkyEvyw"
    },
    {
      "cell_type": "code",
      "execution_count": null,
      "metadata": {
        "id": "6fb8COurFJtY"
      },
      "outputs": [],
      "source": [
        "def calc_accuracy(X,Y):\n",
        "    max_vals, max_indices = torch.max(X, 1)\n",
        "    train_acc = (max_indices == Y).sum().data.cpu().numpy()/max_indices.size()[0]\n",
        "    return train_acc"
      ],
      "id": "6fb8COurFJtY"
    },
    {
      "cell_type": "markdown",
      "metadata": {
        "id": "WoAMQt6FFMwM"
      },
      "source": [
        "# 학습"
      ],
      "id": "WoAMQt6FFMwM"
    },
    {
      "cell_type": "code",
      "execution_count": null,
      "metadata": {
        "colab": {
          "background_save": true,
          "base_uri": "https://localhost:8080/",
          "height": 895,
          "referenced_widgets": [
            "069fbb69251d4efcadbf2610d81d8460",
            "707338ee259741768cc5d7b95be8816c",
            "49bde1e65aec47b9a2d38ff8024e2076",
            "808f5f6c7688420b8ea5b63360c9dbd3",
            "daf30d7de3aa42c980852cbb530c1d54",
            "b8aa3aa52e2940c8ad13fa0970ddd495",
            "51cc8002d60b4f9e8b8590616fb0aee1",
            "12bb24477b3247869cde31e231489b8b",
            "a441b3e919f640a1af3c0559416bdf38",
            "2fb8f177b8b1489eb4dcab0a985e829b",
            "710b905d2a5147e7975703f9299843c6"
          ]
        },
        "id": "1MESo1EiFJqF",
        "outputId": "e06928b2-8bab-4575-b28a-24a32510ac57"
      },
      "outputs": [
        {
          "name": "stderr",
          "output_type": "stream",
          "text": [
            "/usr/local/lib/python3.7/dist-packages/ipykernel_launcher.py:6: TqdmDeprecationWarning: This function will be removed in tqdm==5.0.0\n",
            "Please use `tqdm.notebook.tqdm` instead of `tqdm.tqdm_notebook`\n",
            "  \n"
          ]
        },
        {
          "data": {
            "application/vnd.jupyter.widget-view+json": {
              "model_id": "069fbb69251d4efcadbf2610d81d8460",
              "version_major": 2,
              "version_minor": 0
            },
            "text/plain": [
              "  0%|          | 0/30000 [00:00<?, ?it/s]"
            ]
          },
          "metadata": {},
          "output_type": "display_data"
        },
        {
          "name": "stderr",
          "output_type": "stream",
          "text": [
            "/usr/local/lib/python3.7/dist-packages/torch/utils/data/dataloader.py:481: UserWarning: This DataLoader will create 4 worker processes in total. Our suggested max number of worker in current system is 2, which is smaller than what this DataLoader is going to create. Please be aware that excessive worker creation might get DataLoader running slow or even freeze, lower the worker number to avoid potential slowness/freeze if necessary.\n",
            "  cpuset_checked))\n"
          ]
        },
        {
          "name": "stdout",
          "output_type": "stream",
          "text": [
            "epoch 1 batch id 1 loss 0.7354711890220642 train acc 1.0\n",
            "epoch 1 batch id 201 loss 0.8126379251480103 train acc 0.31343283582089554\n",
            "epoch 1 batch id 401 loss 1.281842589378357 train acc 0.3266832917705736\n",
            "epoch 1 batch id 601 loss 1.081777811050415 train acc 0.3227953410981697\n",
            "epoch 1 batch id 801 loss 1.039162039756775 train acc 0.33208489388264667\n",
            "epoch 1 batch id 1001 loss 1.1465102434158325 train acc 0.34865134865134867\n",
            "epoch 1 batch id 1201 loss 1.2852320671081543 train acc 0.37468776019983346\n",
            "epoch 1 batch id 1401 loss 0.5980306267738342 train acc 0.4125624553890079\n",
            "epoch 1 batch id 1601 loss 1.1266365051269531 train acc 0.4497189256714553\n",
            "epoch 1 batch id 1801 loss 0.15847471356391907 train acc 0.48972792892837314\n",
            "epoch 1 batch id 2001 loss 0.012309649959206581 train acc 0.5242378810594702\n",
            "epoch 1 batch id 2201 loss 0.010046156123280525 train acc 0.546569741026806\n",
            "epoch 1 batch id 2401 loss 0.06768465787172318 train acc 0.5685131195335277\n",
            "epoch 1 batch id 2601 loss 0.011162806302309036 train acc 0.5897731641676278\n",
            "epoch 1 batch id 2801 loss 0.021555084735155106 train acc 0.6069260978222063\n",
            "epoch 1 batch id 3001 loss 5.056534290313721 train acc 0.6224591802732422\n",
            "epoch 1 batch id 3201 loss 0.01421962771564722 train acc 0.6376132458606686\n",
            "epoch 1 batch id 3401 loss 0.0982280820608139 train acc 0.6483387239047339\n",
            "epoch 1 batch id 3601 loss 0.0014031813479959965 train acc 0.6587059150236045\n",
            "epoch 1 batch id 3801 loss 7.028341770172119 train acc 0.6703499079189686\n",
            "epoch 1 batch id 4001 loss 0.0044453139416873455 train acc 0.6778305423644089\n",
            "epoch 1 batch id 4201 loss 0.00623377226293087 train acc 0.6841228278981195\n",
            "epoch 1 batch id 4401 loss 0.001579943229444325 train acc 0.6909793228811634\n",
            "epoch 1 batch id 4601 loss 0.0038176528178155422 train acc 0.6965876983264507\n",
            "epoch 1 batch id 4801 loss 0.0009899006690829992 train acc 0.7027702561966257\n",
            "epoch 1 batch id 5001 loss 0.0016388569492846727 train acc 0.7068586282743451\n",
            "epoch 1 batch id 5201 loss 0.0023036866914480925 train acc 0.7121707363968468\n",
            "epoch 1 batch id 5401 loss 0.0017084777355194092 train acc 0.7163488242917978\n",
            "epoch 1 batch id 5601 loss 0.0011401826050132513 train acc 0.7207641492590608\n",
            "epoch 1 batch id 5801 loss 0.014491546899080276 train acc 0.7236683330460265\n",
            "epoch 1 batch id 6001 loss 7.086548328399658 train acc 0.7275454090984835\n",
            "epoch 1 batch id 6201 loss 0.0011637589195743203 train acc 0.7303660699887115\n",
            "epoch 1 batch id 6401 loss 0.013478703796863556 train acc 0.7331666927042649\n",
            "epoch 1 batch id 6601 loss 0.004814223386347294 train acc 0.7373125284047871\n",
            "epoch 1 batch id 6801 loss 0.0013677061069756746 train acc 0.7407734156741655\n",
            "epoch 1 batch id 7001 loss 0.0021528657525777817 train acc 0.7444650764176546\n",
            "epoch 1 batch id 7201 loss 0.001335801207460463 train acc 0.7465629773642549\n",
            "epoch 1 batch id 7401 loss 0.003151452634483576 train acc 0.7486826104580462\n",
            "epoch 1 batch id 7601 loss 0.00528628658503294 train acc 0.7497697671359032\n",
            "epoch 1 batch id 7801 loss 0.002140494529157877 train acc 0.751698500192283\n",
            "epoch 1 batch id 8001 loss 0.01066343393176794 train acc 0.754405699287589\n",
            "epoch 1 batch id 8201 loss 0.005784083157777786 train acc 0.7564931105962688\n",
            "epoch 1 batch id 8401 loss 0.007264627143740654 train acc 0.7575288656112368\n",
            "epoch 1 batch id 8601 loss 0.0060365027748048306 train acc 0.7577025927217765\n",
            "epoch 1 batch id 8801 loss 5.185896396636963 train acc 0.7587774116577661\n",
            "epoch 1 batch id 9001 loss 0.006682074628770351 train acc 0.7600266637040329\n",
            "epoch 1 batch id 9201 loss 0.007259656675159931 train acc 0.7616563417019889\n",
            "epoch 1 batch id 9401 loss 0.009379488416016102 train acc 0.7623657057759813\n",
            "epoch 1 batch id 9601 loss 0.010015235282480717 train acc 0.7634621393604832\n",
            "epoch 1 batch id 9801 loss 0.04758833348751068 train acc 0.7642077339047036\n",
            "epoch 1 batch id 10001 loss 0.013235215097665787 train acc 0.7646235376462354\n",
            "epoch 1 batch id 10201 loss 0.0024754139594733715 train acc 0.7661013626115086\n",
            "epoch 1 batch id 10401 loss 0.0020009512081742287 train acc 0.767330064416883\n",
            "epoch 1 batch id 10601 loss 0.0025210760068148375 train acc 0.7694557117253089\n",
            "epoch 1 batch id 10801 loss 6.286290168762207 train acc 0.770299046384594\n",
            "epoch 1 batch id 11001 loss 0.0014110381016507745 train acc 0.7718389237342059\n",
            "epoch 1 batch id 11201 loss 5.61876916885376 train acc 0.7729666994018392\n",
            "epoch 1 batch id 11401 loss 0.0004119024670217186 train acc 0.7733532146302956\n",
            "epoch 1 batch id 11601 loss 0.0019125519320368767 train acc 0.773467804499612\n",
            "epoch 1 batch id 11801 loss 6.597678184509277 train acc 0.7740869417845945\n",
            "epoch 1 batch id 12001 loss 0.0057874019257724285 train acc 0.7744354637113574\n"
          ]
        }
      ],
      "source": [
        "for e in range(num_epochs):\n",
        "    torch.cuda.empty_cache()\n",
        "    train_acc = 0.0\n",
        "    test_acc = 0.0\n",
        "    model.train()\n",
        "    for batch_id, (token_ids, valid_length, segment_ids, label) in enumerate(tqdm_notebook(train_dataloader)):\n",
        "        optimizer.zero_grad()\n",
        "        token_ids = token_ids.long().to(device)\n",
        "        segment_ids = segment_ids.long().to(device)\n",
        "        valid_length= valid_length\n",
        "        label = label.long().to(device)\n",
        "        out = model(token_ids, valid_length, segment_ids)\n",
        "        # copiedOut = out.data.cpu().numpy()\n",
        "        # del out\n",
        "        # torch.cuda.empty_cache()\n",
        "\n",
        "        loss = loss_fn(out, label)\n",
        "        loss.backward()\n",
        "        torch.nn.utils.clip_grad_norm_(model.parameters(), max_grad_norm)\n",
        "        optimizer.step()\n",
        "        scheduler.step()  # Update learning rate schedule\n",
        "        train_acc += calc_accuracy(out, label)\n",
        "        if batch_id % log_interval == 0:\n",
        "            print(\"epoch {} batch id {} loss {} train acc {}\".format(e+1, batch_id+1, loss.data.cpu().numpy(), train_acc / (batch_id+1)))\n",
        "    print(\"epoch {} train acc {}\".format(e+1, train_acc / (batch_id+1)))\n",
        "    model.eval()\n",
        "    for batch_id, (token_ids, valid_length, segment_ids, label) in enumerate(tqdm_notebook(test_dataloader)):\n",
        "        token_ids = token_ids.long().to(device)\n",
        "        segment_ids = segment_ids.long().to(device)\n",
        "        valid_length= valid_length\n",
        "        label = label.long().to(device)\n",
        "        out = model(token_ids, valid_length, segment_ids)\n",
        "        test_acc += calc_accuracy(out, label)\n",
        "    print(\"epoch {} validation acc {}\".format(e+1, test_acc / (batch_id+1)))"
      ],
      "id": "1MESo1EiFJqF"
    },
    {
      "cell_type": "code",
      "execution_count": null,
      "metadata": {
        "id": "Mqz8wXRSFJok"
      },
      "outputs": [],
      "source": [
        "import gc\n",
        "gc.collect()\n",
        "torch.cuda.empty_cache()"
      ],
      "id": "Mqz8wXRSFJok"
    },
    {
      "cell_type": "code",
      "execution_count": null,
      "metadata": {
        "colab": {
          "base_uri": "https://localhost:8080/"
        },
        "id": "CE8gVVWoFJj7",
        "outputId": "260981f3-91fd-4a86-f351-9154d0f01fc3"
      },
      "outputs": [
        {
          "name": "stdout",
          "output_type": "stream",
          "text": [
            "Gen RAM Free: 10.5 GB  | Proc size: 5.3 GB\n",
            "GPU RAM Free: 4184MB | Used: 7257MB | Util  63% | Total 11441MB\n"
          ]
        }
      ],
      "source": [
        "# memory footprint support libraries/code\n",
        "!ln -sf /opt/bin/nvidia-smi /usr/bin/nvidia-smi\n",
        "# !pip install gputil\n",
        "# !pip install psutil\n",
        "# !pip install humanize\n",
        "\n",
        "import psutil\n",
        "import humanize\n",
        "import os\n",
        "import GPUtil as GPU\n",
        "GPUs = GPU.getGPUs()\n",
        "# XXX: only one GPU on Colab and isn’t guaranteed\n",
        "gpu = GPUs[0]\n",
        "def printm():\n",
        " process = psutil.Process(os.getpid())\n",
        " print(\"Gen RAM Free: \" + humanize.naturalsize( psutil.virtual_memory().available ), \" | Proc size: \" + humanize.naturalsize( process.memory_info().rss))\n",
        " print(\"GPU RAM Free: {0:.0f}MB | Used: {1:.0f}MB | Util {2:3.0f}% | Total {3:.0f}MB\".format(gpu.memoryFree, gpu.memoryUsed, gpu.memoryUtil*100, gpu.memoryTotal))\n",
        "printm()"
      ],
      "id": "CE8gVVWoFJj7"
    },
    {
      "cell_type": "markdown",
      "metadata": {
        "id": "09ihbELhTKY7"
      },
      "source": [
        "---"
      ],
      "id": "09ihbELhTKY7"
    },
    {
      "cell_type": "markdown",
      "metadata": {
        "id": "R1l633plUnX6"
      },
      "source": [
        "# 테스트\n",
        "- category 임의로 생성"
      ],
      "id": "R1l633plUnX6"
    },
    {
      "cell_type": "code",
      "execution_count": null,
      "metadata": {
        "id": "BlNWmwVJUo9i"
      },
      "outputs": [],
      "source": [
        "new_test = nlp.data.TSVDataset('/content/drive/MyDrive/data/test.tsv', field_indices=[1,2], num_discard_samples=1)\n",
        "test_set = BERTDataset(new_test , 0, 1, tok, max_len, True, False)\n",
        "test_input = torch.utils.data.DataLoader(test_set, batch_size=1, num_workers=4)"
      ],
      "id": "BlNWmwVJUo9i"
    },
    {
      "cell_type": "code",
      "execution_count": null,
      "metadata": {
        "id": "NiIEiRm3TNSQ"
      },
      "outputs": [],
      "source": [
        "pred = []\n",
        "for batch_id, (token_ids, valid_length, segment_ids, label) in enumerate(tqdm_notebook(test_input)): \n",
        "  token_ids = token_ids.long().to(device) \n",
        "  segment_ids = segment_ids.long().to(device) \n",
        "  valid_length= valid_length \n",
        "  out = model(token_ids, valid_length, segment_ids)\n",
        "  prediction = out.cpu().detach().numpy().argmax()\n",
        "  print(batch_id + \"번째 문장의 분류 예측값은\" + prediction + \"입니다.\")\n",
        "  pred.append(prediction)"
      ],
      "id": "NiIEiRm3TNSQ"
    },
    {
      "cell_type": "code",
      "execution_count": null,
      "metadata": {
        "id": "byQeKfsoTNQL"
      },
      "outputs": [],
      "source": [
        ""
      ],
      "id": "byQeKfsoTNQL"
    },
    {
      "cell_type": "code",
      "execution_count": null,
      "metadata": {
        "id": "A2rXu_DdTNLW"
      },
      "outputs": [],
      "source": [
        ""
      ],
      "id": "A2rXu_DdTNLW"
    }
  ],
  "metadata": {
    "accelerator": "GPU",
    "colab": {
      "name": "Kobert 진짜 적용하기.ipynb",
      "provenance": []
    },
    "kernelspec": {
      "display_name": "Python 3 (ipykernel)",
      "language": "python",
      "name": "python3"
    },
    "language_info": {
      "codemirror_mode": {
        "name": "ipython",
        "version": 3
      },
      "file_extension": ".py",
      "mimetype": "text/x-python",
      "name": "python",
      "nbconvert_exporter": "python",
      "pygments_lexer": "ipython3",
      "version": "3.8.12"
    },
    "widgets": {
      "application/vnd.jupyter.widget-state+json": {
        "069fbb69251d4efcadbf2610d81d8460": {
          "model_module": "@jupyter-widgets/controls",
          "model_module_version": "1.5.0",
          "model_name": "HBoxModel",
          "state": {
            "_dom_classes": [],
            "_model_module": "@jupyter-widgets/controls",
            "_model_module_version": "1.5.0",
            "_model_name": "HBoxModel",
            "_view_count": null,
            "_view_module": "@jupyter-widgets/controls",
            "_view_module_version": "1.5.0",
            "_view_name": "HBoxView",
            "box_style": "",
            "children": [
              "IPY_MODEL_707338ee259741768cc5d7b95be8816c",
              "IPY_MODEL_49bde1e65aec47b9a2d38ff8024e2076",
              "IPY_MODEL_808f5f6c7688420b8ea5b63360c9dbd3"
            ],
            "layout": "IPY_MODEL_daf30d7de3aa42c980852cbb530c1d54"
          }
        },
        "12bb24477b3247869cde31e231489b8b": {
          "model_module": "@jupyter-widgets/base",
          "model_module_version": "1.2.0",
          "model_name": "LayoutModel",
          "state": {
            "_model_module": "@jupyter-widgets/base",
            "_model_module_version": "1.2.0",
            "_model_name": "LayoutModel",
            "_view_count": null,
            "_view_module": "@jupyter-widgets/base",
            "_view_module_version": "1.2.0",
            "_view_name": "LayoutView",
            "align_content": null,
            "align_items": null,
            "align_self": null,
            "border": null,
            "bottom": null,
            "display": null,
            "flex": null,
            "flex_flow": null,
            "grid_area": null,
            "grid_auto_columns": null,
            "grid_auto_flow": null,
            "grid_auto_rows": null,
            "grid_column": null,
            "grid_gap": null,
            "grid_row": null,
            "grid_template_areas": null,
            "grid_template_columns": null,
            "grid_template_rows": null,
            "height": null,
            "justify_content": null,
            "justify_items": null,
            "left": null,
            "margin": null,
            "max_height": null,
            "max_width": null,
            "min_height": null,
            "min_width": null,
            "object_fit": null,
            "object_position": null,
            "order": null,
            "overflow": null,
            "overflow_x": null,
            "overflow_y": null,
            "padding": null,
            "right": null,
            "top": null,
            "visibility": null,
            "width": null
          }
        },
        "2fb8f177b8b1489eb4dcab0a985e829b": {
          "model_module": "@jupyter-widgets/base",
          "model_module_version": "1.2.0",
          "model_name": "LayoutModel",
          "state": {
            "_model_module": "@jupyter-widgets/base",
            "_model_module_version": "1.2.0",
            "_model_name": "LayoutModel",
            "_view_count": null,
            "_view_module": "@jupyter-widgets/base",
            "_view_module_version": "1.2.0",
            "_view_name": "LayoutView",
            "align_content": null,
            "align_items": null,
            "align_self": null,
            "border": null,
            "bottom": null,
            "display": null,
            "flex": null,
            "flex_flow": null,
            "grid_area": null,
            "grid_auto_columns": null,
            "grid_auto_flow": null,
            "grid_auto_rows": null,
            "grid_column": null,
            "grid_gap": null,
            "grid_row": null,
            "grid_template_areas": null,
            "grid_template_columns": null,
            "grid_template_rows": null,
            "height": null,
            "justify_content": null,
            "justify_items": null,
            "left": null,
            "margin": null,
            "max_height": null,
            "max_width": null,
            "min_height": null,
            "min_width": null,
            "object_fit": null,
            "object_position": null,
            "order": null,
            "overflow": null,
            "overflow_x": null,
            "overflow_y": null,
            "padding": null,
            "right": null,
            "top": null,
            "visibility": null,
            "width": null
          }
        },
        "49bde1e65aec47b9a2d38ff8024e2076": {
          "model_module": "@jupyter-widgets/controls",
          "model_module_version": "1.5.0",
          "model_name": "FloatProgressModel",
          "state": {
            "_dom_classes": [],
            "_model_module": "@jupyter-widgets/controls",
            "_model_module_version": "1.5.0",
            "_model_name": "FloatProgressModel",
            "_view_count": null,
            "_view_module": "@jupyter-widgets/controls",
            "_view_module_version": "1.5.0",
            "_view_name": "ProgressView",
            "bar_style": "",
            "description": "",
            "description_tooltip": null,
            "layout": "IPY_MODEL_12bb24477b3247869cde31e231489b8b",
            "max": 30000,
            "min": 0,
            "orientation": "horizontal",
            "style": "IPY_MODEL_a441b3e919f640a1af3c0559416bdf38",
            "value": 7891
          }
        },
        "51cc8002d60b4f9e8b8590616fb0aee1": {
          "model_module": "@jupyter-widgets/controls",
          "model_module_version": "1.5.0",
          "model_name": "DescriptionStyleModel",
          "state": {
            "_model_module": "@jupyter-widgets/controls",
            "_model_module_version": "1.5.0",
            "_model_name": "DescriptionStyleModel",
            "_view_count": null,
            "_view_module": "@jupyter-widgets/base",
            "_view_module_version": "1.2.0",
            "_view_name": "StyleView",
            "description_width": ""
          }
        },
        "707338ee259741768cc5d7b95be8816c": {
          "model_module": "@jupyter-widgets/controls",
          "model_module_version": "1.5.0",
          "model_name": "HTMLModel",
          "state": {
            "_dom_classes": [],
            "_model_module": "@jupyter-widgets/controls",
            "_model_module_version": "1.5.0",
            "_model_name": "HTMLModel",
            "_view_count": null,
            "_view_module": "@jupyter-widgets/controls",
            "_view_module_version": "1.5.0",
            "_view_name": "HTMLView",
            "description": "",
            "description_tooltip": null,
            "layout": "IPY_MODEL_b8aa3aa52e2940c8ad13fa0970ddd495",
            "placeholder": "​",
            "style": "IPY_MODEL_51cc8002d60b4f9e8b8590616fb0aee1",
            "value": " 26%"
          }
        },
        "710b905d2a5147e7975703f9299843c6": {
          "model_module": "@jupyter-widgets/controls",
          "model_module_version": "1.5.0",
          "model_name": "DescriptionStyleModel",
          "state": {
            "_model_module": "@jupyter-widgets/controls",
            "_model_module_version": "1.5.0",
            "_model_name": "DescriptionStyleModel",
            "_view_count": null,
            "_view_module": "@jupyter-widgets/base",
            "_view_module_version": "1.2.0",
            "_view_name": "StyleView",
            "description_width": ""
          }
        },
        "808f5f6c7688420b8ea5b63360c9dbd3": {
          "model_module": "@jupyter-widgets/controls",
          "model_module_version": "1.5.0",
          "model_name": "HTMLModel",
          "state": {
            "_dom_classes": [],
            "_model_module": "@jupyter-widgets/controls",
            "_model_module_version": "1.5.0",
            "_model_name": "HTMLModel",
            "_view_count": null,
            "_view_module": "@jupyter-widgets/controls",
            "_view_module_version": "1.5.0",
            "_view_name": "HTMLView",
            "description": "",
            "description_tooltip": null,
            "layout": "IPY_MODEL_2fb8f177b8b1489eb4dcab0a985e829b",
            "placeholder": "​",
            "style": "IPY_MODEL_710b905d2a5147e7975703f9299843c6",
            "value": " 7891/30000 [39:12&lt;1:49:33,  3.36it/s]"
          }
        },
        "a441b3e919f640a1af3c0559416bdf38": {
          "model_module": "@jupyter-widgets/controls",
          "model_module_version": "1.5.0",
          "model_name": "ProgressStyleModel",
          "state": {
            "_model_module": "@jupyter-widgets/controls",
            "_model_module_version": "1.5.0",
            "_model_name": "ProgressStyleModel",
            "_view_count": null,
            "_view_module": "@jupyter-widgets/base",
            "_view_module_version": "1.2.0",
            "_view_name": "StyleView",
            "bar_color": null,
            "description_width": ""
          }
        },
        "b8aa3aa52e2940c8ad13fa0970ddd495": {
          "model_module": "@jupyter-widgets/base",
          "model_module_version": "1.2.0",
          "model_name": "LayoutModel",
          "state": {
            "_model_module": "@jupyter-widgets/base",
            "_model_module_version": "1.2.0",
            "_model_name": "LayoutModel",
            "_view_count": null,
            "_view_module": "@jupyter-widgets/base",
            "_view_module_version": "1.2.0",
            "_view_name": "LayoutView",
            "align_content": null,
            "align_items": null,
            "align_self": null,
            "border": null,
            "bottom": null,
            "display": null,
            "flex": null,
            "flex_flow": null,
            "grid_area": null,
            "grid_auto_columns": null,
            "grid_auto_flow": null,
            "grid_auto_rows": null,
            "grid_column": null,
            "grid_gap": null,
            "grid_row": null,
            "grid_template_areas": null,
            "grid_template_columns": null,
            "grid_template_rows": null,
            "height": null,
            "justify_content": null,
            "justify_items": null,
            "left": null,
            "margin": null,
            "max_height": null,
            "max_width": null,
            "min_height": null,
            "min_width": null,
            "object_fit": null,
            "object_position": null,
            "order": null,
            "overflow": null,
            "overflow_x": null,
            "overflow_y": null,
            "padding": null,
            "right": null,
            "top": null,
            "visibility": null,
            "width": null
          }
        },
        "daf30d7de3aa42c980852cbb530c1d54": {
          "model_module": "@jupyter-widgets/base",
          "model_module_version": "1.2.0",
          "model_name": "LayoutModel",
          "state": {
            "_model_module": "@jupyter-widgets/base",
            "_model_module_version": "1.2.0",
            "_model_name": "LayoutModel",
            "_view_count": null,
            "_view_module": "@jupyter-widgets/base",
            "_view_module_version": "1.2.0",
            "_view_name": "LayoutView",
            "align_content": null,
            "align_items": null,
            "align_self": null,
            "border": null,
            "bottom": null,
            "display": null,
            "flex": null,
            "flex_flow": null,
            "grid_area": null,
            "grid_auto_columns": null,
            "grid_auto_flow": null,
            "grid_auto_rows": null,
            "grid_column": null,
            "grid_gap": null,
            "grid_row": null,
            "grid_template_areas": null,
            "grid_template_columns": null,
            "grid_template_rows": null,
            "height": null,
            "justify_content": null,
            "justify_items": null,
            "left": null,
            "margin": null,
            "max_height": null,
            "max_width": null,
            "min_height": null,
            "min_width": null,
            "object_fit": null,
            "object_position": null,
            "order": null,
            "overflow": null,
            "overflow_x": null,
            "overflow_y": null,
            "padding": null,
            "right": null,
            "top": null,
            "visibility": null,
            "width": null
          }
        }
      }
    }
  },
  "nbformat": 4,
  "nbformat_minor": 5
}