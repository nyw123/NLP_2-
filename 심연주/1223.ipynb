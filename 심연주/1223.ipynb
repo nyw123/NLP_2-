{
 "cells": [
  {
   "cell_type": "code",
   "execution_count": 1,
   "id": "86f42e16",
   "metadata": {},
   "outputs": [],
   "source": [
    "import pandas as pd\n",
    "import numpy as np"
   ]
  },
  {
   "cell_type": "code",
   "execution_count": 2,
   "id": "8066e251",
   "metadata": {},
   "outputs": [
    {
     "data": {
      "text/plain": [
       "'신혼부부위한 주택정책 보다 보육시설 늘려주세요.. 국민세금으로 일부를 위한 정책펴지 마시고\\\\n보편적으로 모든국민이 수긍할  수 있는 복지정책 펴 주시길 바랍니다.\\\\n저도 신혼부부이지만 당첨되는 사람 로또되는 이런주택정책 반대합니다.\\\\n국민세금을 일부 사람들에게 퍼주기식이 되면 안되죠..\\\\n그 세금으로 우리아이 안전하게 맡길 수 있는 보육시설을 전국에 설치해 주세요..\\\\n대기업들은 솔선수범해서 모든 사업장에 의무설치 할 수 있도록 하시구요..\\\\n집 보다 애 맡길데가 없어 경력단절 되는게 더 괴롭습니다.!\\\\n집은 개인의 능력을 키워 사는게 맞습니다.\\\\n그 능력을 키울수 있도록 육아 전담에 힘을 기울이는게 맞습니다.\\\\n우리아이 부모가 키우는거 맞지만 이제는 국가가\\\\n책임지는 시대로 가는게 맞다고 봅니다.\\\\n그렇잖아도 부동산 가격 자꾸 올라가는게 정부정책이 잘못 되었다고 봅니다.\\\\n부동산은 그냥 내버려 두세요!  좀!\\\\n건들수록 역효과네요..'"
      ]
     },
     "execution_count": 2,
     "metadata": {},
     "output_type": "execute_result"
    }
   ],
   "source": [
    "train = pd.read_csv('train.csv')\n",
    "test = pd.read_csv('test.csv')\n",
    "train['data'][0]"
   ]
  },
  {
   "cell_type": "markdown",
   "id": "1ba4e1e4",
   "metadata": {},
   "source": [
    "## 1. 전처리"
   ]
  },
  {
   "cell_type": "code",
   "execution_count": 3,
   "id": "f45ec4a7",
   "metadata": {},
   "outputs": [
    {
     "name": "stdout",
     "output_type": "stream",
     "text": [
      "<class 'pandas.core.frame.DataFrame'>\n",
      "Int64Index: 39992 entries, 0 to 39999\n",
      "Data columns (total 3 columns):\n",
      " #   Column    Non-Null Count  Dtype \n",
      "---  ------    --------------  ----- \n",
      " 0   index     39992 non-null  int64 \n",
      " 1   category  39992 non-null  int64 \n",
      " 2   data      39992 non-null  object\n",
      "dtypes: int64(2), object(1)\n",
      "memory usage: 1.2+ MB\n"
     ]
    }
   ],
   "source": [
    "train = train[train['data'].notnull()]\n",
    "train.info()"
   ]
  },
  {
   "cell_type": "code",
   "execution_count": 33,
   "id": "dd0f1ad5",
   "metadata": {},
   "outputs": [
    {
     "name": "stderr",
     "output_type": "stream",
     "text": [
      "C:\\Users\\tladu\\AppData\\Local\\Temp/ipykernel_2104/4189725591.py:1: FutureWarning: The default value of regex will change from True to False in a future version.\n",
      "  train['data'] = train['data'].str.replace(\"[^ㄱ-ㅎㅏ-ㅣ가-힣 ]\",\"\")\n",
      "C:\\Users\\tladu\\AppData\\Local\\Temp/ipykernel_2104/4189725591.py:2: FutureWarning: The default value of regex will change from True to False in a future version.\n",
      "  test['data'] = test['data'].str.replace(\"[^ㄱ-ㅎㅏ-ㅣ가-힣 ]\",\"\")\n"
     ]
    }
   ],
   "source": [
    "train['data'] = train['data'].str.replace(\"[^ㄱ-ㅎㅏ-ㅣ가-힣 ]\",\"\")\n",
    "test['data'] = test['data'].str.replace(\"[^ㄱ-ㅎㅏ-ㅣ가-힣 ]\",\"\")\n",
    "stopwords = ['의','가','이','은','들','는','좀','잘','걍',\n",
    "             '과','도','를','으로','자','에','와','한','하다','을',\n",
    "             '더','좀','자꾸','그냥','이제','우리']\n"
   ]
  },
  {
   "cell_type": "code",
   "execution_count": 7,
   "id": "95e06449",
   "metadata": {},
   "outputs": [
    {
     "data": {
      "text/plain": [
       "'신혼부부위한 주택정책 보다 보육시설 늘려주세요 국민세금으로 일부를 위한 정책펴지 마시고보편적으로 모든국민이 수긍할  수 있는 복지정책 펴 주시길 바랍니다저도 신혼부부이지만 당첨되는 사람 로또되는 이런주택정책 반대합니다국민세금을 일부 사람들에게 퍼주기식이 되면 안되죠그 세금으로 우리아이 안전하게 맡길 수 있는 보육시설을 전국에 설치해 주세요대기업들은 솔선수범해서 모든 사업장에 의무설치 할 수 있도록 하시구요집 보다 애 맡길데가 없어 경력단절 되는게 더 괴롭습니다집은 개인의 능력을 키워 사는게 맞습니다그 능력을 키울수 있도록 육아 전담에 힘을 기울이는게 맞습니다우리아이 부모가 키우는거 맞지만 이제는 국가가책임지는 시대로 가는게 맞다고 봅니다그렇잖아도 부동산 가격 자꾸 올라가는게 정부정책이 잘못 되었다고 봅니다부동산은 그냥 내버려 두세요  좀건들수록 역효과네요'"
      ]
     },
     "execution_count": 7,
     "metadata": {},
     "output_type": "execute_result"
    }
   ],
   "source": [
    "train['data'][0]"
   ]
  },
  {
   "cell_type": "markdown",
   "id": "9c77ee90",
   "metadata": {},
   "source": [
    "---"
   ]
  },
  {
   "cell_type": "markdown",
   "id": "ce64ec0a",
   "metadata": {},
   "source": [
    "### keyword 뽑아내기\n",
    "1. ***명사 - nouns***\n",
    "2. 형태소(어간) - morphs\n",
    "- 긍/부정이 아니라 카테고리만 분류하는 것이므로 명사 뽑아내기"
   ]
  },
  {
   "cell_type": "code",
   "execution_count": 6,
   "id": "13d1280f",
   "metadata": {},
   "outputs": [],
   "source": [
    "from konlpy.tag import (Kkma, Okt)\n",
    "kkma = Kkma()\n",
    "okt = Okt()"
   ]
  },
  {
   "cell_type": "code",
   "execution_count": 13,
   "id": "60d85316",
   "metadata": {},
   "outputs": [
    {
     "name": "stdout",
     "output_type": "stream",
     "text": [
      "['신혼부부', '위', '한', '주택', '정책', '보다', '보육', '시설', '늘려주세요', '국민', '세금', '으로', '일부', '를', '위', '한', '정책', '펴지', '마시고', '보편', '적', '으로', '모든', '국민', '이', '수긍', '할', '수', '있는', '복지', '정책', '펴', '주시길', '바랍니다', '저', '도', '신혼부부', '이지만', '당첨', '되는', '사람', '로또', '되는', '이런', '주택', '정책', '반대', '합니다', '국민', '세금', '을', '일부', '사람', '들', '에게', '퍼', '주기', '식이', '되면', '안되죠', '그', '세금', '으로', '우리', '아이', '안전하게', '맡길', '수', '있는', '보육', '시설', '을', '전국', '에', '설치', '해', '주세요', '대기업', '들', '은', '솔선수범', '해서', '모든', '사업', '장', '에', '의무', '설치', '할', '수', '있도록', '하시구요', '집', '보다', '애', '맡길데가', '없어', '경력', '단절', '되는게', '더', '괴롭습니다', '집은', '개인', '의', '능력', '을', '키워', '사는게', '맞습니다', '그', '능력', '을', '키울수', '있도록', '육아', '전담', '에', '힘', '을', '기울이는게', '맞습니다', '우리', '아이', '부모', '가', '키우는거', '맞지만', '이제', '는', '국가', '가', '책임지는', '시대', '로', '가는게', '맞다고', '봅니다', '그렇잖아도', '부동산', '가격', '자꾸', '올라가는게', '정부', '정책', '이', '잘못', '되었다고', '봅니다', '부동산', '은', '그냥', '내버려', '두세요', '좀', '건들', '수록', '역효과', '네', '요']\n"
     ]
    }
   ],
   "source": [
    "print(okt.morphs(train['data'][0]))"
   ]
  },
  {
   "cell_type": "code",
   "execution_count": 12,
   "id": "bda154c8",
   "metadata": {},
   "outputs": [
    {
     "name": "stdout",
     "output_type": "stream",
     "text": [
      "['신혼부부', '신혼부부위', '위', '주택', '주택정책', '정책', '보육', '보육시설', '시설', '주세', '국민', '국민세금', '세금', '일부', '보편적', '수긍', '수', '복지', '복지정책', '저', '신혼부부이지만', '이지만', '당첨', '사람', '로또', '반대', '국', '민', '주기', '주기식이', '식이', '우리', '아이', '안전', '전국', '설치', '대기업', '솔선수범', '사업장', '의무', '의무설치', '집', '애', '데', '경력', '경력단절', '단절', '개인', '능력', '육아', '전담', '힘', '부모', '거', '이제', '국가', '시대', '부동산', '가격', '정부', '정부정책', '역효과']\n"
     ]
    }
   ],
   "source": [
    "print(kkma.nouns(train['data'][0]))"
   ]
  },
  {
   "cell_type": "code",
   "execution_count": 11,
   "id": "52dc18fd",
   "metadata": {
    "scrolled": true
   },
   "outputs": [
    {
     "name": "stdout",
     "output_type": "stream",
     "text": [
      "['신혼부부', '위', '주택', '정책', '보육', '시설', '국민', '세금', '일부', '위', '정책', '보편', '국민', '수긍', '수', '복지', '정책', '도', '신혼부부', '당첨', '사람', '로또', '주택', '정책', '반대', '국민', '세금', '일부', '사람', '퍼', '주기', '식이', '세금', '우리', '아이', '수', '보육', '시설', '전국', '설치', '대기업', '솔선수범', '모든', '사업', '의무', '설치', '수', '집', '애', '경력', '단절', '더', '개인', '능력', '능력', '육아', '전담', '힘', '우리', '아이', '부모', '이제', '국가', '시대', '부동산', '가격', '자꾸', '정부', '정책', '잘못', '부동산', '그냥', '좀', '수록', '역효과']\n"
     ]
    }
   ],
   "source": [
    "print(okt.nouns(train['data'][0])) # 선택"
   ]
  },
  {
   "cell_type": "code",
   "execution_count": 34,
   "id": "339a3271",
   "metadata": {},
   "outputs": [
    {
     "name": "stdout",
     "output_type": "stream",
     "text": [
      "Counter({'정책': 5, '국민': 3, '세금': 3, '수': 3, '신혼부부': 2, '위': 2, '주택': 2, '보육': 2, '시설': 2, '일부': 2, '사람': 2, '우리': 2, '아이': 2, '설치': 2, '능력': 2, '부동산': 2, '보편': 1, '수긍': 1, '복지': 1, '도': 1, '당첨': 1, '로또': 1, '반대': 1, '퍼': 1, '주기': 1, '식이': 1, '전국': 1, '대기업': 1, '솔선수범': 1, '모든': 1, '사업': 1, '의무': 1, '집': 1, '애': 1, '경력': 1, '단절': 1, '더': 1, '개인': 1, '육아': 1, '전담': 1, '힘': 1, '부모': 1, '이제': 1, '국가': 1, '시대': 1, '가격': 1, '자꾸': 1, '정부': 1, '잘못': 1, '그냥': 1, '좀': 1, '수록': 1, '역효과': 1})\n"
     ]
    }
   ],
   "source": [
    "from collections import Counter\n",
    "print(Counter(okt.nouns(train['data'][0])))"
   ]
  },
  {
   "cell_type": "code",
   "execution_count": 39,
   "id": "bb7607fb",
   "metadata": {},
   "outputs": [
    {
     "name": "stderr",
     "output_type": "stream",
     "text": [
      "100%|███████████████████████████████████████████████████████████████████████████▉| 39991/39992 [24:43<00:00, 26.96it/s]\n"
     ]
    }
   ],
   "source": [
    "from tqdm import tqdm\n",
    "\n",
    "X_train = []\n",
    "for sentence,i in zip(train['data'],tqdm(range(len(train['data'])))):\n",
    "    temp_X = []\n",
    "    temp_X = okt.nouns(sentence) # 토큰화\n",
    "    temp_X = [word for word in temp_X if not word in stopwords] # 불용어 제거\n",
    "    temp_X = [word for word in temp_X if len(word) > 1]\n",
    "    X_train.append(temp_X)"
   ]
  },
  {
   "cell_type": "code",
   "execution_count": 41,
   "id": "4b0ac921",
   "metadata": {},
   "outputs": [
    {
     "name": "stderr",
     "output_type": "stream",
     "text": [
      "100%|█████████████████████████████████████████████████████████████████████████████▉| 4999/5000 [07:29<00:00, 11.11it/s]\n"
     ]
    }
   ],
   "source": [
    "X_test = []\n",
    "\n",
    "for sentence,i in zip(test['data'],tqdm(range(len(test['data'])))):\n",
    "    temp_X = []\n",
    "    temp_X = okt.nouns(sentence) # 토큰화\n",
    "    temp_X = [word for word in temp_X if not word in stopwords] # 불용어 제거\n",
    "    temp_X = [word for word in temp_X if len(word) > 1]\n",
    "    X_test.append(temp_X)"
   ]
  },
  {
   "cell_type": "markdown",
   "id": "b71f7842",
   "metadata": {},
   "source": [
    "---"
   ]
  },
  {
   "cell_type": "markdown",
   "id": "9a07d370",
   "metadata": {},
   "source": [
    "Tokenizer\n",
    "- num_words : 단어 빈도가 많은 순서로 num_words개의 단어를 보존"
   ]
  },
  {
   "cell_type": "code",
   "execution_count": null,
   "id": "9622bce8",
   "metadata": {},
   "outputs": [],
   "source": []
  },
  {
   "cell_type": "code",
   "execution_count": null,
   "id": "7de5ecb3",
   "metadata": {},
   "outputs": [],
   "source": []
  },
  {
   "cell_type": "code",
   "execution_count": null,
   "id": "3d12c581",
   "metadata": {},
   "outputs": [],
   "source": []
  }
 ],
 "metadata": {
  "kernelspec": {
   "display_name": "Python 3 (ipykernel)",
   "language": "python",
   "name": "python3"
  },
  "language_info": {
   "codemirror_mode": {
    "name": "ipython",
    "version": 3
   },
   "file_extension": ".py",
   "mimetype": "text/x-python",
   "name": "python",
   "nbconvert_exporter": "python",
   "pygments_lexer": "ipython3",
   "version": "3.8.12"
  }
 },
 "nbformat": 4,
 "nbformat_minor": 5
}
