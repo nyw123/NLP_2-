{
  "cells": [
    {
      "cell_type": "code",
      "execution_count": 1,
      "metadata": {
        "colab": {
          "base_uri": "https://localhost:8080/"
        },
        "id": "lUHePoZttgS-",
        "outputId": "f73545ef-1c70-45ee-ffe5-e405de11fe77"
      },
      "outputs": [
        {
          "output_type": "stream",
          "name": "stdout",
          "text": [
            "Drive already mounted at /content/drive; to attempt to forcibly remount, call drive.mount(\"/content/drive\", force_remount=True).\n"
          ]
        }
      ],
      "source": [
        "from google.colab import drive\n",
        "drive.mount('/content/drive')"
      ],
      "id": "lUHePoZttgS-"
    },
    {
      "cell_type": "code",
      "execution_count": 2,
      "metadata": {
        "colab": {
          "base_uri": "https://localhost:8080/"
        },
        "id": "6X5xr0ZUuPb4",
        "outputId": "7eef75b6-4b3b-494b-9b96-3b43abded8fa"
      },
      "outputs": [
        {
          "output_type": "stream",
          "name": "stdout",
          "text": [
            "Mon Dec 27 02:37:25 2021       \n",
            "+-----------------------------------------------------------------------------+\n",
            "| NVIDIA-SMI 495.44       Driver Version: 460.32.03    CUDA Version: 11.2     |\n",
            "|-------------------------------+----------------------+----------------------+\n",
            "| GPU  Name        Persistence-M| Bus-Id        Disp.A | Volatile Uncorr. ECC |\n",
            "| Fan  Temp  Perf  Pwr:Usage/Cap|         Memory-Usage | GPU-Util  Compute M. |\n",
            "|                               |                      |               MIG M. |\n",
            "|===============================+======================+======================|\n",
            "|   0  Tesla K80           Off  | 00000000:00:04.0 Off |                    0 |\n",
            "| N/A   70C    P8    31W / 149W |      0MiB / 11441MiB |      0%      Default |\n",
            "|                               |                      |                  N/A |\n",
            "+-------------------------------+----------------------+----------------------+\n",
            "                                                                               \n",
            "+-----------------------------------------------------------------------------+\n",
            "| Processes:                                                                  |\n",
            "|  GPU   GI   CI        PID   Type   Process name                  GPU Memory |\n",
            "|        ID   ID                                                   Usage      |\n",
            "|=============================================================================|\n",
            "|  No running processes found                                                 |\n",
            "+-----------------------------------------------------------------------------+\n"
          ]
        }
      ],
      "source": [
        "!nvidia-smi"
      ],
      "id": "6X5xr0ZUuPb4"
    },
    {
      "cell_type": "code",
      "execution_count": 3,
      "metadata": {
        "colab": {
          "base_uri": "https://localhost:8080/"
        },
        "id": "RhSRfSDyu34W",
        "outputId": "df4b97b9-ac11-4b93-8f61-942a51f474ae"
      },
      "outputs": [
        {
          "output_type": "execute_result",
          "data": {
            "text/plain": [
              "[name: \"/device:CPU:0\"\n",
              " device_type: \"CPU\"\n",
              " memory_limit: 268435456\n",
              " locality {\n",
              " }\n",
              " incarnation: 2531277352792400979\n",
              " xla_global_id: -1, name: \"/device:GPU:0\"\n",
              " device_type: \"GPU\"\n",
              " memory_limit: 11320098816\n",
              " locality {\n",
              "   bus_id: 1\n",
              "   links {\n",
              "   }\n",
              " }\n",
              " incarnation: 16835937091164972347\n",
              " physical_device_desc: \"device: 0, name: Tesla K80, pci bus id: 0000:00:04.0, compute capability: 3.7\"\n",
              " xla_global_id: 416903419]"
            ]
          },
          "metadata": {},
          "execution_count": 3
        }
      ],
      "source": [
        "from tensorflow.python.client import device_lib\n",
        "device_lib.list_local_devices()"
      ],
      "id": "RhSRfSDyu34W"
    },
    {
      "cell_type": "code",
      "execution_count": 5,
      "metadata": {
        "id": "86f42e16"
      },
      "outputs": [],
      "source": [
        "import pandas as pd\n",
        "import numpy as np"
      ],
      "id": "86f42e16"
    },
    {
      "cell_type": "code",
      "execution_count": 6,
      "metadata": {
        "colab": {
          "base_uri": "https://localhost:8080/",
          "height": 164
        },
        "id": "64fd0a3d",
        "outputId": "1bc4bb31-89a9-43c1-c412-71c2e4a92e39"
      },
      "outputs": [
        {
          "output_type": "execute_result",
          "data": {
            "application/vnd.google.colaboratory.intrinsic+json": {
              "type": "string"
            },
            "text/plain": [
              "'신혼부부위한 주택정책 보다 보육시설 늘려주세요.. 국민세금으로 일부를 위한 정책펴지 마시고\\\\n보편적으로 모든국민이 수긍할  수 있는 복지정책 펴 주시길 바랍니다.\\\\n저도 신혼부부이지만 당첨되는 사람 로또되는 이런주택정책 반대합니다.\\\\n국민세금을 일부 사람들에게 퍼주기식이 되면 안되죠..\\\\n그 세금으로 우리아이 안전하게 맡길 수 있는 보육시설을 전국에 설치해 주세요..\\\\n대기업들은 솔선수범해서 모든 사업장에 의무설치 할 수 있도록 하시구요..\\\\n집 보다 애 맡길데가 없어 경력단절 되는게 더 괴롭습니다.!\\\\n집은 개인의 능력을 키워 사는게 맞습니다.\\\\n그 능력을 키울수 있도록 육아 전담에 힘을 기울이는게 맞습니다.\\\\n우리아이 부모가 키우는거 맞지만 이제는 국가가\\\\n책임지는 시대로 가는게 맞다고 봅니다.\\\\n그렇잖아도 부동산 가격 자꾸 올라가는게 정부정책이 잘못 되었다고 봅니다.\\\\n부동산은 그냥 내버려 두세요!  좀!\\\\n건들수록 역효과네요..'"
            ]
          },
          "metadata": {},
          "execution_count": 6
        }
      ],
      "source": [
        "train = pd.read_csv('/content/drive/MyDrive/data/train.csv')\n",
        "test = pd.read_csv('/content/drive/MyDrive/data/test.csv')\n",
        "submission = pd.read_csv(\"/content/drive/MyDrive/data/sample_submission.csv\")\n",
        "train['data'][0]"
      ],
      "id": "64fd0a3d"
    },
    {
      "cell_type": "markdown",
      "metadata": {
        "id": "d1b5506f"
      },
      "source": [
        "# 1. 전처리"
      ],
      "id": "d1b5506f"
    },
    {
      "cell_type": "code",
      "execution_count": 7,
      "metadata": {
        "colab": {
          "base_uri": "https://localhost:8080/"
        },
        "id": "9505ef75",
        "outputId": "0c0c4d0c-d12f-4db8-e514-7b4d4c3d83e1"
      },
      "outputs": [
        {
          "output_type": "stream",
          "name": "stdout",
          "text": [
            "<class 'pandas.core.frame.DataFrame'>\n",
            "Int64Index: 39992 entries, 0 to 39999\n",
            "Data columns (total 3 columns):\n",
            " #   Column    Non-Null Count  Dtype \n",
            "---  ------    --------------  ----- \n",
            " 0   index     39992 non-null  int64 \n",
            " 1   category  39992 non-null  int64 \n",
            " 2   data      39992 non-null  object\n",
            "dtypes: int64(2), object(1)\n",
            "memory usage: 1.2+ MB\n"
          ]
        }
      ],
      "source": [
        "train = train[train['data'].notnull()]\n",
        "train.info()"
      ],
      "id": "9505ef75"
    },
    {
      "cell_type": "code",
      "execution_count": 8,
      "metadata": {
        "id": "e719aef2"
      },
      "outputs": [],
      "source": [
        "train['data'] = train['data'].str.replace(\"[^ㄱ-ㅎㅏ-ㅣ가-힣 ]\",\"\")\n",
        "test['data'] = test['data'].str.replace(\"[^ㄱ-ㅎㅏ-ㅣ가-힣 ]\",\"\")\n",
        "stopwords = ['의','가','이','은','들','는','좀','잘','걍',\n",
        "             '과','도','를','으로','자','에','와','한','하다','을',\n",
        "             '더','좀','자꾸','그냥','이제','우리']"
      ],
      "id": "e719aef2"
    },
    {
      "cell_type": "code",
      "execution_count": 9,
      "metadata": {
        "colab": {
          "base_uri": "https://localhost:8080/",
          "height": 146
        },
        "id": "51305bc7",
        "outputId": "2f1be58c-78b1-40d1-c41d-2d046494f07a"
      },
      "outputs": [
        {
          "output_type": "execute_result",
          "data": {
            "application/vnd.google.colaboratory.intrinsic+json": {
              "type": "string"
            },
            "text/plain": [
              "'신혼부부위한 주택정책 보다 보육시설 늘려주세요 국민세금으로 일부를 위한 정책펴지 마시고보편적으로 모든국민이 수긍할  수 있는 복지정책 펴 주시길 바랍니다저도 신혼부부이지만 당첨되는 사람 로또되는 이런주택정책 반대합니다국민세금을 일부 사람들에게 퍼주기식이 되면 안되죠그 세금으로 우리아이 안전하게 맡길 수 있는 보육시설을 전국에 설치해 주세요대기업들은 솔선수범해서 모든 사업장에 의무설치 할 수 있도록 하시구요집 보다 애 맡길데가 없어 경력단절 되는게 더 괴롭습니다집은 개인의 능력을 키워 사는게 맞습니다그 능력을 키울수 있도록 육아 전담에 힘을 기울이는게 맞습니다우리아이 부모가 키우는거 맞지만 이제는 국가가책임지는 시대로 가는게 맞다고 봅니다그렇잖아도 부동산 가격 자꾸 올라가는게 정부정책이 잘못 되었다고 봅니다부동산은 그냥 내버려 두세요  좀건들수록 역효과네요'"
            ]
          },
          "metadata": {},
          "execution_count": 9
        }
      ],
      "source": [
        "train['data'][0]"
      ],
      "id": "51305bc7"
    },
    {
      "cell_type": "markdown",
      "metadata": {
        "id": "da2a55e7"
      },
      "source": [
        "---"
      ],
      "id": "da2a55e7"
    },
    {
      "cell_type": "markdown",
      "source": [
        "# 2. 데이터 변환\n",
        "- train data -> train/validation data로 분할\n",
        "- tsv 파일로 변환\n",
        "\n",
        "\n",
        "\n",
        "- train --> train_train.tsv, train_validation.tsv\n",
        "- test --> test.tsv"
      ],
      "metadata": {
        "id": "_9zwXd8-thv4"
      },
      "id": "_9zwXd8-thv4"
    },
    {
      "cell_type": "code",
      "source": [
        "train_train = train[:30000]\n",
        "train_validation = train[30000:]\n",
        "train_validation"
      ],
      "metadata": {
        "colab": {
          "base_uri": "https://localhost:8080/",
          "height": 468
        },
        "id": "i2Kcg_yttaYX",
        "outputId": "87911755-bb29-433b-92bd-82506a024b47"
      },
      "id": "i2Kcg_yttaYX",
      "execution_count": 10,
      "outputs": [
        {
          "output_type": "execute_result",
          "data": {
            "text/html": [
              "\n",
              "  <div id=\"df-b9698e9a-a591-45a8-aa0e-e897dbdffb89\">\n",
              "    <div class=\"colab-df-container\">\n",
              "      <div>\n",
              "<style scoped>\n",
              "    .dataframe tbody tr th:only-of-type {\n",
              "        vertical-align: middle;\n",
              "    }\n",
              "\n",
              "    .dataframe tbody tr th {\n",
              "        vertical-align: top;\n",
              "    }\n",
              "\n",
              "    .dataframe thead th {\n",
              "        text-align: right;\n",
              "    }\n",
              "</style>\n",
              "<table border=\"1\" class=\"dataframe\">\n",
              "  <thead>\n",
              "    <tr style=\"text-align: right;\">\n",
              "      <th></th>\n",
              "      <th>index</th>\n",
              "      <th>category</th>\n",
              "      <th>data</th>\n",
              "    </tr>\n",
              "  </thead>\n",
              "  <tbody>\n",
              "    <tr>\n",
              "      <th>30006</th>\n",
              "      <td>30006</td>\n",
              "      <td>0</td>\n",
              "      <td>고 장자영 사건관련 수첩  보도내용 일 오후 방송된  시사교양 프로그램 수첩은 고 ...</td>\n",
              "    </tr>\n",
              "    <tr>\n",
              "      <th>30007</th>\n",
              "      <td>30007</td>\n",
              "      <td>1</td>\n",
              "      <td>나경원을 파면 해주십시요 나경원을 파면 해주십시요</td>\n",
              "    </tr>\n",
              "    <tr>\n",
              "      <th>30008</th>\n",
              "      <td>30008</td>\n",
              "      <td>0</td>\n",
              "      <td>대부분의 초중 교사 초 중 교사가 하는 말  무슨 이유가 있든 여자는 건들면 안된다...</td>\n",
              "    </tr>\n",
              "    <tr>\n",
              "      <th>30009</th>\n",
              "      <td>30009</td>\n",
              "      <td>0</td>\n",
              "      <td>모든 국민의 양심적 병역거부와 병역선택의 보편화를 건의합니다 존경하는 대통령님 언제...</td>\n",
              "    </tr>\n",
              "    <tr>\n",
              "      <th>30010</th>\n",
              "      <td>30010</td>\n",
              "      <td>1</td>\n",
              "      <td>조두순 형량을 늘려주세요 조두순은 한 아이의 평생을 짓밟고 없애버린 희대의 범인입니...</td>\n",
              "    </tr>\n",
              "    <tr>\n",
              "      <th>...</th>\n",
              "      <td>...</td>\n",
              "      <td>...</td>\n",
              "      <td>...</td>\n",
              "    </tr>\n",
              "    <tr>\n",
              "      <th>39995</th>\n",
              "      <td>39995</td>\n",
              "      <td>2</td>\n",
              "      <td>시간유연근무제 저는 국립대에서 일하고 있는 비정규직 근로자입니다동시에  두 자녀의 ...</td>\n",
              "    </tr>\n",
              "    <tr>\n",
              "      <th>39996</th>\n",
              "      <td>39996</td>\n",
              "      <td>0</td>\n",
              "      <td>소년법을 폐지해 주시고 부산 여중생 가해자 학생들의 강력한 처벌을 요구합니다 소년법...</td>\n",
              "    </tr>\n",
              "    <tr>\n",
              "      <th>39997</th>\n",
              "      <td>39997</td>\n",
              "      <td>2</td>\n",
              "      <td>무서운데 지켜야 할게 있어요 도와주세요 안녕하세요  한부모엄마 입니다양육비를 받고 ...</td>\n",
              "    </tr>\n",
              "    <tr>\n",
              "      <th>39998</th>\n",
              "      <td>39998</td>\n",
              "      <td>2</td>\n",
              "      <td>교복에  고정식 이름표를 달게 하는 것을 금지해 주세요 교복에 이름표를 박아놓아 탈...</td>\n",
              "    </tr>\n",
              "    <tr>\n",
              "      <th>39999</th>\n",
              "      <td>39999</td>\n",
              "      <td>0</td>\n",
              "      <td>합의성관계 가능 나이연령을 올리십시오 제가 형법공부를하다가 문제를풀고있는데금지착오부...</td>\n",
              "    </tr>\n",
              "  </tbody>\n",
              "</table>\n",
              "<p>9992 rows × 3 columns</p>\n",
              "</div>\n",
              "      <button class=\"colab-df-convert\" onclick=\"convertToInteractive('df-b9698e9a-a591-45a8-aa0e-e897dbdffb89')\"\n",
              "              title=\"Convert this dataframe to an interactive table.\"\n",
              "              style=\"display:none;\">\n",
              "        \n",
              "  <svg xmlns=\"http://www.w3.org/2000/svg\" height=\"24px\"viewBox=\"0 0 24 24\"\n",
              "       width=\"24px\">\n",
              "    <path d=\"M0 0h24v24H0V0z\" fill=\"none\"/>\n",
              "    <path d=\"M18.56 5.44l.94 2.06.94-2.06 2.06-.94-2.06-.94-.94-2.06-.94 2.06-2.06.94zm-11 1L8.5 8.5l.94-2.06 2.06-.94-2.06-.94L8.5 2.5l-.94 2.06-2.06.94zm10 10l.94 2.06.94-2.06 2.06-.94-2.06-.94-.94-2.06-.94 2.06-2.06.94z\"/><path d=\"M17.41 7.96l-1.37-1.37c-.4-.4-.92-.59-1.43-.59-.52 0-1.04.2-1.43.59L10.3 9.45l-7.72 7.72c-.78.78-.78 2.05 0 2.83L4 21.41c.39.39.9.59 1.41.59.51 0 1.02-.2 1.41-.59l7.78-7.78 2.81-2.81c.8-.78.8-2.07 0-2.86zM5.41 20L4 18.59l7.72-7.72 1.47 1.35L5.41 20z\"/>\n",
              "  </svg>\n",
              "      </button>\n",
              "      \n",
              "  <style>\n",
              "    .colab-df-container {\n",
              "      display:flex;\n",
              "      flex-wrap:wrap;\n",
              "      gap: 12px;\n",
              "    }\n",
              "\n",
              "    .colab-df-convert {\n",
              "      background-color: #E8F0FE;\n",
              "      border: none;\n",
              "      border-radius: 50%;\n",
              "      cursor: pointer;\n",
              "      display: none;\n",
              "      fill: #1967D2;\n",
              "      height: 32px;\n",
              "      padding: 0 0 0 0;\n",
              "      width: 32px;\n",
              "    }\n",
              "\n",
              "    .colab-df-convert:hover {\n",
              "      background-color: #E2EBFA;\n",
              "      box-shadow: 0px 1px 2px rgba(60, 64, 67, 0.3), 0px 1px 3px 1px rgba(60, 64, 67, 0.15);\n",
              "      fill: #174EA6;\n",
              "    }\n",
              "\n",
              "    [theme=dark] .colab-df-convert {\n",
              "      background-color: #3B4455;\n",
              "      fill: #D2E3FC;\n",
              "    }\n",
              "\n",
              "    [theme=dark] .colab-df-convert:hover {\n",
              "      background-color: #434B5C;\n",
              "      box-shadow: 0px 1px 3px 1px rgba(0, 0, 0, 0.15);\n",
              "      filter: drop-shadow(0px 1px 2px rgba(0, 0, 0, 0.3));\n",
              "      fill: #FFFFFF;\n",
              "    }\n",
              "  </style>\n",
              "\n",
              "      <script>\n",
              "        const buttonEl =\n",
              "          document.querySelector('#df-b9698e9a-a591-45a8-aa0e-e897dbdffb89 button.colab-df-convert');\n",
              "        buttonEl.style.display =\n",
              "          google.colab.kernel.accessAllowed ? 'block' : 'none';\n",
              "\n",
              "        async function convertToInteractive(key) {\n",
              "          const element = document.querySelector('#df-b9698e9a-a591-45a8-aa0e-e897dbdffb89');\n",
              "          const dataTable =\n",
              "            await google.colab.kernel.invokeFunction('convertToInteractive',\n",
              "                                                     [key], {});\n",
              "          if (!dataTable) return;\n",
              "\n",
              "          const docLinkHtml = 'Like what you see? Visit the ' +\n",
              "            '<a target=\"_blank\" href=https://colab.research.google.com/notebooks/data_table.ipynb>data table notebook</a>'\n",
              "            + ' to learn more about interactive tables.';\n",
              "          element.innerHTML = '';\n",
              "          dataTable['output_type'] = 'display_data';\n",
              "          await google.colab.output.renderOutput(dataTable, element);\n",
              "          const docLink = document.createElement('div');\n",
              "          docLink.innerHTML = docLinkHtml;\n",
              "          element.appendChild(docLink);\n",
              "        }\n",
              "      </script>\n",
              "    </div>\n",
              "  </div>\n",
              "  "
            ],
            "text/plain": [
              "       index  category                                               data\n",
              "30006  30006         0  고 장자영 사건관련 수첩  보도내용 일 오후 방송된  시사교양 프로그램 수첩은 고 ...\n",
              "30007  30007         1                        나경원을 파면 해주십시요 나경원을 파면 해주십시요\n",
              "30008  30008         0  대부분의 초중 교사 초 중 교사가 하는 말  무슨 이유가 있든 여자는 건들면 안된다...\n",
              "30009  30009         0  모든 국민의 양심적 병역거부와 병역선택의 보편화를 건의합니다 존경하는 대통령님 언제...\n",
              "30010  30010         1  조두순 형량을 늘려주세요 조두순은 한 아이의 평생을 짓밟고 없애버린 희대의 범인입니...\n",
              "...      ...       ...                                                ...\n",
              "39995  39995         2  시간유연근무제 저는 국립대에서 일하고 있는 비정규직 근로자입니다동시에  두 자녀의 ...\n",
              "39996  39996         0  소년법을 폐지해 주시고 부산 여중생 가해자 학생들의 강력한 처벌을 요구합니다 소년법...\n",
              "39997  39997         2  무서운데 지켜야 할게 있어요 도와주세요 안녕하세요  한부모엄마 입니다양육비를 받고 ...\n",
              "39998  39998         2  교복에  고정식 이름표를 달게 하는 것을 금지해 주세요 교복에 이름표를 박아놓아 탈...\n",
              "39999  39999         0  합의성관계 가능 나이연령을 올리십시오 제가 형법공부를하다가 문제를풀고있는데금지착오부...\n",
              "\n",
              "[9992 rows x 3 columns]"
            ]
          },
          "metadata": {},
          "execution_count": 10
        }
      ]
    },
    {
      "cell_type": "code",
      "source": [
        "import os\n",
        "os.chdir('/content/drive/MyDrive/data')\n",
        "os.getcwd()"
      ],
      "metadata": {
        "colab": {
          "base_uri": "https://localhost:8080/",
          "height": 35
        },
        "id": "7nSKKSNytzE8",
        "outputId": "aaf65419-93bb-4374-bf19-f89a75bca857"
      },
      "id": "7nSKKSNytzE8",
      "execution_count": 11,
      "outputs": [
        {
          "output_type": "execute_result",
          "data": {
            "application/vnd.google.colaboratory.intrinsic+json": {
              "type": "string"
            },
            "text/plain": [
              "'/content/drive/MyDrive/data'"
            ]
          },
          "metadata": {},
          "execution_count": 11
        }
      ]
    },
    {
      "cell_type": "code",
      "source": [
        "train_train.to_csv('train_train.tsv',sep='\\t',encoding='utf-8',index=False)\n",
        "train_validation.to_csv('train_validation.tsv',sep='\\t',encoding='utf-8',index=False)"
      ],
      "metadata": {
        "id": "l4guH0qwuCzI"
      },
      "id": "l4guH0qwuCzI",
      "execution_count": 16,
      "outputs": []
    },
    {
      "cell_type": "code",
      "source": [
        "test['category'] = 0\n",
        "test.to_csv('test.tsv',sep='\\t',encoding='utf-8',index=False)\n",
        "test"
      ],
      "metadata": {
        "colab": {
          "base_uri": "https://localhost:8080/",
          "height": 468
        },
        "id": "kR3d0A0tt5QR",
        "outputId": "9eb43862-a91b-4a66-f1ed-175c6b46195f"
      },
      "id": "kR3d0A0tt5QR",
      "execution_count": 17,
      "outputs": [
        {
          "output_type": "execute_result",
          "data": {
            "text/html": [
              "\n",
              "  <div id=\"df-67621af6-38fa-417a-8165-e98db3c22202\">\n",
              "    <div class=\"colab-df-container\">\n",
              "      <div>\n",
              "<style scoped>\n",
              "    .dataframe tbody tr th:only-of-type {\n",
              "        vertical-align: middle;\n",
              "    }\n",
              "\n",
              "    .dataframe tbody tr th {\n",
              "        vertical-align: top;\n",
              "    }\n",
              "\n",
              "    .dataframe thead th {\n",
              "        text-align: right;\n",
              "    }\n",
              "</style>\n",
              "<table border=\"1\" class=\"dataframe\">\n",
              "  <thead>\n",
              "    <tr style=\"text-align: right;\">\n",
              "      <th></th>\n",
              "      <th>index</th>\n",
              "      <th>data</th>\n",
              "      <th>category</th>\n",
              "    </tr>\n",
              "  </thead>\n",
              "  <tbody>\n",
              "    <tr>\n",
              "      <th>0</th>\n",
              "      <td>0</td>\n",
              "      <td>소년법 폐지해주세요 법 아래에서 보호받아야 할 아이들이법으로 인해 보호받지 못하고 ...</td>\n",
              "      <td>0</td>\n",
              "    </tr>\n",
              "    <tr>\n",
              "      <th>1</th>\n",
              "      <td>1</td>\n",
              "      <td>국공립 유치원 증설에 관하여 국공립 유치원 부지 학보와건립및 증설에지역 어린이 놀이...</td>\n",
              "      <td>0</td>\n",
              "    </tr>\n",
              "    <tr>\n",
              "      <th>2</th>\n",
              "      <td>2</td>\n",
              "      <td>나경원파면 나경원의원의  동계올림픽 위원을 파면해 주세요</td>\n",
              "      <td>0</td>\n",
              "    </tr>\n",
              "    <tr>\n",
              "      <th>3</th>\n",
              "      <td>3</td>\n",
              "      <td>국민위원에가 삼성편만들어요 삼성에서 년간  일하고 혈암과 백혈병 진단을 받은 사람이...</td>\n",
              "      <td>0</td>\n",
              "    </tr>\n",
              "    <tr>\n",
              "      <th>4</th>\n",
              "      <td>4</td>\n",
              "      <td>방과후유치원어린이집 영어교육을 유지시켜주세요 저는 아이 셋 키우는 평범한 주부입니다...</td>\n",
              "      <td>0</td>\n",
              "    </tr>\n",
              "    <tr>\n",
              "      <th>...</th>\n",
              "      <td>...</td>\n",
              "      <td>...</td>\n",
              "      <td>...</td>\n",
              "    </tr>\n",
              "    <tr>\n",
              "      <th>4995</th>\n",
              "      <td>4995</td>\n",
              "      <td>페이스북 개인신상정보 개털렸는데 이대로 존경하신 문재인 대통령님 얼마전 미국본사로둔...</td>\n",
              "      <td>0</td>\n",
              "    </tr>\n",
              "    <tr>\n",
              "      <th>4996</th>\n",
              "      <td>4996</td>\n",
              "      <td>아시안 게임에 야구프로스포츠 선수참여금지 청원합니다 뭐 대놓고 병역브로커 하자는것인...</td>\n",
              "      <td>0</td>\n",
              "    </tr>\n",
              "    <tr>\n",
              "      <th>4997</th>\n",
              "      <td>4997</td>\n",
              "      <td>손흥민국가대표자격 영구박탈청원합니다 광고찍을때랑 군면제걸렸을때 소속팀 토튼햄에서만 ...</td>\n",
              "      <td>0</td>\n",
              "    </tr>\n",
              "    <tr>\n",
              "      <th>4998</th>\n",
              "      <td>4998</td>\n",
              "      <td>한진 사모님 이명희를 구속시키는 방안을 찿아보세요 일단 밝혀진 피해자가 명입니다 아...</td>\n",
              "      <td>0</td>\n",
              "    </tr>\n",
              "    <tr>\n",
              "      <th>4999</th>\n",
              "      <td>4999</td>\n",
              "      <td>기저귀 갈아주는 장소로 공공기관 활용했으면 손자가 생후 개월 된 초보할머니입니다온 ...</td>\n",
              "      <td>0</td>\n",
              "    </tr>\n",
              "  </tbody>\n",
              "</table>\n",
              "<p>5000 rows × 3 columns</p>\n",
              "</div>\n",
              "      <button class=\"colab-df-convert\" onclick=\"convertToInteractive('df-67621af6-38fa-417a-8165-e98db3c22202')\"\n",
              "              title=\"Convert this dataframe to an interactive table.\"\n",
              "              style=\"display:none;\">\n",
              "        \n",
              "  <svg xmlns=\"http://www.w3.org/2000/svg\" height=\"24px\"viewBox=\"0 0 24 24\"\n",
              "       width=\"24px\">\n",
              "    <path d=\"M0 0h24v24H0V0z\" fill=\"none\"/>\n",
              "    <path d=\"M18.56 5.44l.94 2.06.94-2.06 2.06-.94-2.06-.94-.94-2.06-.94 2.06-2.06.94zm-11 1L8.5 8.5l.94-2.06 2.06-.94-2.06-.94L8.5 2.5l-.94 2.06-2.06.94zm10 10l.94 2.06.94-2.06 2.06-.94-2.06-.94-.94-2.06-.94 2.06-2.06.94z\"/><path d=\"M17.41 7.96l-1.37-1.37c-.4-.4-.92-.59-1.43-.59-.52 0-1.04.2-1.43.59L10.3 9.45l-7.72 7.72c-.78.78-.78 2.05 0 2.83L4 21.41c.39.39.9.59 1.41.59.51 0 1.02-.2 1.41-.59l7.78-7.78 2.81-2.81c.8-.78.8-2.07 0-2.86zM5.41 20L4 18.59l7.72-7.72 1.47 1.35L5.41 20z\"/>\n",
              "  </svg>\n",
              "      </button>\n",
              "      \n",
              "  <style>\n",
              "    .colab-df-container {\n",
              "      display:flex;\n",
              "      flex-wrap:wrap;\n",
              "      gap: 12px;\n",
              "    }\n",
              "\n",
              "    .colab-df-convert {\n",
              "      background-color: #E8F0FE;\n",
              "      border: none;\n",
              "      border-radius: 50%;\n",
              "      cursor: pointer;\n",
              "      display: none;\n",
              "      fill: #1967D2;\n",
              "      height: 32px;\n",
              "      padding: 0 0 0 0;\n",
              "      width: 32px;\n",
              "    }\n",
              "\n",
              "    .colab-df-convert:hover {\n",
              "      background-color: #E2EBFA;\n",
              "      box-shadow: 0px 1px 2px rgba(60, 64, 67, 0.3), 0px 1px 3px 1px rgba(60, 64, 67, 0.15);\n",
              "      fill: #174EA6;\n",
              "    }\n",
              "\n",
              "    [theme=dark] .colab-df-convert {\n",
              "      background-color: #3B4455;\n",
              "      fill: #D2E3FC;\n",
              "    }\n",
              "\n",
              "    [theme=dark] .colab-df-convert:hover {\n",
              "      background-color: #434B5C;\n",
              "      box-shadow: 0px 1px 3px 1px rgba(0, 0, 0, 0.15);\n",
              "      filter: drop-shadow(0px 1px 2px rgba(0, 0, 0, 0.3));\n",
              "      fill: #FFFFFF;\n",
              "    }\n",
              "  </style>\n",
              "\n",
              "      <script>\n",
              "        const buttonEl =\n",
              "          document.querySelector('#df-67621af6-38fa-417a-8165-e98db3c22202 button.colab-df-convert');\n",
              "        buttonEl.style.display =\n",
              "          google.colab.kernel.accessAllowed ? 'block' : 'none';\n",
              "\n",
              "        async function convertToInteractive(key) {\n",
              "          const element = document.querySelector('#df-67621af6-38fa-417a-8165-e98db3c22202');\n",
              "          const dataTable =\n",
              "            await google.colab.kernel.invokeFunction('convertToInteractive',\n",
              "                                                     [key], {});\n",
              "          if (!dataTable) return;\n",
              "\n",
              "          const docLinkHtml = 'Like what you see? Visit the ' +\n",
              "            '<a target=\"_blank\" href=https://colab.research.google.com/notebooks/data_table.ipynb>data table notebook</a>'\n",
              "            + ' to learn more about interactive tables.';\n",
              "          element.innerHTML = '';\n",
              "          dataTable['output_type'] = 'display_data';\n",
              "          await google.colab.output.renderOutput(dataTable, element);\n",
              "          const docLink = document.createElement('div');\n",
              "          docLink.innerHTML = docLinkHtml;\n",
              "          element.appendChild(docLink);\n",
              "        }\n",
              "      </script>\n",
              "    </div>\n",
              "  </div>\n",
              "  "
            ],
            "text/plain": [
              "      index                                               data  category\n",
              "0         0  소년법 폐지해주세요 법 아래에서 보호받아야 할 아이들이법으로 인해 보호받지 못하고 ...         0\n",
              "1         1  국공립 유치원 증설에 관하여 국공립 유치원 부지 학보와건립및 증설에지역 어린이 놀이...         0\n",
              "2         2                    나경원파면 나경원의원의  동계올림픽 위원을 파면해 주세요         0\n",
              "3         3  국민위원에가 삼성편만들어요 삼성에서 년간  일하고 혈암과 백혈병 진단을 받은 사람이...         0\n",
              "4         4  방과후유치원어린이집 영어교육을 유지시켜주세요 저는 아이 셋 키우는 평범한 주부입니다...         0\n",
              "...     ...                                                ...       ...\n",
              "4995   4995  페이스북 개인신상정보 개털렸는데 이대로 존경하신 문재인 대통령님 얼마전 미국본사로둔...         0\n",
              "4996   4996  아시안 게임에 야구프로스포츠 선수참여금지 청원합니다 뭐 대놓고 병역브로커 하자는것인...         0\n",
              "4997   4997  손흥민국가대표자격 영구박탈청원합니다 광고찍을때랑 군면제걸렸을때 소속팀 토튼햄에서만 ...         0\n",
              "4998   4998  한진 사모님 이명희를 구속시키는 방안을 찿아보세요 일단 밝혀진 피해자가 명입니다 아...         0\n",
              "4999   4999  기저귀 갈아주는 장소로 공공기관 활용했으면 손자가 생후 개월 된 초보할머니입니다온 ...         0\n",
              "\n",
              "[5000 rows x 3 columns]"
            ]
          },
          "metadata": {},
          "execution_count": 17
        }
      ]
    },
    {
      "cell_type": "markdown",
      "metadata": {
        "id": "92f6c037"
      },
      "source": [
        "---\n",
        "# 3. Kobert 모델\n",
        "\n"
      ],
      "id": "92f6c037"
    },
    {
      "cell_type": "markdown",
      "source": [
        "### 1) install & setting"
      ],
      "metadata": {
        "id": "KEu9qLxRw_9H"
      },
      "id": "KEu9qLxRw_9H"
    },
    {
      "cell_type": "code",
      "execution_count": 19,
      "metadata": {
        "colab": {
          "base_uri": "https://localhost:8080/",
          "height": 35
        },
        "id": "626f8472",
        "outputId": "4d0110a2-5da3-4aa6-d611-534091abb331"
      },
      "outputs": [
        {
          "output_type": "execute_result",
          "data": {
            "application/vnd.google.colaboratory.intrinsic+json": {
              "type": "string"
            },
            "text/plain": [
              "'/content/drive/My Drive/data'"
            ]
          },
          "metadata": {},
          "execution_count": 19
        }
      ],
      "source": [
        "os.getcwd()"
      ],
      "id": "626f8472"
    },
    {
      "cell_type": "code",
      "execution_count": 20,
      "metadata": {
        "colab": {
          "base_uri": "https://localhost:8080/",
          "height": 35
        },
        "id": "J5wb7dSh3BU4",
        "outputId": "cbcf9928-7da4-4458-cf77-5d2f9cdb4225"
      },
      "outputs": [
        {
          "output_type": "execute_result",
          "data": {
            "application/vnd.google.colaboratory.intrinsic+json": {
              "type": "string"
            },
            "text/plain": [
              "'/content/drive/MyDrive/data/KoBERT-master'"
            ]
          },
          "metadata": {},
          "execution_count": 20
        }
      ],
      "source": [
        "os.chdir('/content/drive/MyDrive/data/KoBERT-master')\n",
        "os.getcwd()"
      ],
      "id": "J5wb7dSh3BU4"
    },
    {
      "cell_type": "code",
      "execution_count": 26,
      "metadata": {
        "colab": {
          "base_uri": "https://localhost:8080/"
        },
        "id": "82d20612",
        "outputId": "95958854-5167-4c83-bc41-818e60308562"
      },
      "outputs": [
        {
          "output_type": "stream",
          "name": "stdout",
          "text": [
            "Requirement already satisfied: boto3 in /usr/local/lib/python3.7/dist-packages (from -r requirements.txt (line 1)) (1.20.26)\n",
            "Requirement already satisfied: gluonnlp>=0.6.0 in /usr/local/lib/python3.7/dist-packages (from -r requirements.txt (line 2)) (0.10.0)\n",
            "Requirement already satisfied: mxnet>=1.4.0 in /usr/local/lib/python3.7/dist-packages (from -r requirements.txt (line 3)) (1.9.0)\n",
            "Requirement already satisfied: onnxruntime==0.3.0 in /usr/local/lib/python3.7/dist-packages (from -r requirements.txt (line 4)) (0.3.0)\n",
            "Requirement already satisfied: sentencepiece>=0.1.6 in /usr/local/lib/python3.7/dist-packages (from -r requirements.txt (line 5)) (0.1.96)\n",
            "Requirement already satisfied: torch>=1.7.0 in /usr/local/lib/python3.7/dist-packages (from -r requirements.txt (line 6)) (1.10.0+cu111)\n",
            "Requirement already satisfied: transformers>=4.8.1 in /usr/local/lib/python3.7/dist-packages (from -r requirements.txt (line 7)) (4.15.0)\n",
            "Requirement already satisfied: cython in /usr/local/lib/python3.7/dist-packages (from gluonnlp>=0.6.0->-r requirements.txt (line 2)) (0.29.24)\n",
            "Requirement already satisfied: packaging in /usr/local/lib/python3.7/dist-packages (from gluonnlp>=0.6.0->-r requirements.txt (line 2)) (21.3)\n",
            "Requirement already satisfied: numpy>=1.16.0 in /usr/local/lib/python3.7/dist-packages (from gluonnlp>=0.6.0->-r requirements.txt (line 2)) (1.19.5)\n",
            "Requirement already satisfied: graphviz<0.9.0,>=0.8.1 in /usr/local/lib/python3.7/dist-packages (from mxnet>=1.4.0->-r requirements.txt (line 3)) (0.8.4)\n",
            "Requirement already satisfied: requests<3,>=2.20.0 in /usr/local/lib/python3.7/dist-packages (from mxnet>=1.4.0->-r requirements.txt (line 3)) (2.23.0)\n",
            "Requirement already satisfied: typing-extensions in /usr/local/lib/python3.7/dist-packages (from torch>=1.7.0->-r requirements.txt (line 6)) (3.10.0.2)\n",
            "Requirement already satisfied: importlib-metadata in /usr/local/lib/python3.7/dist-packages (from transformers>=4.8.1->-r requirements.txt (line 7)) (4.8.2)\n",
            "Requirement already satisfied: regex!=2019.12.17 in /usr/local/lib/python3.7/dist-packages (from transformers>=4.8.1->-r requirements.txt (line 7)) (2019.12.20)\n",
            "Requirement already satisfied: huggingface-hub<1.0,>=0.1.0 in /usr/local/lib/python3.7/dist-packages (from transformers>=4.8.1->-r requirements.txt (line 7)) (0.2.1)\n",
            "Requirement already satisfied: tokenizers<0.11,>=0.10.1 in /usr/local/lib/python3.7/dist-packages (from transformers>=4.8.1->-r requirements.txt (line 7)) (0.10.3)\n",
            "Requirement already satisfied: tqdm>=4.27 in /usr/local/lib/python3.7/dist-packages (from transformers>=4.8.1->-r requirements.txt (line 7)) (4.62.3)\n",
            "Requirement already satisfied: pyyaml>=5.1 in /usr/local/lib/python3.7/dist-packages (from transformers>=4.8.1->-r requirements.txt (line 7)) (6.0)\n",
            "Requirement already satisfied: filelock in /usr/local/lib/python3.7/dist-packages (from transformers>=4.8.1->-r requirements.txt (line 7)) (3.4.0)\n",
            "Requirement already satisfied: sacremoses in /usr/local/lib/python3.7/dist-packages (from transformers>=4.8.1->-r requirements.txt (line 7)) (0.0.46)\n",
            "Requirement already satisfied: pyparsing!=3.0.5,>=2.0.2 in /usr/local/lib/python3.7/dist-packages (from packaging->gluonnlp>=0.6.0->-r requirements.txt (line 2)) (3.0.6)\n",
            "Requirement already satisfied: urllib3!=1.25.0,!=1.25.1,<1.26,>=1.21.1 in /usr/local/lib/python3.7/dist-packages (from requests<3,>=2.20.0->mxnet>=1.4.0->-r requirements.txt (line 3)) (1.25.11)\n",
            "Requirement already satisfied: idna<3,>=2.5 in /usr/local/lib/python3.7/dist-packages (from requests<3,>=2.20.0->mxnet>=1.4.0->-r requirements.txt (line 3)) (2.10)\n",
            "Requirement already satisfied: chardet<4,>=3.0.2 in /usr/local/lib/python3.7/dist-packages (from requests<3,>=2.20.0->mxnet>=1.4.0->-r requirements.txt (line 3)) (3.0.4)\n",
            "Requirement already satisfied: certifi>=2017.4.17 in /usr/local/lib/python3.7/dist-packages (from requests<3,>=2.20.0->mxnet>=1.4.0->-r requirements.txt (line 3)) (2021.10.8)\n",
            "Requirement already satisfied: botocore<1.24.0,>=1.23.26 in /usr/local/lib/python3.7/dist-packages (from boto3->-r requirements.txt (line 1)) (1.23.26)\n",
            "Requirement already satisfied: s3transfer<0.6.0,>=0.5.0 in /usr/local/lib/python3.7/dist-packages (from boto3->-r requirements.txt (line 1)) (0.5.0)\n",
            "Requirement already satisfied: jmespath<1.0.0,>=0.7.1 in /usr/local/lib/python3.7/dist-packages (from boto3->-r requirements.txt (line 1)) (0.10.0)\n",
            "Requirement already satisfied: python-dateutil<3.0.0,>=2.1 in /usr/local/lib/python3.7/dist-packages (from botocore<1.24.0,>=1.23.26->boto3->-r requirements.txt (line 1)) (2.8.2)\n",
            "Requirement already satisfied: six>=1.5 in /usr/local/lib/python3.7/dist-packages (from python-dateutil<3.0.0,>=2.1->botocore<1.24.0,>=1.23.26->boto3->-r requirements.txt (line 1)) (1.15.0)\n",
            "Requirement already satisfied: zipp>=0.5 in /usr/local/lib/python3.7/dist-packages (from importlib-metadata->transformers>=4.8.1->-r requirements.txt (line 7)) (3.6.0)\n",
            "Requirement already satisfied: click in /usr/local/lib/python3.7/dist-packages (from sacremoses->transformers>=4.8.1->-r requirements.txt (line 7)) (7.1.2)\n",
            "Requirement already satisfied: joblib in /usr/local/lib/python3.7/dist-packages (from sacremoses->transformers>=4.8.1->-r requirements.txt (line 7)) (1.1.0)\n"
          ]
        }
      ],
      "source": [
        "pip install -r requirements.txt"
      ],
      "id": "82d20612"
    },
    {
      "cell_type": "code",
      "execution_count": 27,
      "metadata": {
        "colab": {
          "base_uri": "https://localhost:8080/"
        },
        "id": "jXcCK-SA3UYz",
        "outputId": "61f989b5-b9f5-40a6-d8d1-2382b5b3b46b"
      },
      "outputs": [
        {
          "output_type": "stream",
          "name": "stdout",
          "text": [
            "Processing /content/drive/MyDrive/data/KoBERT-master\n",
            "\u001b[33m  DEPRECATION: A future pip version will change local packages to be built in-place without first copying to a temporary directory. We recommend you use --use-feature=in-tree-build to test your packages with this new behavior before it becomes the default.\n",
            "   pip 21.3 will remove support for this functionality. You can find discussion regarding this at https://github.com/pypa/pip/issues/7555.\u001b[0m\n",
            "Requirement already satisfied: boto3 in /usr/local/lib/python3.7/dist-packages (from kobert==0.2.1) (1.20.26)\n",
            "Requirement already satisfied: gluonnlp>=0.6.0 in /usr/local/lib/python3.7/dist-packages (from kobert==0.2.1) (0.10.0)\n",
            "Requirement already satisfied: mxnet>=1.4.0 in /usr/local/lib/python3.7/dist-packages (from kobert==0.2.1) (1.9.0)\n",
            "Requirement already satisfied: onnxruntime==0.3.0 in /usr/local/lib/python3.7/dist-packages (from kobert==0.2.1) (0.3.0)\n",
            "Requirement already satisfied: sentencepiece>=0.1.6 in /usr/local/lib/python3.7/dist-packages (from kobert==0.2.1) (0.1.96)\n",
            "Requirement already satisfied: torch>=1.7.0 in /usr/local/lib/python3.7/dist-packages (from kobert==0.2.1) (1.10.0+cu111)\n",
            "Requirement already satisfied: transformers>=4.8.1 in /usr/local/lib/python3.7/dist-packages (from kobert==0.2.1) (4.15.0)\n",
            "Requirement already satisfied: cython in /usr/local/lib/python3.7/dist-packages (from gluonnlp>=0.6.0->kobert==0.2.1) (0.29.24)\n",
            "Requirement already satisfied: packaging in /usr/local/lib/python3.7/dist-packages (from gluonnlp>=0.6.0->kobert==0.2.1) (21.3)\n",
            "Requirement already satisfied: numpy>=1.16.0 in /usr/local/lib/python3.7/dist-packages (from gluonnlp>=0.6.0->kobert==0.2.1) (1.19.5)\n",
            "Requirement already satisfied: requests<3,>=2.20.0 in /usr/local/lib/python3.7/dist-packages (from mxnet>=1.4.0->kobert==0.2.1) (2.23.0)\n",
            "Requirement already satisfied: graphviz<0.9.0,>=0.8.1 in /usr/local/lib/python3.7/dist-packages (from mxnet>=1.4.0->kobert==0.2.1) (0.8.4)\n",
            "Requirement already satisfied: urllib3!=1.25.0,!=1.25.1,<1.26,>=1.21.1 in /usr/local/lib/python3.7/dist-packages (from requests<3,>=2.20.0->mxnet>=1.4.0->kobert==0.2.1) (1.25.11)\n",
            "Requirement already satisfied: certifi>=2017.4.17 in /usr/local/lib/python3.7/dist-packages (from requests<3,>=2.20.0->mxnet>=1.4.0->kobert==0.2.1) (2021.10.8)\n",
            "Requirement already satisfied: idna<3,>=2.5 in /usr/local/lib/python3.7/dist-packages (from requests<3,>=2.20.0->mxnet>=1.4.0->kobert==0.2.1) (2.10)\n",
            "Requirement already satisfied: chardet<4,>=3.0.2 in /usr/local/lib/python3.7/dist-packages (from requests<3,>=2.20.0->mxnet>=1.4.0->kobert==0.2.1) (3.0.4)\n",
            "Requirement already satisfied: typing-extensions in /usr/local/lib/python3.7/dist-packages (from torch>=1.7.0->kobert==0.2.1) (3.10.0.2)\n",
            "Requirement already satisfied: tokenizers<0.11,>=0.10.1 in /usr/local/lib/python3.7/dist-packages (from transformers>=4.8.1->kobert==0.2.1) (0.10.3)\n",
            "Requirement already satisfied: importlib-metadata in /usr/local/lib/python3.7/dist-packages (from transformers>=4.8.1->kobert==0.2.1) (4.8.2)\n",
            "Requirement already satisfied: huggingface-hub<1.0,>=0.1.0 in /usr/local/lib/python3.7/dist-packages (from transformers>=4.8.1->kobert==0.2.1) (0.2.1)\n",
            "Requirement already satisfied: pyyaml>=5.1 in /usr/local/lib/python3.7/dist-packages (from transformers>=4.8.1->kobert==0.2.1) (6.0)\n",
            "Requirement already satisfied: tqdm>=4.27 in /usr/local/lib/python3.7/dist-packages (from transformers>=4.8.1->kobert==0.2.1) (4.62.3)\n",
            "Requirement already satisfied: sacremoses in /usr/local/lib/python3.7/dist-packages (from transformers>=4.8.1->kobert==0.2.1) (0.0.46)\n",
            "Requirement already satisfied: regex!=2019.12.17 in /usr/local/lib/python3.7/dist-packages (from transformers>=4.8.1->kobert==0.2.1) (2019.12.20)\n",
            "Requirement already satisfied: filelock in /usr/local/lib/python3.7/dist-packages (from transformers>=4.8.1->kobert==0.2.1) (3.4.0)\n",
            "Requirement already satisfied: pyparsing!=3.0.5,>=2.0.2 in /usr/local/lib/python3.7/dist-packages (from packaging->gluonnlp>=0.6.0->kobert==0.2.1) (3.0.6)\n",
            "Requirement already satisfied: s3transfer<0.6.0,>=0.5.0 in /usr/local/lib/python3.7/dist-packages (from boto3->kobert==0.2.1) (0.5.0)\n",
            "Requirement already satisfied: jmespath<1.0.0,>=0.7.1 in /usr/local/lib/python3.7/dist-packages (from boto3->kobert==0.2.1) (0.10.0)\n",
            "Requirement already satisfied: botocore<1.24.0,>=1.23.26 in /usr/local/lib/python3.7/dist-packages (from boto3->kobert==0.2.1) (1.23.26)\n",
            "Requirement already satisfied: python-dateutil<3.0.0,>=2.1 in /usr/local/lib/python3.7/dist-packages (from botocore<1.24.0,>=1.23.26->boto3->kobert==0.2.1) (2.8.2)\n",
            "Requirement already satisfied: six>=1.5 in /usr/local/lib/python3.7/dist-packages (from python-dateutil<3.0.0,>=2.1->botocore<1.24.0,>=1.23.26->boto3->kobert==0.2.1) (1.15.0)\n",
            "Requirement already satisfied: zipp>=0.5 in /usr/local/lib/python3.7/dist-packages (from importlib-metadata->transformers>=4.8.1->kobert==0.2.1) (3.6.0)\n",
            "Requirement already satisfied: click in /usr/local/lib/python3.7/dist-packages (from sacremoses->transformers>=4.8.1->kobert==0.2.1) (7.1.2)\n",
            "Requirement already satisfied: joblib in /usr/local/lib/python3.7/dist-packages (from sacremoses->transformers>=4.8.1->kobert==0.2.1) (1.1.0)\n",
            "Building wheels for collected packages: kobert\n",
            "  Building wheel for kobert (setup.py) ... \u001b[?25l\u001b[?25hdone\n",
            "  Created wheel for kobert: filename=kobert-0.2.1-py3-none-any.whl size=13006 sha256=6ff62c4e21762093f4b25c1c4d72e5d7ca68bd9c78fe65e2825e045936dd691b\n",
            "  Stored in directory: /root/.cache/pip/wheels/21/20/5e/6fb72e5b281231254873585d6b140dee9b0d2c64c136df630a\n",
            "Successfully built kobert\n",
            "Installing collected packages: kobert\n",
            "  Attempting uninstall: kobert\n",
            "    Found existing installation: kobert 0.2.1\n",
            "    Uninstalling kobert-0.2.1:\n",
            "      Successfully uninstalled kobert-0.2.1\n",
            "Successfully installed kobert-0.2.1\n"
          ]
        }
      ],
      "source": [
        "pip install ."
      ],
      "id": "jXcCK-SA3UYz"
    },
    {
      "cell_type": "code",
      "source": [
        "# pip install --upgrade sagemaker"
      ],
      "metadata": {
        "id": "WZOx1G5svyWR"
      },
      "id": "WZOx1G5svyWR",
      "execution_count": 21,
      "outputs": []
    },
    {
      "cell_type": "code",
      "execution_count": 22,
      "metadata": {
        "id": "KpuTOny5366j"
      },
      "outputs": [],
      "source": [
        "import torch\n",
        "from torch import nn\n",
        "import torch.nn.functional as F\n",
        "import torch.optim as optim\n",
        "from torch.utils.data import Dataset, DataLoader\n",
        "import gluonnlp as nlp\n",
        "import numpy as np\n",
        "from tqdm import tqdm, tqdm_notebook\n",
        "from kobert.utils import get_tokenizer # error 발생할 경우 런타임 다시 시작\n",
        "from kobert.pytorch_kobert import get_pytorch_kobert_model\n",
        "from transformers import AdamW\n",
        "from transformers.optimization import get_cosine_schedule_with_warmup"
      ],
      "id": "KpuTOny5366j"
    },
    {
      "cell_type": "code",
      "execution_count": 35,
      "metadata": {
        "id": "RuRlZJpf4Inf"
      },
      "outputs": [],
      "source": [
        "device = torch.device(\"cuda:0\")"
      ],
      "id": "RuRlZJpf4Inf"
    },
    {
      "cell_type": "code",
      "execution_count": 36,
      "metadata": {
        "colab": {
          "base_uri": "https://localhost:8080/"
        },
        "id": "aLFZw8bw5Cmk",
        "outputId": "f6e13e99-075a-4ac8-ca10-80afb676d52d"
      },
      "outputs": [
        {
          "output_type": "stream",
          "name": "stdout",
          "text": [
            "using cached model. /content/drive/My Drive/data/KoBERT-master/.cache/kobert_v1.zip\n",
            "using cached model. /content/drive/My Drive/data/KoBERT-master/.cache/kobert_news_wiki_ko_cased-1087f8699e.spiece\n"
          ]
        }
      ],
      "source": [
        "#bert 모델, vocab 불러오기\n",
        "bertmodel, vocab = get_pytorch_kobert_model()"
      ],
      "id": "aLFZw8bw5Cmk"
    },
    {
      "cell_type": "markdown",
      "source": [
        "### 2) 데이터 변환"
      ],
      "metadata": {
        "id": "gnGZpucixKSB"
      },
      "id": "gnGZpucixKSB"
    },
    {
      "cell_type": "code",
      "execution_count": 37,
      "metadata": {
        "colab": {
          "base_uri": "https://localhost:8080/",
          "height": 206
        },
        "id": "G7KhRKUV5DFE",
        "outputId": "fa082197-4ff1-4a24-a6b5-69bf67856bb4"
      },
      "outputs": [
        {
          "output_type": "execute_result",
          "data": {
            "text/html": [
              "\n",
              "  <div id=\"df-cbc6c4f7-1a31-426b-9455-2d233c403bab\">\n",
              "    <div class=\"colab-df-container\">\n",
              "      <div>\n",
              "<style scoped>\n",
              "    .dataframe tbody tr th:only-of-type {\n",
              "        vertical-align: middle;\n",
              "    }\n",
              "\n",
              "    .dataframe tbody tr th {\n",
              "        vertical-align: top;\n",
              "    }\n",
              "\n",
              "    .dataframe thead th {\n",
              "        text-align: right;\n",
              "    }\n",
              "</style>\n",
              "<table border=\"1\" class=\"dataframe\">\n",
              "  <thead>\n",
              "    <tr style=\"text-align: right;\">\n",
              "      <th></th>\n",
              "      <th>index</th>\n",
              "      <th>category</th>\n",
              "      <th>data</th>\n",
              "    </tr>\n",
              "  </thead>\n",
              "  <tbody>\n",
              "    <tr>\n",
              "      <th>0</th>\n",
              "      <td>0</td>\n",
              "      <td>2</td>\n",
              "      <td>신혼부부위한 주택정책 보다 보육시설 늘려주세요 국민세금으로 일부를 위한 정책펴지 마...</td>\n",
              "    </tr>\n",
              "    <tr>\n",
              "      <th>1</th>\n",
              "      <td>1</td>\n",
              "      <td>0</td>\n",
              "      <td>학교이름에 남자도 붙여주세요 울산여자중학교에 재학중인 학생입니다 최근 양성평등 글짓...</td>\n",
              "    </tr>\n",
              "    <tr>\n",
              "      <th>2</th>\n",
              "      <td>2</td>\n",
              "      <td>1</td>\n",
              "      <td>빙상연맹 대한축구협회등 각종 체육협회의 비리를 철저하게 밝혀주세요 최근 동계올림픽에...</td>\n",
              "    </tr>\n",
              "    <tr>\n",
              "      <th>3</th>\n",
              "      <td>3</td>\n",
              "      <td>1</td>\n",
              "      <td>티비 세세 관람가도 연령확인 의무화 하자 제기 에전에 티비를 보다가 잠시 딴일이 생...</td>\n",
              "    </tr>\n",
              "    <tr>\n",
              "      <th>4</th>\n",
              "      <td>4</td>\n",
              "      <td>1</td>\n",
              "      <td>무더운 여름철엔 남성들도 시원한 자율복장을 해야 무더운 여름철에는 남성들도 노넥타이...</td>\n",
              "    </tr>\n",
              "  </tbody>\n",
              "</table>\n",
              "</div>\n",
              "      <button class=\"colab-df-convert\" onclick=\"convertToInteractive('df-cbc6c4f7-1a31-426b-9455-2d233c403bab')\"\n",
              "              title=\"Convert this dataframe to an interactive table.\"\n",
              "              style=\"display:none;\">\n",
              "        \n",
              "  <svg xmlns=\"http://www.w3.org/2000/svg\" height=\"24px\"viewBox=\"0 0 24 24\"\n",
              "       width=\"24px\">\n",
              "    <path d=\"M0 0h24v24H0V0z\" fill=\"none\"/>\n",
              "    <path d=\"M18.56 5.44l.94 2.06.94-2.06 2.06-.94-2.06-.94-.94-2.06-.94 2.06-2.06.94zm-11 1L8.5 8.5l.94-2.06 2.06-.94-2.06-.94L8.5 2.5l-.94 2.06-2.06.94zm10 10l.94 2.06.94-2.06 2.06-.94-2.06-.94-.94-2.06-.94 2.06-2.06.94z\"/><path d=\"M17.41 7.96l-1.37-1.37c-.4-.4-.92-.59-1.43-.59-.52 0-1.04.2-1.43.59L10.3 9.45l-7.72 7.72c-.78.78-.78 2.05 0 2.83L4 21.41c.39.39.9.59 1.41.59.51 0 1.02-.2 1.41-.59l7.78-7.78 2.81-2.81c.8-.78.8-2.07 0-2.86zM5.41 20L4 18.59l7.72-7.72 1.47 1.35L5.41 20z\"/>\n",
              "  </svg>\n",
              "      </button>\n",
              "      \n",
              "  <style>\n",
              "    .colab-df-container {\n",
              "      display:flex;\n",
              "      flex-wrap:wrap;\n",
              "      gap: 12px;\n",
              "    }\n",
              "\n",
              "    .colab-df-convert {\n",
              "      background-color: #E8F0FE;\n",
              "      border: none;\n",
              "      border-radius: 50%;\n",
              "      cursor: pointer;\n",
              "      display: none;\n",
              "      fill: #1967D2;\n",
              "      height: 32px;\n",
              "      padding: 0 0 0 0;\n",
              "      width: 32px;\n",
              "    }\n",
              "\n",
              "    .colab-df-convert:hover {\n",
              "      background-color: #E2EBFA;\n",
              "      box-shadow: 0px 1px 2px rgba(60, 64, 67, 0.3), 0px 1px 3px 1px rgba(60, 64, 67, 0.15);\n",
              "      fill: #174EA6;\n",
              "    }\n",
              "\n",
              "    [theme=dark] .colab-df-convert {\n",
              "      background-color: #3B4455;\n",
              "      fill: #D2E3FC;\n",
              "    }\n",
              "\n",
              "    [theme=dark] .colab-df-convert:hover {\n",
              "      background-color: #434B5C;\n",
              "      box-shadow: 0px 1px 3px 1px rgba(0, 0, 0, 0.15);\n",
              "      filter: drop-shadow(0px 1px 2px rgba(0, 0, 0, 0.3));\n",
              "      fill: #FFFFFF;\n",
              "    }\n",
              "  </style>\n",
              "\n",
              "      <script>\n",
              "        const buttonEl =\n",
              "          document.querySelector('#df-cbc6c4f7-1a31-426b-9455-2d233c403bab button.colab-df-convert');\n",
              "        buttonEl.style.display =\n",
              "          google.colab.kernel.accessAllowed ? 'block' : 'none';\n",
              "\n",
              "        async function convertToInteractive(key) {\n",
              "          const element = document.querySelector('#df-cbc6c4f7-1a31-426b-9455-2d233c403bab');\n",
              "          const dataTable =\n",
              "            await google.colab.kernel.invokeFunction('convertToInteractive',\n",
              "                                                     [key], {});\n",
              "          if (!dataTable) return;\n",
              "\n",
              "          const docLinkHtml = 'Like what you see? Visit the ' +\n",
              "            '<a target=\"_blank\" href=https://colab.research.google.com/notebooks/data_table.ipynb>data table notebook</a>'\n",
              "            + ' to learn more about interactive tables.';\n",
              "          element.innerHTML = '';\n",
              "          dataTable['output_type'] = 'display_data';\n",
              "          await google.colab.output.renderOutput(dataTable, element);\n",
              "          const docLink = document.createElement('div');\n",
              "          docLink.innerHTML = docLinkHtml;\n",
              "          element.appendChild(docLink);\n",
              "        }\n",
              "      </script>\n",
              "    </div>\n",
              "  </div>\n",
              "  "
            ],
            "text/plain": [
              "   index  category                                               data\n",
              "0      0         2  신혼부부위한 주택정책 보다 보육시설 늘려주세요 국민세금으로 일부를 위한 정책펴지 마...\n",
              "1      1         0  학교이름에 남자도 붙여주세요 울산여자중학교에 재학중인 학생입니다 최근 양성평등 글짓...\n",
              "2      2         1  빙상연맹 대한축구협회등 각종 체육협회의 비리를 철저하게 밝혀주세요 최근 동계올림픽에...\n",
              "3      3         1  티비 세세 관람가도 연령확인 의무화 하자 제기 에전에 티비를 보다가 잠시 딴일이 생...\n",
              "4      4         1  무더운 여름철엔 남성들도 시원한 자율복장을 해야 무더운 여름철에는 남성들도 노넥타이..."
            ]
          },
          "metadata": {},
          "execution_count": 37
        }
      ],
      "source": [
        "train[:5]"
      ],
      "id": "G7KhRKUV5DFE"
    },
    {
      "cell_type": "code",
      "execution_count": 38,
      "metadata": {
        "id": "uwz_hl_R5DMe"
      },
      "outputs": [],
      "source": [
        "dataset_train = nlp.data.TSVDataset('/content/drive/MyDrive/data/train_train.tsv', \n",
        "                                    field_indices=[2,1], num_discard_samples=1)\n",
        "dataset_test = nlp.data.TSVDataset('/content/drive/MyDrive/data/train_validation.tsv', \n",
        "                                   field_indices=[2,1], num_discard_samples=1)\n"
      ],
      "id": "uwz_hl_R5DMe"
    },
    {
      "cell_type": "code",
      "execution_count": 39,
      "metadata": {
        "colab": {
          "base_uri": "https://localhost:8080/"
        },
        "id": "qFdLt0f248Cv",
        "outputId": "558b7cc7-88e0-4f85-c13a-62b41ac5e8b7"
      },
      "outputs": [
        {
          "output_type": "execute_result",
          "data": {
            "text/plain": [
              "['신혼부부위한 주택정책 보다 보육시설 늘려주세요 국민세금으로 일부를 위한 정책펴지 마시고보편적으로 모든국민이 수긍할  수 있는 복지정책 펴 주시길 바랍니다저도 신혼부부이지만 당첨되는 사람 로또되는 이런주택정책 반대합니다국민세금을 일부 사람들에게 퍼주기식이 되면 안되죠그 세금으로 우리아이 안전하게 맡길 수 있는 보육시설을 전국에 설치해 주세요대기업들은 솔선수범해서 모든 사업장에 의무설치 할 수 있도록 하시구요집 보다 애 맡길데가 없어 경력단절 되는게 더 괴롭습니다집은 개인의 능력을 키워 사는게 맞습니다그 능력을 키울수 있도록 육아 전담에 힘을 기울이는게 맞습니다우리아이 부모가 키우는거 맞지만 이제는 국가가책임지는 시대로 가는게 맞다고 봅니다그렇잖아도 부동산 가격 자꾸 올라가는게 정부정책이 잘못 되었다고 봅니다부동산은 그냥 내버려 두세요  좀건들수록 역효과네요',\n",
              " '2']"
            ]
          },
          "metadata": {},
          "execution_count": 39
        }
      ],
      "source": [
        "dataset_train[0]"
      ],
      "id": "qFdLt0f248Cv"
    },
    {
      "cell_type": "code",
      "execution_count": 40,
      "metadata": {
        "id": "4e8_ziDOCppP"
      },
      "outputs": [],
      "source": [
        "## Setting parameters\n",
        "max_len = 500\n",
        "batch_size = 2\n",
        "warmup_ratio = 0.1\n",
        "num_epochs = 5\n",
        "max_grad_norm = 1\n",
        "log_interval = 200\n",
        "learning_rate =  5e-5"
      ],
      "id": "4e8_ziDOCppP"
    },
    {
      "cell_type": "code",
      "execution_count": 44,
      "metadata": {
        "id": "1l75exFcCmwT"
      },
      "outputs": [],
      "source": [
        "class BERTDataset(Dataset):\n",
        "    def __init__(self, dataset, sent_idx, label_idx, bert_tokenizer, max_len,\n",
        "                 pad, pair):\n",
        "        transform = nlp.data.BERTSentenceTransform(\n",
        "            bert_tokenizer, max_seq_length=max_len, pad=pad, pair=pair)\n",
        "\n",
        "        self.sentences = [transform([i[sent_idx]]) for i in dataset]\n",
        "        self.labels = [np.int32(i[label_idx]) for i in dataset]\n",
        "\n",
        "    def __getitem__(self, i):\n",
        "        return (self.sentences[i] + (self.labels[i], ))\n",
        "\n",
        "    def __len__(self):\n",
        "        return (len(self.labels))"
      ],
      "id": "1l75exFcCmwT"
    },
    {
      "cell_type": "code",
      "execution_count": 45,
      "metadata": {
        "colab": {
          "base_uri": "https://localhost:8080/"
        },
        "id": "sDx7gHSeCmqn",
        "outputId": "30285cd5-1ccf-4713-f63b-259e01daf529"
      },
      "outputs": [
        {
          "output_type": "stream",
          "name": "stdout",
          "text": [
            "using cached model. /content/drive/My Drive/data/KoBERT-master/.cache/kobert_news_wiki_ko_cased-1087f8699e.spiece\n"
          ]
        }
      ],
      "source": [
        "#토큰화\n",
        "tokenizer = get_tokenizer()\n",
        "tok = nlp.data.BERTSPTokenizer(tokenizer, vocab, lower=False)\n",
        "\n",
        "#BERTDataset 클래스 이용, TensorDataset으로 만들어주기\n",
        "data_train = BERTDataset(dataset_train, 0, 1, tok, max_len, True, False)\n",
        "data_test = BERTDataset(dataset_test, 0, 1, tok, max_len, True, False)"
      ],
      "id": "sDx7gHSeCmqn"
    },
    {
      "cell_type": "code",
      "execution_count": 46,
      "metadata": {
        "colab": {
          "base_uri": "https://localhost:8080/"
        },
        "id": "xZi1tNgsCmkt",
        "outputId": "226e7662-b655-4c06-f8f0-665ca6e85eb1"
      },
      "outputs": [
        {
          "output_type": "stream",
          "name": "stderr",
          "text": [
            "/usr/local/lib/python3.7/dist-packages/torch/utils/data/dataloader.py:481: UserWarning: This DataLoader will create 4 worker processes in total. Our suggested max number of worker in current system is 2, which is smaller than what this DataLoader is going to create. Please be aware that excessive worker creation might get DataLoader running slow or even freeze, lower the worker number to avoid potential slowness/freeze if necessary.\n",
            "  cpuset_checked))\n"
          ]
        }
      ],
      "source": [
        "#배치 및 데이터로더 설정\n",
        "train_dataloader = torch.utils.data.DataLoader(data_train, batch_size=batch_size, num_workers=4)\n",
        "test_dataloader = torch.utils.data.DataLoader(data_test, batch_size=batch_size, num_workers=4)\n"
      ],
      "id": "xZi1tNgsCmkt"
    },
    {
      "cell_type": "markdown",
      "metadata": {
        "id": "T8VIIeJTFBwy"
      },
      "source": [
        "---"
      ],
      "id": "T8VIIeJTFBwy"
    },
    {
      "cell_type": "markdown",
      "source": [
        "### 3) 모델 학습"
      ],
      "metadata": {
        "id": "RfLDxWYTxfI7"
      },
      "id": "RfLDxWYTxfI7"
    },
    {
      "cell_type": "code",
      "execution_count": 47,
      "metadata": {
        "id": "2FDSpkIdEwCn"
      },
      "outputs": [],
      "source": [
        "class BERTClassifier(nn.Module):\n",
        "    def __init__(self,\n",
        "                 bert,\n",
        "                 hidden_size = 768,\n",
        "                 num_classes=3, ##주의: 클래스 수 바꾸어 주세요!##\n",
        "                 dr_rate=None,\n",
        "                 params=None):\n",
        "        super(BERTClassifier, self).__init__()\n",
        "        self.bert = bert\n",
        "        self.dr_rate = dr_rate\n",
        "                 \n",
        "        self.classifier = nn.Linear(hidden_size , num_classes)\n",
        "        if dr_rate:\n",
        "            self.dropout = nn.Dropout(p=dr_rate)\n",
        "    \n",
        "    def gen_attention_mask(self, token_ids, valid_length):\n",
        "        attention_mask = torch.zeros_like(token_ids)\n",
        "        for i, v in enumerate(valid_length):\n",
        "            attention_mask[i][:v] = 1\n",
        "        return attention_mask.float()\n",
        "\n",
        "    def forward(self, token_ids, valid_length, segment_ids):\n",
        "        attention_mask = self.gen_attention_mask(token_ids, valid_length)\n",
        "        \n",
        "        _, pooler = self.bert(input_ids = token_ids, token_type_ids = segment_ids.long(), attention_mask = attention_mask.float().to(token_ids.device))\n",
        "        if self.dr_rate:\n",
        "            out = self.dropout(pooler)\n",
        "        return self.classifier(out)"
      ],
      "id": "2FDSpkIdEwCn"
    },
    {
      "cell_type": "code",
      "execution_count": 48,
      "metadata": {
        "id": "LRWOapj8Ev1s"
      },
      "outputs": [],
      "source": [
        "model = BERTClassifier(bertmodel, dr_rate=0.5).to(device) #gpu"
      ],
      "id": "LRWOapj8Ev1s"
    },
    {
      "cell_type": "code",
      "execution_count": 49,
      "metadata": {
        "id": "dYDzggkyEvyw"
      },
      "outputs": [],
      "source": [
        "# Prepare optimizer and schedule (linear warmup and decay)\n",
        "no_decay = ['bias', 'LayerNorm.weight']\n",
        "optimizer_grouped_parameters = [\n",
        "    {'params': [p for n, p in model.named_parameters() if not any(nd in n for nd in no_decay)], 'weight_decay': 0.01},\n",
        "    {'params': [p for n, p in model.named_parameters() if any(nd in n for nd in no_decay)], 'weight_decay': 0.0}\n",
        "]\n",
        "\n",
        "optimizer = AdamW(optimizer_grouped_parameters, lr=learning_rate)\n",
        "loss_fn = nn.CrossEntropyLoss()\n",
        "\n",
        "t_total = len(train_dataloader) * num_epochs\n",
        "warmup_step = int(t_total * warmup_ratio)\n",
        "\n",
        "scheduler = get_cosine_schedule_with_warmup(optimizer, num_warmup_steps=warmup_step, num_training_steps=t_total)\n"
      ],
      "id": "dYDzggkyEvyw"
    },
    {
      "cell_type": "code",
      "execution_count": 50,
      "metadata": {
        "id": "6fb8COurFJtY"
      },
      "outputs": [],
      "source": [
        "def calc_accuracy(X,Y):\n",
        "    max_vals, max_indices = torch.max(X, 1)\n",
        "    train_acc = (max_indices == Y).sum().data.cpu().numpy()/max_indices.size()[0]\n",
        "    return train_acc"
      ],
      "id": "6fb8COurFJtY"
    },
    {
      "cell_type": "markdown",
      "metadata": {
        "id": "WoAMQt6FFMwM"
      },
      "source": [
        "# 학습"
      ],
      "id": "WoAMQt6FFMwM"
    },
    {
      "cell_type": "code",
      "execution_count": null,
      "metadata": {
        "colab": {
          "background_save": true,
          "base_uri": "https://localhost:8080/",
          "height": 950,
          "referenced_widgets": [
            "7503baaaaa1541df9668301dacc4f450",
            "cf718d8c61774fd7a639cd57ebff887d",
            "5371466cdea94c239d92cd2659270782",
            "b15080aa07cc4b49917966e2fbf5cbdb",
            "ebeeeed50725497196a44df3b3ef2e19",
            "ae10220e4d064247a22e58bb19262b1d",
            "e85e843ed6dc4e72a2129fdd4ada16fd",
            "398a5e394bcf42f79bb3d8a6b9f2db0b",
            "1961107de0024c5ba26658bbdfb73685",
            "c895a39c1ee54361a4cc6d04f4605e50",
            "172b139254024254bad3102fd83d000c"
          ]
        },
        "id": "1MESo1EiFJqF",
        "outputId": "8a911734-d7d9-4da5-9498-76df9398280f"
      },
      "outputs": [
        {
          "output_type": "stream",
          "name": "stderr",
          "text": [
            "/usr/local/lib/python3.7/dist-packages/ipykernel_launcher.py:6: TqdmDeprecationWarning: This function will be removed in tqdm==5.0.0\n",
            "Please use `tqdm.notebook.tqdm` instead of `tqdm.tqdm_notebook`\n",
            "  \n"
          ]
        },
        {
          "output_type": "display_data",
          "data": {
            "application/vnd.jupyter.widget-view+json": {
              "model_id": "7503baaaaa1541df9668301dacc4f450",
              "version_minor": 0,
              "version_major": 2
            },
            "text/plain": [
              "  0%|          | 0/15000 [00:00<?, ?it/s]"
            ]
          },
          "metadata": {}
        },
        {
          "output_type": "stream",
          "name": "stderr",
          "text": [
            "/usr/local/lib/python3.7/dist-packages/torch/utils/data/dataloader.py:481: UserWarning: This DataLoader will create 4 worker processes in total. Our suggested max number of worker in current system is 2, which is smaller than what this DataLoader is going to create. Please be aware that excessive worker creation might get DataLoader running slow or even freeze, lower the worker number to avoid potential slowness/freeze if necessary.\n",
            "  cpuset_checked))\n"
          ]
        },
        {
          "output_type": "stream",
          "name": "stdout",
          "text": [
            "epoch 1 batch id 1 loss 1.4836046695709229 train acc 0.5\n",
            "epoch 1 batch id 201 loss 0.9606243371963501 train acc 0.32338308457711445\n",
            "epoch 1 batch id 401 loss 1.090392827987671 train acc 0.3341645885286783\n",
            "epoch 1 batch id 601 loss 0.9149004220962524 train acc 0.3752079866888519\n",
            "epoch 1 batch id 801 loss 0.6198902130126953 train acc 0.4307116104868914\n",
            "epoch 1 batch id 1001 loss 0.23215359449386597 train acc 0.4945054945054945\n",
            "epoch 1 batch id 1201 loss 0.25908270478248596 train acc 0.5424646128226478\n",
            "epoch 1 batch id 1401 loss 0.029026519507169724 train acc 0.5852962169878658\n",
            "epoch 1 batch id 1601 loss 0.024683753028512 train acc 0.6174266083697689\n",
            "epoch 1 batch id 1801 loss 0.00945383682847023 train acc 0.6399222654081066\n",
            "epoch 1 batch id 2001 loss 0.009697494097054005 train acc 0.6606696651674163\n",
            "epoch 1 batch id 2201 loss 0.01929604820907116 train acc 0.6774193548387096\n",
            "epoch 1 batch id 2401 loss 0.01265941746532917 train acc 0.6899208663057059\n",
            "epoch 1 batch id 2601 loss 0.004005064256489277 train acc 0.7014609765474817\n",
            "epoch 1 batch id 2801 loss 0.0230556707829237 train acc 0.7113530881827919\n",
            "epoch 1 batch id 3001 loss 4.530020713806152 train acc 0.7215928023992003\n",
            "epoch 1 batch id 3201 loss 2.5706229209899902 train acc 0.7285223367697594\n",
            "epoch 1 batch id 3401 loss 0.00978143885731697 train acc 0.735665980593943\n",
            "epoch 1 batch id 3601 loss 0.0071589332073926926 train acc 0.7409053040821993\n",
            "epoch 1 batch id 3801 loss 0.0059901028871536255 train acc 0.7449355432780848\n",
            "epoch 1 batch id 4001 loss 1.1585301160812378 train acc 0.7504373906523369\n",
            "epoch 1 batch id 4201 loss 0.011797474697232246 train acc 0.7550583194477505\n",
            "epoch 1 batch id 4401 loss 2.4919545650482178 train acc 0.7585775960009089\n",
            "epoch 1 batch id 4601 loss 2.0595664978027344 train acc 0.7622256031297544\n",
            "epoch 1 batch id 4801 loss 0.01470827218145132 train acc 0.7656738179545928\n",
            "epoch 1 batch id 5001 loss 1.1166996955871582 train acc 0.768246350729854\n",
            "epoch 1 batch id 5201 loss 0.009754685685038567 train acc 0.7711978465679677\n",
            "epoch 1 batch id 5401 loss 2.5760250091552734 train acc 0.7738381781151639\n",
            "epoch 1 batch id 5601 loss 0.02961917035281658 train acc 0.7762006784502767\n",
            "epoch 1 batch id 5801 loss 0.005835846997797489 train acc 0.7788312359937942\n",
            "epoch 1 batch id 6001 loss 2.774350881576538 train acc 0.7797867022162973\n",
            "epoch 1 batch id 6201 loss 1.871523380279541 train acc 0.7813255926463474\n",
            "epoch 1 batch id 6401 loss 0.0037620561197400093 train acc 0.7823777534760193\n",
            "epoch 1 batch id 6601 loss 2.980231285095215 train acc 0.7844266020299955\n",
            "epoch 1 batch id 6801 loss 0.0098152169957757 train acc 0.7863549478017938\n",
            "epoch 1 batch id 7001 loss 2.6062660217285156 train acc 0.7878160262819597\n",
            "epoch 1 batch id 7201 loss 0.008034843020141125 train acc 0.7889876406054714\n",
            "epoch 1 batch id 7401 loss 0.018389668315649033 train acc 0.7895554654776381\n",
            "epoch 1 batch id 7601 loss 0.010388235561549664 train acc 0.7908169977634522\n",
            "epoch 1 batch id 7801 loss 2.605349063873291 train acc 0.7915651839507756\n",
            "epoch 1 batch id 8001 loss 0.008405204862356186 train acc 0.7929008873890764\n",
            "epoch 1 batch id 8201 loss 0.20097924768924713 train acc 0.7929520790147543\n",
            "epoch 1 batch id 8401 loss 0.01365114189684391 train acc 0.7935960004761338\n"
          ]
        }
      ],
      "source": [
        "for e in range(num_epochs):\n",
        "    torch.cuda.empty_cache()\n",
        "    train_acc = 0.0\n",
        "    test_acc = 0.0\n",
        "    model.train()\n",
        "    for batch_id, (token_ids, valid_length, segment_ids, label) in enumerate(tqdm_notebook(train_dataloader)):\n",
        "        optimizer.zero_grad()\n",
        "        token_ids = token_ids.long().to(device)\n",
        "        segment_ids = segment_ids.long().to(device)\n",
        "        valid_length= valid_length\n",
        "        label = label.long().to(device)\n",
        "        out = model(token_ids, valid_length, segment_ids)\n",
        "        # copiedOut = out.data.cpu().numpy()\n",
        "        # del out\n",
        "        # torch.cuda.empty_cache()\n",
        "\n",
        "        loss = loss_fn(out, label)\n",
        "        loss.backward()\n",
        "        torch.nn.utils.clip_grad_norm_(model.parameters(), max_grad_norm)\n",
        "        optimizer.step()\n",
        "        scheduler.step()  # Update learning rate schedule\n",
        "        train_acc += calc_accuracy(out, label)\n",
        "        if batch_id % log_interval == 0:\n",
        "            print(\"epoch {} batch id {} loss {} train acc {}\".format(e+1, batch_id+1, loss.data.cpu().numpy(), train_acc / (batch_id+1)))\n",
        "    print(\"epoch {} train acc {}\".format(e+1, train_acc / (batch_id+1)))\n",
        "    model.eval()\n",
        "    for batch_id, (token_ids, valid_length, segment_ids, label) in enumerate(tqdm_notebook(test_dataloader)):\n",
        "        token_ids = token_ids.long().to(device)\n",
        "        segment_ids = segment_ids.long().to(device)\n",
        "        valid_length= valid_length\n",
        "        label = label.long().to(device)\n",
        "        out = model(token_ids, valid_length, segment_ids)\n",
        "        test_acc += calc_accuracy(out, label)\n",
        "    print(\"epoch {} validation acc {}\".format(e+1, test_acc / (batch_id+1)))"
      ],
      "id": "1MESo1EiFJqF"
    },
    {
      "cell_type": "code",
      "execution_count": null,
      "metadata": {
        "id": "Mqz8wXRSFJok"
      },
      "outputs": [],
      "source": [
        "import gc\n",
        "gc.collect()\n",
        "torch.cuda.empty_cache()"
      ],
      "id": "Mqz8wXRSFJok"
    },
    {
      "cell_type": "code",
      "execution_count": null,
      "metadata": {
        "colab": {
          "base_uri": "https://localhost:8080/"
        },
        "id": "CE8gVVWoFJj7",
        "outputId": "260981f3-91fd-4a86-f351-9154d0f01fc3"
      },
      "outputs": [
        {
          "name": "stdout",
          "output_type": "stream",
          "text": [
            "Gen RAM Free: 10.5 GB  | Proc size: 5.3 GB\n",
            "GPU RAM Free: 4184MB | Used: 7257MB | Util  63% | Total 11441MB\n"
          ]
        }
      ],
      "source": [
        "# memory footprint support libraries/code\n",
        "!ln -sf /opt/bin/nvidia-smi /usr/bin/nvidia-smi\n",
        "# !pip install gputil\n",
        "# !pip install psutil\n",
        "# !pip install humanize\n",
        "\n",
        "import psutil\n",
        "import humanize\n",
        "import os\n",
        "import GPUtil as GPU\n",
        "GPUs = GPU.getGPUs()\n",
        "# XXX: only one GPU on Colab and isn’t guaranteed\n",
        "gpu = GPUs[0]\n",
        "def printm():\n",
        " process = psutil.Process(os.getpid())\n",
        " print(\"Gen RAM Free: \" + humanize.naturalsize( psutil.virtual_memory().available ), \" | Proc size: \" + humanize.naturalsize( process.memory_info().rss))\n",
        " print(\"GPU RAM Free: {0:.0f}MB | Used: {1:.0f}MB | Util {2:3.0f}% | Total {3:.0f}MB\".format(gpu.memoryFree, gpu.memoryUsed, gpu.memoryUtil*100, gpu.memoryTotal))\n",
        "printm()"
      ],
      "id": "CE8gVVWoFJj7"
    },
    {
      "cell_type": "markdown",
      "metadata": {
        "id": "R1l633plUnX6"
      },
      "source": [
        "---\n",
        "# 테스트\n",
        "- category 임의로 생성"
      ],
      "id": "R1l633plUnX6"
    },
    {
      "cell_type": "code",
      "execution_count": null,
      "metadata": {
        "id": "BlNWmwVJUo9i"
      },
      "outputs": [],
      "source": [
        "new_test = nlp.data.TSVDataset('/content/drive/MyDrive/data/test.tsv', field_indices=[1,2], num_discard_samples=1)\n",
        "test_set = BERTDataset(new_test , 0, 1, tok, max_len, True, False)\n",
        "test_input = torch.utils.data.DataLoader(test_set, batch_size=1, num_workers=4)"
      ],
      "id": "BlNWmwVJUo9i"
    },
    {
      "cell_type": "code",
      "execution_count": null,
      "metadata": {
        "id": "NiIEiRm3TNSQ"
      },
      "outputs": [],
      "source": [
        "pred = []\n",
        "for batch_id, (token_ids, valid_length, segment_ids, label) in enumerate(tqdm_notebook(test_input)): \n",
        "  token_ids = token_ids.long().to(device) \n",
        "  segment_ids = segment_ids.long().to(device) \n",
        "  valid_length= valid_length \n",
        "  out = model(token_ids, valid_length, segment_ids)\n",
        "  prediction = out.cpu().detach().numpy().argmax()\n",
        "  print(batch_id + \"번째 문장의 분류 예측값은\" + prediction + \"입니다.\")\n",
        "  pred.append(prediction)"
      ],
      "id": "NiIEiRm3TNSQ"
    },
    {
      "cell_type": "code",
      "execution_count": null,
      "metadata": {
        "id": "byQeKfsoTNQL"
      },
      "outputs": [],
      "source": [
        ""
      ],
      "id": "byQeKfsoTNQL"
    },
    {
      "cell_type": "code",
      "execution_count": null,
      "metadata": {
        "id": "A2rXu_DdTNLW"
      },
      "outputs": [],
      "source": [
        ""
      ],
      "id": "A2rXu_DdTNLW"
    }
  ],
  "metadata": {
    "accelerator": "GPU",
    "colab": {
      "name": "1227 Kobert 학습.ipynb",
      "provenance": []
    },
    "kernelspec": {
      "display_name": "Python 3 (ipykernel)",
      "language": "python",
      "name": "python3"
    },
    "language_info": {
      "codemirror_mode": {
        "name": "ipython",
        "version": 3
      },
      "file_extension": ".py",
      "mimetype": "text/x-python",
      "name": "python",
      "nbconvert_exporter": "python",
      "pygments_lexer": "ipython3",
      "version": "3.8.12"
    },
    "widgets": {
      "application/vnd.jupyter.widget-state+json": {
        "7503baaaaa1541df9668301dacc4f450": {
          "model_module": "@jupyter-widgets/controls",
          "model_name": "HBoxModel",
          "model_module_version": "1.5.0",
          "state": {
            "_view_name": "HBoxView",
            "_dom_classes": [],
            "_model_name": "HBoxModel",
            "_view_module": "@jupyter-widgets/controls",
            "_model_module_version": "1.5.0",
            "_view_count": null,
            "_view_module_version": "1.5.0",
            "box_style": "",
            "layout": "IPY_MODEL_cf718d8c61774fd7a639cd57ebff887d",
            "_model_module": "@jupyter-widgets/controls",
            "children": [
              "IPY_MODEL_5371466cdea94c239d92cd2659270782",
              "IPY_MODEL_b15080aa07cc4b49917966e2fbf5cbdb",
              "IPY_MODEL_ebeeeed50725497196a44df3b3ef2e19"
            ]
          }
        },
        "cf718d8c61774fd7a639cd57ebff887d": {
          "model_module": "@jupyter-widgets/base",
          "model_name": "LayoutModel",
          "model_module_version": "1.2.0",
          "state": {
            "_view_name": "LayoutView",
            "grid_template_rows": null,
            "right": null,
            "justify_content": null,
            "_view_module": "@jupyter-widgets/base",
            "overflow": null,
            "_model_module_version": "1.2.0",
            "_view_count": null,
            "flex_flow": null,
            "width": null,
            "min_width": null,
            "border": null,
            "align_items": null,
            "bottom": null,
            "_model_module": "@jupyter-widgets/base",
            "top": null,
            "grid_column": null,
            "overflow_y": null,
            "overflow_x": null,
            "grid_auto_flow": null,
            "grid_area": null,
            "grid_template_columns": null,
            "flex": null,
            "_model_name": "LayoutModel",
            "justify_items": null,
            "grid_row": null,
            "max_height": null,
            "align_content": null,
            "visibility": null,
            "align_self": null,
            "height": null,
            "min_height": null,
            "padding": null,
            "grid_auto_rows": null,
            "grid_gap": null,
            "max_width": null,
            "order": null,
            "_view_module_version": "1.2.0",
            "grid_template_areas": null,
            "object_position": null,
            "object_fit": null,
            "grid_auto_columns": null,
            "margin": null,
            "display": null,
            "left": null
          }
        },
        "5371466cdea94c239d92cd2659270782": {
          "model_module": "@jupyter-widgets/controls",
          "model_name": "HTMLModel",
          "model_module_version": "1.5.0",
          "state": {
            "_view_name": "HTMLView",
            "style": "IPY_MODEL_ae10220e4d064247a22e58bb19262b1d",
            "_dom_classes": [],
            "description": "",
            "_model_name": "HTMLModel",
            "placeholder": "​",
            "_view_module": "@jupyter-widgets/controls",
            "_model_module_version": "1.5.0",
            "value": " 57%",
            "_view_count": null,
            "_view_module_version": "1.5.0",
            "description_tooltip": null,
            "_model_module": "@jupyter-widgets/controls",
            "layout": "IPY_MODEL_e85e843ed6dc4e72a2129fdd4ada16fd"
          }
        },
        "b15080aa07cc4b49917966e2fbf5cbdb": {
          "model_module": "@jupyter-widgets/controls",
          "model_name": "FloatProgressModel",
          "model_module_version": "1.5.0",
          "state": {
            "_view_name": "ProgressView",
            "style": "IPY_MODEL_398a5e394bcf42f79bb3d8a6b9f2db0b",
            "_dom_classes": [],
            "description": "",
            "_model_name": "FloatProgressModel",
            "bar_style": "",
            "max": 15000,
            "_view_module": "@jupyter-widgets/controls",
            "_model_module_version": "1.5.0",
            "value": 8513,
            "_view_count": null,
            "_view_module_version": "1.5.0",
            "orientation": "horizontal",
            "min": 0,
            "description_tooltip": null,
            "_model_module": "@jupyter-widgets/controls",
            "layout": "IPY_MODEL_1961107de0024c5ba26658bbdfb73685"
          }
        },
        "ebeeeed50725497196a44df3b3ef2e19": {
          "model_module": "@jupyter-widgets/controls",
          "model_name": "HTMLModel",
          "model_module_version": "1.5.0",
          "state": {
            "_view_name": "HTMLView",
            "style": "IPY_MODEL_c895a39c1ee54361a4cc6d04f4605e50",
            "_dom_classes": [],
            "description": "",
            "_model_name": "HTMLModel",
            "placeholder": "​",
            "_view_module": "@jupyter-widgets/controls",
            "_model_module_version": "1.5.0",
            "value": " 8513/15000 [1:07:16&lt;51:20,  2.11it/s]",
            "_view_count": null,
            "_view_module_version": "1.5.0",
            "description_tooltip": null,
            "_model_module": "@jupyter-widgets/controls",
            "layout": "IPY_MODEL_172b139254024254bad3102fd83d000c"
          }
        },
        "ae10220e4d064247a22e58bb19262b1d": {
          "model_module": "@jupyter-widgets/controls",
          "model_name": "DescriptionStyleModel",
          "model_module_version": "1.5.0",
          "state": {
            "_view_name": "StyleView",
            "_model_name": "DescriptionStyleModel",
            "description_width": "",
            "_view_module": "@jupyter-widgets/base",
            "_model_module_version": "1.5.0",
            "_view_count": null,
            "_view_module_version": "1.2.0",
            "_model_module": "@jupyter-widgets/controls"
          }
        },
        "e85e843ed6dc4e72a2129fdd4ada16fd": {
          "model_module": "@jupyter-widgets/base",
          "model_name": "LayoutModel",
          "model_module_version": "1.2.0",
          "state": {
            "_view_name": "LayoutView",
            "grid_template_rows": null,
            "right": null,
            "justify_content": null,
            "_view_module": "@jupyter-widgets/base",
            "overflow": null,
            "_model_module_version": "1.2.0",
            "_view_count": null,
            "flex_flow": null,
            "width": null,
            "min_width": null,
            "border": null,
            "align_items": null,
            "bottom": null,
            "_model_module": "@jupyter-widgets/base",
            "top": null,
            "grid_column": null,
            "overflow_y": null,
            "overflow_x": null,
            "grid_auto_flow": null,
            "grid_area": null,
            "grid_template_columns": null,
            "flex": null,
            "_model_name": "LayoutModel",
            "justify_items": null,
            "grid_row": null,
            "max_height": null,
            "align_content": null,
            "visibility": null,
            "align_self": null,
            "height": null,
            "min_height": null,
            "padding": null,
            "grid_auto_rows": null,
            "grid_gap": null,
            "max_width": null,
            "order": null,
            "_view_module_version": "1.2.0",
            "grid_template_areas": null,
            "object_position": null,
            "object_fit": null,
            "grid_auto_columns": null,
            "margin": null,
            "display": null,
            "left": null
          }
        },
        "398a5e394bcf42f79bb3d8a6b9f2db0b": {
          "model_module": "@jupyter-widgets/controls",
          "model_name": "ProgressStyleModel",
          "model_module_version": "1.5.0",
          "state": {
            "_view_name": "StyleView",
            "_model_name": "ProgressStyleModel",
            "description_width": "",
            "_view_module": "@jupyter-widgets/base",
            "_model_module_version": "1.5.0",
            "_view_count": null,
            "_view_module_version": "1.2.0",
            "bar_color": null,
            "_model_module": "@jupyter-widgets/controls"
          }
        },
        "1961107de0024c5ba26658bbdfb73685": {
          "model_module": "@jupyter-widgets/base",
          "model_name": "LayoutModel",
          "model_module_version": "1.2.0",
          "state": {
            "_view_name": "LayoutView",
            "grid_template_rows": null,
            "right": null,
            "justify_content": null,
            "_view_module": "@jupyter-widgets/base",
            "overflow": null,
            "_model_module_version": "1.2.0",
            "_view_count": null,
            "flex_flow": null,
            "width": null,
            "min_width": null,
            "border": null,
            "align_items": null,
            "bottom": null,
            "_model_module": "@jupyter-widgets/base",
            "top": null,
            "grid_column": null,
            "overflow_y": null,
            "overflow_x": null,
            "grid_auto_flow": null,
            "grid_area": null,
            "grid_template_columns": null,
            "flex": null,
            "_model_name": "LayoutModel",
            "justify_items": null,
            "grid_row": null,
            "max_height": null,
            "align_content": null,
            "visibility": null,
            "align_self": null,
            "height": null,
            "min_height": null,
            "padding": null,
            "grid_auto_rows": null,
            "grid_gap": null,
            "max_width": null,
            "order": null,
            "_view_module_version": "1.2.0",
            "grid_template_areas": null,
            "object_position": null,
            "object_fit": null,
            "grid_auto_columns": null,
            "margin": null,
            "display": null,
            "left": null
          }
        },
        "c895a39c1ee54361a4cc6d04f4605e50": {
          "model_module": "@jupyter-widgets/controls",
          "model_name": "DescriptionStyleModel",
          "model_module_version": "1.5.0",
          "state": {
            "_view_name": "StyleView",
            "_model_name": "DescriptionStyleModel",
            "description_width": "",
            "_view_module": "@jupyter-widgets/base",
            "_model_module_version": "1.5.0",
            "_view_count": null,
            "_view_module_version": "1.2.0",
            "_model_module": "@jupyter-widgets/controls"
          }
        },
        "172b139254024254bad3102fd83d000c": {
          "model_module": "@jupyter-widgets/base",
          "model_name": "LayoutModel",
          "model_module_version": "1.2.0",
          "state": {
            "_view_name": "LayoutView",
            "grid_template_rows": null,
            "right": null,
            "justify_content": null,
            "_view_module": "@jupyter-widgets/base",
            "overflow": null,
            "_model_module_version": "1.2.0",
            "_view_count": null,
            "flex_flow": null,
            "width": null,
            "min_width": null,
            "border": null,
            "align_items": null,
            "bottom": null,
            "_model_module": "@jupyter-widgets/base",
            "top": null,
            "grid_column": null,
            "overflow_y": null,
            "overflow_x": null,
            "grid_auto_flow": null,
            "grid_area": null,
            "grid_template_columns": null,
            "flex": null,
            "_model_name": "LayoutModel",
            "justify_items": null,
            "grid_row": null,
            "max_height": null,
            "align_content": null,
            "visibility": null,
            "align_self": null,
            "height": null,
            "min_height": null,
            "padding": null,
            "grid_auto_rows": null,
            "grid_gap": null,
            "max_width": null,
            "order": null,
            "_view_module_version": "1.2.0",
            "grid_template_areas": null,
            "object_position": null,
            "object_fit": null,
            "grid_auto_columns": null,
            "margin": null,
            "display": null,
            "left": null
          }
        }
      }
    }
  },
  "nbformat": 4,
  "nbformat_minor": 5
}